{
 "cells": [
  {
   "cell_type": "code",
   "execution_count": 1,
   "metadata": {},
   "outputs": [],
   "source": [
    "#pip install numpy==1.23.5\n",
    "#pip install pandas scipy matplotlib statsmodels\n",
    "#pip install torch\n",
    "#pip install pytorch_forecasting\n",
    "#pip install pyarrow\n",
    "#pip install tensorflow\n",
    "#pip install tensorboard"
   ]
  },
  {
   "cell_type": "code",
   "execution_count": 2,
   "metadata": {},
   "outputs": [],
   "source": [
    "# pip install seaborn"
   ]
  },
  {
   "cell_type": "code",
   "execution_count": 3,
   "metadata": {},
   "outputs": [],
   "source": [
    "import os\n",
    "import random\n",
    "import pickle\n",
    "\n",
    "# Data and plotting libraries\n",
    "import pandas as pd\n",
    "import seaborn as sns\n",
    "import matplotlib.pyplot as plt\n",
    "\n",
    "# PyTorch and PyTorch Lightning\n",
    "import torch\n",
    "import lightning.pytorch as pl\n",
    "from lightning.pytorch.callbacks import EarlyStopping, LearningRateMonitor, ModelCheckpoint\n",
    "from lightning.pytorch.loggers import TensorBoardLogger\n",
    "from lightning.pytorch.tuner import Tuner\n",
    "\n",
    "# PyTorch Forecasting\n",
    "import pytorch_forecasting\n",
    "from pytorch_forecasting import Baseline, TemporalFusionTransformer, TimeSeriesDataSet\n",
    "from pytorch_forecasting.data import GroupNormalizer\n",
    "from pytorch_forecasting.data.encoders import NaNLabelEncoder\n",
    "from pytorch_forecasting.metrics import MAE, SMAPE, PoissonLoss, QuantileLoss, CrossEntropy\n",
    "\n",
    "# Scikit-learn metrics\n",
    "from sklearn.metrics import (\n",
    "    accuracy_score,\n",
    "    precision_score,\n",
    "    recall_score,\n",
    "    f1_score,\n",
    "    roc_auc_score,\n",
    "    average_precision_score,\n",
    "    confusion_matrix,\n",
    "    roc_curve,\n",
    "    precision_recall_curve\n",
    ")"
   ]
  },
  {
   "cell_type": "code",
   "execution_count": 4,
   "metadata": {},
   "outputs": [
    {
     "name": "stdout",
     "output_type": "stream",
     "text": [
      "1.23.5\n"
     ]
    }
   ],
   "source": [
    "import numpy as np\n",
    "print(np.__version__)"
   ]
  },
  {
   "cell_type": "code",
   "execution_count": 7,
   "metadata": {},
   "outputs": [],
   "source": [
    "# Set Seed for all packages\n",
    "def set_seed(seed=42):\n",
    "    \"\"\"Set seeds to make the experiment more reproducible.\"\"\"\n",
    "    random.seed(seed)\n",
    "    np.random.seed(seed)\n",
    "    torch.manual_seed(seed)\n",
    "    torch.cuda.manual_seed(seed)\n",
    "    torch.cuda.manual_seed_all(seed)  # if you are using multi-GPU\n",
    "    torch.backends.cudnn.deterministic = True\n",
    "    torch.backends.cudnn.benchmark = False\n",
    "\n",
    "set_seed(42)"
   ]
  },
  {
   "cell_type": "code",
   "execution_count": 8,
   "metadata": {},
   "outputs": [],
   "source": [
    "def evaluate_tft_predictions(flat_labels, transformed_predictions, directory, model_name, threshold=None, beta=2):\n",
    "    sns.set()  # For better plot styling\n",
    "\n",
    "    # Ensure that the inputs are numpy arrays\n",
    "    flat_labels = np.array(flat_labels)\n",
    "    transformed_predictions = np.array(transformed_predictions)\n",
    "\n",
    "    # Use the max predicted probability across timesteps for each sample\n",
    "    max_predictions = np.max(transformed_predictions, axis=1)\n",
    "\n",
    "    # Compute mortality predictions based on the threshold (applied to the max probability per sample)\n",
    "    if threshold is not None:\n",
    "        # If a threshold is provided, use it to compute mortality predictions\n",
    "        mortality_predictions = (max_predictions > threshold).astype(int)\n",
    "    else:\n",
    "        # If no threshold is provided, compute the precision-recall curve and the best threshold based on F-beta score\n",
    "        precision_vals, recall_vals, thresholds = precision_recall_curve(flat_labels, max_predictions)\n",
    "\n",
    "        # Calculate F-beta scores for each possible threshold\n",
    "        f_beta_scores = (1 + beta**2) * (precision_vals * recall_vals) / ((beta**2 * precision_vals) + recall_vals)\n",
    "        f_beta_scores = np.nan_to_num(f_beta_scores)  # Handle \n",
    "\n",
    "        # Find the threshold that maximizes the F-beta score\n",
    "        optimal_idx = np.argmax(f_beta_scores)\n",
    "        best_threshold = thresholds[optimal_idx]\n",
    "        print(f\"Best Threshold based on F{beta} score: {best_threshold:.4f}\")\n",
    "\n",
    "        # Use the best threshold to compute mortality predictions\n",
    "        mortality_predictions = (max_predictions > best_threshold).astype(int)\n",
    "        threshold = best_threshold  # Set the threshold to the best threshold for reporting later\n",
    "\n",
    "    # Compute Accuracy\n",
    "    accuracy = accuracy_score(flat_labels, mortality_predictions)\n",
    "    print(f\"Accuracy: {accuracy:.4f}\")\n",
    "\n",
    "    # Compute Precision\n",
    "    precision = precision_score(flat_labels, mortality_predictions, zero_division=0)\n",
    "    print(f\"Precision: {precision:.4f}\")\n",
    "\n",
    "    # Compute Recall\n",
    "    recall = recall_score(flat_labels, mortality_predictions)\n",
    "    print(f\"Recall: {recall:.4f}\")\n",
    "\n",
    "    # Compute F1 Score\n",
    "    f1 = f1_score(flat_labels, mortality_predictions)\n",
    "    print(f\"F1 Score: {f1:.4f}\")\n",
    "\n",
    "    # Compute AUROC (Area Under the Receiver Operating Characteristic Curve)\n",
    "    roc_auc = roc_auc_score(flat_labels, max_predictions)\n",
    "    print(f\"AUROC: {roc_auc:.4f}\")\n",
    "\n",
    "    # Compute AUPRC (Area Under the Precision-Recall Curve)\n",
    "    auprc = average_precision_score(flat_labels, max_predictions)\n",
    "    print(f\"AUPRC: {auprc:.4f}\")\n",
    "\n",
    "    # Ensure the directory exists\n",
    "    if not os.path.exists(directory):\n",
    "        os.makedirs(directory)\n",
    "\n",
    "    # Save the confusion matrix\n",
    "    cm = confusion_matrix(flat_labels, mortality_predictions)\n",
    "    plt.figure(figsize=(6, 4))\n",
    "    sns.heatmap(cm, annot=True, fmt=\"d\", cmap='Blues')\n",
    "    plt.title(f'Confusion Matrix - {model_name}')\n",
    "    plt.ylabel('True Label')\n",
    "    plt.xlabel('Predicted Label')\n",
    "    plt.tight_layout()\n",
    "    plt.savefig(f'{directory}/{model_name}_confusion_matrix.png')\n",
    "    plt.close()  # Close the plot to avoid display\n",
    "\n",
    "    # Save performance metrics to a text file\n",
    "    metrics_filepath = f'{directory}/{model_name}_metrics.txt'\n",
    "    with open(metrics_filepath, 'w') as f:\n",
    "        f.write(f\"{model_name} Model Performance on Test Set:\\n\")\n",
    "        f.write(f\"Threshold used: {threshold:.4f}\\n\")\n",
    "        f.write(f\"Accuracy: {accuracy:.4f}\\n\")\n",
    "        f.write(f\"Precision: {precision:.4f}\\n\")\n",
    "        f.write(f\"Recall: {recall:.4f}\\n\")\n",
    "        f.write(f\"F1 Score: {f1:.4f}\\n\")\n",
    "        f.write(f\"AUROC: {roc_auc:.4f}\\n\")\n",
    "        f.write(f\"AUPRC: {auprc:.4f}\\n\")\n",
    "\n",
    "    print(f\"Performance metrics saved to: {metrics_filepath}\")\n"
   ]
  },
  {
   "cell_type": "markdown",
   "metadata": {},
   "source": [
    "# Load Data"
   ]
  },
  {
   "cell_type": "code",
   "execution_count": 9,
   "metadata": {},
   "outputs": [
    {
     "name": "stdout",
     "output_type": "stream",
     "text": [
      "Files for 1% subset loaded successfully.\n",
      "Number of stays: 475\n",
      "ICD Features shape: (475, 1458)\n",
      "Dynamic Features shape: (5700, 835)\n",
      "Demographic Features shape: (475, 4)\n"
     ]
    }
   ],
   "source": [
    "# Define the percentage to load\n",
    "percentage = '1%'  # Change this to '5%', '10%', etc., as needed\n",
    "\n",
    "# Base directory for the data subsets\n",
    "base_dir = f'./data/subsets/{percentage}_subsets/'\n",
    "\n",
    "# Load Labels\n",
    "labels = pd.read_csv(f'{base_dir}labels.csv')\n",
    "stay_ids = labels['stay_id'].unique()\n",
    "\n",
    "# Load static features\n",
    "icd_features = pd.read_pickle(f'{base_dir}icd_code_features.pkl')\n",
    "\n",
    "# Load summarized dynamic features\n",
    "dynamic_data_df = pd.read_pickle(f'{base_dir}dynamic_data_df.pkl')\n",
    "\n",
    "# Load demographic features\n",
    "demographic_features = pd.read_pickle(f'{base_dir}demographic_features.pkl')\n",
    "\n",
    "# Print information to confirm the files are loaded\n",
    "print(f\"Files for {percentage} subset loaded successfully.\")\n",
    "print(f\"Number of stays: {len(stay_ids)}\")\n",
    "print(f\"ICD Features shape: {icd_features.shape}\")\n",
    "print(f\"Dynamic Features shape: {dynamic_data_df.shape}\")\n",
    "print(f\"Demographic Features shape: {demographic_features.shape}\")"
   ]
  },
  {
   "cell_type": "code",
   "execution_count": 10,
   "metadata": {},
   "outputs": [],
   "source": [
    "# Concatenating the DataFrames along the columns (axis=1)\n",
    "all_static_features = pd.concat([icd_features, demographic_features], axis=1)\n",
    "\n",
    "# Flatten the multi-level columns into a single level\n",
    "flattened_columns = ['_'.join(map(str, col)) for col in dynamic_data_df.columns]\n",
    "\n",
    "# Update the DataFrame with flattened columns\n",
    "dynamic_data_df.columns = flattened_columns\n",
    "\n",
    "# Rename 'stay_id_' column to 'stay_id'\n",
    "dynamic_data_df = dynamic_data_df.rename(columns={'stay_id_': 'stay_id'})\n",
    "\n",
    "dynamic_data_df.index.names = ['time_idx']\n",
    "dynamic_data_df.reset_index(inplace=True)\n",
    "\n",
    "# Define dynamci columns\n",
    "dynamic_columns = dynamic_data_df.columns.difference(['time_idx', 'stay_id'])\n",
    "\n",
    "demographic_features.index.names = ['stay_id']\n",
    "\n",
    "full_data_df = pd.merge(dynamic_data_df, demographic_features, left_on='stay_id', right_index=True, how='left')\n",
    "\n",
    "# Merge the resulting data with labels (assuming labels has stay_id as a regular column)\n",
    "full_data_df = pd.merge(full_data_df, labels, on='stay_id', how='left')"
   ]
  },
  {
   "cell_type": "code",
   "execution_count": 11,
   "metadata": {},
   "outputs": [],
   "source": [
    "# Keeping the first 10 and the last 10 columns of the DataFrame\n",
    "#first_10_columns = full_data_df.iloc[:, :10]  # First 10 columns\n",
    "#last_10_columns = full_data_df.iloc[:, -10:]  # Last 10 columns\n",
    "\n",
    "# Concatenating the first 10 and last 10 columns\n",
    "#full_data_df = pd.concat([first_10_columns, last_10_columns], axis=1)"
   ]
  },
  {
   "cell_type": "code",
   "execution_count": 12,
   "metadata": {},
   "outputs": [],
   "source": [
    "# SUbset for faster testing\n",
    "#full_data_df = full_data_df[:1000]"
   ]
  },
  {
   "cell_type": "markdown",
   "metadata": {},
   "source": [
    "# Train Validation Test Split"
   ]
  },
  {
   "cell_type": "code",
   "execution_count": 13,
   "metadata": {},
   "outputs": [],
   "source": [
    "from sklearn.model_selection import train_test_split\n",
    "\n",
    "train_stays, temp_stays = train_test_split(labels, test_size=0.3, random_state=42, stratify=labels['label'])\n",
    "\n",
    "# Now split temp into test and validation sets equally\n",
    "test_stays, val_stays = train_test_split(temp_stays, test_size=0.5, random_state=42, stratify=temp_stays['label'])"
   ]
  },
  {
   "cell_type": "code",
   "execution_count": 14,
   "metadata": {},
   "outputs": [
    {
     "name": "stdout",
     "output_type": "stream",
     "text": [
      "332\n",
      "72\n",
      "71\n"
     ]
    }
   ],
   "source": [
    "print(len(train_stays))\n",
    "print(len(val_stays))\n",
    "print(len(test_stays))"
   ]
  },
  {
   "cell_type": "code",
   "execution_count": 15,
   "metadata": {},
   "outputs": [],
   "source": [
    "# Define Slices of Full Data Based on the split\n",
    "train_data = full_data_df[full_data_df['stay_id'].isin(train_stays[\"stay_id\"])]\n",
    "val_data = full_data_df[full_data_df['stay_id'].isin(val_stays[\"stay_id\"])]\n",
    "test_data = full_data_df[full_data_df['stay_id'].isin(test_stays[\"stay_id\"])]"
   ]
  },
  {
   "cell_type": "markdown",
   "metadata": {},
   "source": [
    "# Create dataset and dataloaders"
   ]
  },
  {
   "cell_type": "code",
   "execution_count": 16,
   "metadata": {},
   "outputs": [
    {
     "name": "stdout",
     "output_type": "stream",
     "text": [
      "332\n",
      "72\n",
      "71\n"
     ]
    }
   ],
   "source": [
    "print(train_data[\"stay_id\"].nunique())\n",
    "print(val_data[\"stay_id\"].nunique())\n",
    "print(test_data[\"stay_id\"].nunique())"
   ]
  },
  {
   "cell_type": "code",
   "execution_count": 17,
   "metadata": {},
   "outputs": [
    {
     "name": "stderr",
     "output_type": "stream",
     "text": [
      "c:\\master-thesis\\myenv\\lib\\site-packages\\pytorch_forecasting\\data\\encoders.py:318: UserWarning: Found 1 unknown classes which were set to NaN\n",
      "  warnings.warn(\n"
     ]
    }
   ],
   "source": [
    "max_prediction_length = 4\n",
    "max_encoder_length = 12\n",
    "\n",
    "training = TimeSeriesDataSet(\n",
    "    train_data,\n",
    "    time_idx=\"time_idx\",\n",
    "    target=\"label\",\n",
    "    group_ids=[\"stay_id\"],\n",
    "    min_encoder_length=max_encoder_length // 2, \n",
    "    max_encoder_length=max_encoder_length,\n",
    "    min_prediction_length=1,\n",
    "    max_prediction_length=max_prediction_length,\n",
    "    static_categoricals=[\"gender\", \"ethnicity\", \"insurance\"],\n",
    "    static_reals=[\"Age\"],\n",
    "    time_varying_known_categoricals=[],\n",
    "    #variable_groups={\"special_days\": special_days},  # group of categorical variables can be treated as one variable\n",
    "    time_varying_known_reals=[\"time_idx\"] + [col for col in train_data.columns if 'MEDS_' in col or 'CHART_' in col or 'OUT_' in col or 'PROC_' in col],\n",
    "    time_varying_unknown_categoricals=[],\n",
    "    time_varying_unknown_reals=[],\n",
    "    target_normalizer=None,  # use softplus and normalize by group\n",
    "    add_relative_time_idx=True,\n",
    "    add_target_scales=False,\n",
    "    add_encoder_length=False,\n",
    "    categorical_encoders={\"ethnicity\": NaNLabelEncoder(add_nan=True)},  # Allow unknown categories\n",
    ")\n",
    "\n",
    "# Validation set for predicting the last max_prediction_length points in time for each series\n",
    "validation = TimeSeriesDataSet.from_dataset(training, val_data, predict=True, stop_randomization=True)\n",
    "testing = TimeSeriesDataSet.from_dataset(training, test_data, predict=True, stop_randomization=True)"
   ]
  },
  {
   "cell_type": "code",
   "execution_count": 18,
   "metadata": {},
   "outputs": [],
   "source": [
    "# create dataloaders for model\n",
    "batch_size = 128  # set this between 32 to 128\n",
    "train_dataloader = training.to_dataloader(train=True, batch_size=batch_size, num_workers=0, shuffle=False)\n",
    "val_dataloader = validation.to_dataloader(train=False, batch_size=batch_size * 10, num_workers=0, shuffle=False)\n",
    "test_dataloader = testing.to_dataloader(train=False, batch_size=batch_size * 10, num_workers=0, shuffle=False)"
   ]
  },
  {
   "cell_type": "markdown",
   "metadata": {},
   "source": [
    "# Train Temporal Fusion Transformer"
   ]
  },
  {
   "cell_type": "markdown",
   "metadata": {},
   "source": [
    "Find Optimal Learning Rate"
   ]
  },
  {
   "cell_type": "code",
   "execution_count": 19,
   "metadata": {},
   "outputs": [
    {
     "name": "stderr",
     "output_type": "stream",
     "text": [
      "Seed set to 42\n",
      "GPU available: False, used: False\n",
      "TPU available: False, using: 0 TPU cores\n",
      "HPU available: False, using: 0 HPUs\n",
      "c:\\master-thesis\\myenv\\lib\\site-packages\\lightning\\pytorch\\utilities\\parsing.py:208: Attribute 'loss' is an instance of `nn.Module` and is already saved during checkpointing. It is recommended to ignore them using `self.save_hyperparameters(ignore=['loss'])`.\n",
      "c:\\master-thesis\\myenv\\lib\\site-packages\\lightning\\pytorch\\utilities\\parsing.py:208: Attribute 'logging_metrics' is an instance of `nn.Module` and is already saved during checkpointing. It is recommended to ignore them using `self.save_hyperparameters(ignore=['logging_metrics'])`.\n"
     ]
    },
    {
     "name": "stdout",
     "output_type": "stream",
     "text": [
      "Number of parameters in network: 672.0k\n"
     ]
    }
   ],
   "source": [
    "# configure network and trainer\n",
    "pl.seed_everything(42)\n",
    "trainer = pl.Trainer(\n",
    "    accelerator=\"cpu\",\n",
    "    # clipping gradients is a hyperparameter and important to prevent divergance\n",
    "    # of the gradient for recurrent neural networks\n",
    "    gradient_clip_val=0.1,\n",
    ")\n",
    "\n",
    "\n",
    "tft = TemporalFusionTransformer.from_dataset(\n",
    "    training,\n",
    "    # not meaningful for finding the learning rate but otherwise very important\n",
    "    learning_rate=0.03,\n",
    "    hidden_size=8,  # most important hyperparameter apart from learning rate\n",
    "    # number of attention heads. Set to up to 4 for large datasets\n",
    "    attention_head_size=1,\n",
    "    dropout=0.1,  # between 0.1 and 0.3 are good values\n",
    "    hidden_continuous_size=8,  # set to <= hidden_size\n",
    "    loss=QuantileLoss(),\n",
    "    optimizer=\"Ranger\"\n",
    "    # reduce learning rate if no improvement in validation loss after x epochs\n",
    "    # reduce_on_plateau_patience=1000,\n",
    ")\n",
    "print(f\"Number of parameters in network: {tft.size()/1e3:.1f}k\")"
   ]
  },
  {
   "cell_type": "code",
   "execution_count": 20,
   "metadata": {},
   "outputs": [
    {
     "name": "stderr",
     "output_type": "stream",
     "text": [
      "c:\\master-thesis\\myenv\\lib\\site-packages\\lightning\\pytorch\\loops\\utilities.py:72: `max_epochs` was not set. Setting it to 1000 epochs. To train without an epoch limit, set `max_epochs=-1`.\n",
      "c:\\master-thesis\\myenv\\lib\\site-packages\\lightning\\pytorch\\trainer\\connectors\\data_connector.py:424: The 'train_dataloader' does not have many workers which may be a bottleneck. Consider increasing the value of the `num_workers` argument` to `num_workers=19` in the `DataLoader` to improve performance.\n",
      "c:\\master-thesis\\myenv\\lib\\site-packages\\lightning\\pytorch\\loops\\fit_loop.py:298: The number of training batches (28) is smaller than the logging interval Trainer(log_every_n_steps=50). Set a lower value for log_every_n_steps if you want to see logs for the training epoch.\n",
      "c:\\master-thesis\\myenv\\lib\\site-packages\\lightning\\pytorch\\trainer\\connectors\\data_connector.py:424: The 'val_dataloader' does not have many workers which may be a bottleneck. Consider increasing the value of the `num_workers` argument` to `num_workers=19` in the `DataLoader` to improve performance.\n",
      "Finding best initial lr: 100%|██████████| 100/100 [09:07<00:00,  5.69s/it]`Trainer.fit` stopped: `max_steps=100` reached.\n",
      "Finding best initial lr: 100%|██████████| 100/100 [09:07<00:00,  5.47s/it]\n",
      "Learning rate set to 0.048977881936844644\n",
      "Restoring states from the checkpoint path at c:\\master-thesis\\.lr_find_e54e53a0-a735-4be6-9cda-32c80fbbf32b.ckpt\n",
      "Restored all states from the checkpoint at c:\\master-thesis\\.lr_find_e54e53a0-a735-4be6-9cda-32c80fbbf32b.ckpt\n"
     ]
    },
    {
     "name": "stdout",
     "output_type": "stream",
     "text": [
      "suggested learning rate: 0.048977881936844644\n"
     ]
    },
    {
     "data": {
      "image/png": "[encoded data removed]",
      "text/plain": [
       "<Figure size 640x480 with 1 Axes>"
      ]
     },
     "metadata": {},
     "output_type": "display_data"
    },
    {
     "name": "stderr",
     "output_type": "stream",
     "text": [
      "C:\\Users\\soere\\AppData\\Local\\Temp\\ipykernel_4760\\1992069804.py:12: UserWarning: FigureCanvasAgg is non-interactive, and thus cannot be shown\n",
      "  fig.show()\n"
     ]
    }
   ],
   "source": [
    "# find optimal learning rate\n",
    "res = Tuner(trainer).lr_find(\n",
    "    tft,\n",
    "    train_dataloaders=train_dataloader,\n",
    "    val_dataloaders=val_dataloader,\n",
    "    max_lr=10.0,\n",
    "    min_lr=1e-6,\n",
    ")\n",
    "\n",
    "print(f\"suggested learning rate: {res.suggestion()}\")\n",
    "fig = res.plot(show=True, suggest=True)\n",
    "fig.show()"
   ]
  },
  {
   "cell_type": "markdown",
   "metadata": {},
   "source": [
    "# Train Model"
   ]
  },
  {
   "cell_type": "code",
   "execution_count": 21,
   "metadata": {},
   "outputs": [],
   "source": [
    "import tensorflow as tf\n",
    "import tensorboard as tb"
   ]
  },
  {
   "cell_type": "code",
   "execution_count": 22,
   "metadata": {},
   "outputs": [],
   "source": [
    "# Configure the model checkpoint callback\n",
    "checkpoint_callback = ModelCheckpoint(\n",
    "    dirpath=\"./saved_models/TFT-Model/state_dict\",  # Path to save the checkpoints\n",
    "    filename=\"{epoch:02d}-{val_loss:.2f}\",  # Naming convention for the saved checkpoints\n",
    "    monitor=\"val_loss\",  # Metric to monitor\n",
    "    mode=\"min\",  # Mode: min for val_loss\n",
    "    save_top_k=1,  # Only keep the best model\n",
    "    save_weights_only=True  # Save only the weights, not the full model\n",
    ")"
   ]
  },
  {
   "cell_type": "code",
   "execution_count": 23,
   "metadata": {},
   "outputs": [
    {
     "name": "stderr",
     "output_type": "stream",
     "text": [
      "GPU available: False, used: False\n",
      "TPU available: False, using: 0 TPU cores\n",
      "HPU available: False, using: 0 HPUs\n",
      "c:\\master-thesis\\myenv\\lib\\site-packages\\lightning\\pytorch\\utilities\\parsing.py:208: Attribute 'loss' is an instance of `nn.Module` and is already saved during checkpointing. It is recommended to ignore them using `self.save_hyperparameters(ignore=['loss'])`.\n",
      "c:\\master-thesis\\myenv\\lib\\site-packages\\lightning\\pytorch\\utilities\\parsing.py:208: Attribute 'logging_metrics' is an instance of `nn.Module` and is already saved during checkpointing. It is recommended to ignore them using `self.save_hyperparameters(ignore=['logging_metrics'])`.\n"
     ]
    },
    {
     "name": "stdout",
     "output_type": "stream",
     "text": [
      "Number of parameters in network: 1164.7k\n"
     ]
    }
   ],
   "source": [
    "# configure network and trainer\n",
    "early_stop_callback = EarlyStopping(monitor=\"val_loss\", min_delta=1e-4, patience=10, verbose=False, mode=\"min\")\n",
    "lr_logger = LearningRateMonitor()  # log the learning rate\n",
    "logger = TensorBoardLogger(\"lightning_logs\")  # logging results to a tensorboard\n",
    "\n",
    "trainer = pl.Trainer(\n",
    "    max_epochs=5,\n",
    "    accelerator=\"cpu\",\n",
    "    enable_model_summary=True,\n",
    "    gradient_clip_val=0.1,\n",
    "    limit_train_batches=50,  # coment in for training, running valiation every 30 batches\n",
    "    # fast_dev_run=True,  # comment in to check that networkor dataset has no serious bugs\n",
    "    callbacks=[lr_logger, early_stop_callback],\n",
    "    logger=logger,\n",
    ")\n",
    "\n",
    "# Define specific quantiles\n",
    "quantiles = [0.5, 0.917192]\n",
    "\n",
    "tft = TemporalFusionTransformer.from_dataset(\n",
    "    training,\n",
    "    learning_rate=res.suggestion(),\n",
    "    hidden_size=16,\n",
    "    attention_head_size=2,\n",
    "    dropout=0.1,\n",
    "    hidden_continuous_size=8,\n",
    "    loss=QuantileLoss(quantiles=quantiles),\n",
    "    log_interval=10,  # uncomment for learning rate finder and otherwise, e.g. to 10 for logging every 10 batches\n",
    "    optimizer=\"Ranger\",\n",
    "    reduce_on_plateau_patience=4,\n",
    ")\n",
    "print(f\"Number of parameters in network: {tft.size()/1e3:.1f}k\")"
   ]
  },
  {
   "cell_type": "code",
   "execution_count": 24,
   "metadata": {},
   "outputs": [
    {
     "name": "stderr",
     "output_type": "stream",
     "text": [
      "\n",
      "   | Name                               | Type                            | Params | Mode \n",
      "------------------------------------------------------------------------------------------------\n",
      "0  | loss                               | QuantileLoss                    | 0      | train\n",
      "1  | logging_metrics                    | ModuleList                      | 0      | train\n",
      "2  | input_embeddings                   | MultiEmbedding                  | 218    | train\n",
      "3  | prescalers                         | ModuleDict                      | 13.4 K | train\n",
      "4  | static_variable_selection          | VariableSelectionNetwork        | 840    | train\n",
      "5  | encoder_variable_selection         | VariableSelectionNetwork        | 581 K  | train\n",
      "6  | decoder_variable_selection         | VariableSelectionNetwork        | 581 K  | train\n",
      "7  | static_context_variable_selection  | GatedResidualNetwork            | 1.1 K  | train\n",
      "8  | static_context_initial_hidden_lstm | GatedResidualNetwork            | 1.1 K  | train\n",
      "9  | static_context_initial_cell_lstm   | GatedResidualNetwork            | 1.1 K  | train\n",
      "10 | static_context_enrichment          | GatedResidualNetwork            | 1.1 K  | train\n",
      "11 | lstm_encoder                       | LSTM                            | 2.2 K  | train\n",
      "12 | lstm_decoder                       | LSTM                            | 2.2 K  | train\n",
      "13 | post_lstm_gate_encoder             | GatedLinearUnit                 | 544    | train\n",
      "14 | post_lstm_add_norm_encoder         | AddNorm                         | 32     | train\n",
      "15 | static_enrichment                  | GatedResidualNetwork            | 1.4 K  | train\n",
      "16 | multihead_attn                     | InterpretableMultiHeadAttention | 808    | train\n",
      "17 | post_attn_gate_norm                | GateAddNorm                     | 576    | train\n",
      "18 | pos_wise_ff                        | GatedResidualNetwork            | 1.1 K  | train\n",
      "19 | pre_output_gate_norm               | GateAddNorm                     | 576    | train\n",
      "20 | output_layer                       | Linear                          | 34     | train\n",
      "------------------------------------------------------------------------------------------------\n",
      "1.2 M     Trainable params\n",
      "0         Non-trainable params\n",
      "1.2 M     Total params\n",
      "4.659     Total estimated model params size (MB)\n",
      "24431     Modules in train mode\n",
      "0         Modules in eval mode\n"
     ]
    },
    {
     "name": "stdout",
     "output_type": "stream",
     "text": [
      "                                                                           "
     ]
    },
    {
     "name": "stderr",
     "output_type": "stream",
     "text": [
      "c:\\master-thesis\\myenv\\lib\\site-packages\\lightning\\pytorch\\trainer\\connectors\\data_connector.py:424: The 'train_dataloader' does not have many workers which may be a bottleneck. Consider increasing the value of the `num_workers` argument` to `num_workers=19` in the `DataLoader` to improve performance.\n",
      "c:\\master-thesis\\myenv\\lib\\site-packages\\lightning\\pytorch\\loops\\fit_loop.py:298: The number of training batches (28) is smaller than the logging interval Trainer(log_every_n_steps=50). Set a lower value for log_every_n_steps if you want to see logs for the training epoch.\n"
     ]
    },
    {
     "name": "stdout",
     "output_type": "stream",
     "text": [
      "Epoch 4: 100%|██████████| 28/28 [04:33<00:00,  0.10it/s, v_num=69, train_loss_step=0.0957, val_loss=0.119, train_loss_epoch=0.113]"
     ]
    },
    {
     "name": "stderr",
     "output_type": "stream",
     "text": [
      "`Trainer.fit` stopped: `max_epochs=5` reached.\n"
     ]
    },
    {
     "name": "stdout",
     "output_type": "stream",
     "text": [
      "Epoch 4: 100%|██████████| 28/28 [04:40<00:00,  0.10it/s, v_num=69, train_loss_step=0.0957, val_loss=0.119, train_loss_epoch=0.113]\n"
     ]
    }
   ],
   "source": [
    "# fit network\n",
    "trainer.fit(\n",
    "    tft,\n",
    "    train_dataloaders=train_dataloader,\n",
    "    val_dataloaders=val_dataloader,\n",
    ")"
   ]
  },
  {
   "cell_type": "code",
   "execution_count": 25,
   "metadata": {},
   "outputs": [
    {
     "name": "stderr",
     "output_type": "stream",
     "text": [
      "c:\\master-thesis\\myenv\\lib\\site-packages\\lightning\\pytorch\\utilities\\parsing.py:208: Attribute 'loss' is an instance of `nn.Module` and is already saved during checkpointing. It is recommended to ignore them using `self.save_hyperparameters(ignore=['loss'])`.\n",
      "c:\\master-thesis\\myenv\\lib\\site-packages\\lightning\\pytorch\\utilities\\parsing.py:208: Attribute 'logging_metrics' is an instance of `nn.Module` and is already saved during checkpointing. It is recommended to ignore them using `self.save_hyperparameters(ignore=['logging_metrics'])`.\n"
     ]
    }
   ],
   "source": [
    "# load the best model according to the validation loss\n",
    "# (given that we use early stopping, this is not necessarily the last epoch)\n",
    "best_model_path = trainer.checkpoint_callback.best_model_path\n",
    "best_tft = TemporalFusionTransformer.load_from_checkpoint(best_model_path)"
   ]
  },
  {
   "cell_type": "code",
   "execution_count": 26,
   "metadata": {},
   "outputs": [
    {
     "name": "stdout",
     "output_type": "stream",
     "text": [
      "Model explicitly saved to: ./saved_models/TFT-Model/trained_on_1%/\n"
     ]
    }
   ],
   "source": [
    "# Define the path where you want to save the model after training\n",
    "explicit_save_path = f\"./saved_models/TFT-Model/trained_on_{percentage}/\"\n",
    "\n",
    "# Make sure directory exists\n",
    "os.makedirs(explicit_save_path, exist_ok=True)\n",
    "\n",
    "# Explicitly save the model after training\n",
    "torch.save(tft.state_dict(), explicit_save_path + f\"TFT-model-trained-on-{percentage}.pth\")\n",
    "\n",
    "print(f\"Model explicitly saved to: {explicit_save_path}\")"
   ]
  },
  {
   "cell_type": "markdown",
   "metadata": {},
   "source": [
    "# Evaluation"
   ]
  },
  {
   "cell_type": "markdown",
   "metadata": {},
   "source": [
    "Validation Set"
   ]
  },
  {
   "cell_type": "code",
   "execution_count": 27,
   "metadata": {},
   "outputs": [
    {
     "data": {
      "text/plain": [
       "'\\n# Set the model to evaluation mode\\nbest_tft.eval()\\n\\n# Initialize a list to store predictions\\nval_predictions = []\\n\\n# Disable gradient computation for prediction\\nwith torch.no_grad():\\n    for batch in val_dataloader:\\n        inputs = batch[0]  # Assuming the data is in the first element of the tuple\\n        \\n        # Get model predictions\\n        output = best_tft(inputs)\\n        \\n        # Extract the prediction tensor from the Output object\\n        prediction_tensor = output.prediction.detach().cpu().numpy()  # Detach, move to CPU, and convert to numpy\\n        \\n        # Append the numpy array of predictions\\n        val_predictions.append(prediction_tensor)\\n\\n# Flatten the list of arrays into a single array if necessary\\nval_predictions = np.concatenate(val_predictions, axis=0)\\n\\n\\nfor batch in val_dataloader:\\n    x, y = batch  # x contains the input data, y contains the target (likely a tuple)\\n    \\n    # Extract labels from y\\n    if isinstance(y, tuple):\\n        val_labels = y[0]  # y[0] contains the labels\\n        \\n        # Print the shape of the labels for each batch\\n        print(\"Labels shape:\", val_labels.shape)\\n        \\n        # If needed, you can further process the labels here\\n        # For example, convert them to numpy:\\n        val_labels_numpy = labels.detach().cpu().numpy()\\n'"
      ]
     },
     "execution_count": 27,
     "metadata": {},
     "output_type": "execute_result"
    }
   ],
   "source": [
    "\"\"\"\n",
    "# Set the model to evaluation mode\n",
    "best_tft.eval()\n",
    "\n",
    "# Initialize a list to store predictions\n",
    "val_predictions = []\n",
    "\n",
    "# Disable gradient computation for prediction\n",
    "with torch.no_grad():\n",
    "    for batch in val_dataloader:\n",
    "        inputs = batch[0]  # Assuming the data is in the first element of the tuple\n",
    "        \n",
    "        # Get model predictions\n",
    "        output = best_tft(inputs)\n",
    "        \n",
    "        # Extract the prediction tensor from the Output object\n",
    "        prediction_tensor = output.prediction.detach().cpu().numpy()  # Detach, move to CPU, and convert to numpy\n",
    "        \n",
    "        # Append the numpy array of predictions\n",
    "        val_predictions.append(prediction_tensor)\n",
    "\n",
    "# Flatten the list of arrays into a single array if necessary\n",
    "val_predictions = np.concatenate(val_predictions, axis=0)\n",
    "\n",
    "\n",
    "for batch in val_dataloader:\n",
    "    x, y = batch  # x contains the input data, y contains the target (likely a tuple)\n",
    "    \n",
    "    # Extract labels from y\n",
    "    if isinstance(y, tuple):\n",
    "        val_labels = y[0]  # y[0] contains the labels\n",
    "        \n",
    "        # Print the shape of the labels for each batch\n",
    "        print(\"Labels shape:\", val_labels.shape)\n",
    "        \n",
    "        # If needed, you can further process the labels here\n",
    "        # For example, convert them to numpy:\n",
    "        val_labels_numpy = labels.detach().cpu().numpy()\n",
    "\"\"\""
   ]
  },
  {
   "cell_type": "code",
   "execution_count": 28,
   "metadata": {},
   "outputs": [
    {
     "data": {
      "text/plain": [
       "'\\nfor batch in val_dataloader:\\n    x, y = batch  # x contains the input data, y contains the target (likely a tuple)\\n    \\n    # Extract labels from y\\n    if isinstance(y, tuple):\\n        val_labels = y[0]  # y[0] contains the labels\\n        \\n        # Convert labels to numpy for easier manipulation\\n        val_labels_numpy = val_labels.detach().cpu().numpy()\\n        print(\"Labels shape:\", val_labels_numpy.shape)\\n        \\n        # Check if all values in each row (timesteps) are the same\\n        all_same_in_timesteps = np.all(val_labels_numpy == val_labels_numpy[:, 0].reshape(-1, 1), axis=1)\\n        \\n        # Output the result\\n        if np.all(all_same_in_timesteps):\\n            print(\"All labels are consistent across timesteps for this batch.\")\\n        else:\\n            print(\"Inconsistent labels found across timesteps in this batch.\")\\n        \\n        # Optionally, you can print which rows are inconsistent\\n        inconsistent_indices = np.where(~all_same_in_timesteps)[0]\\n        if len(inconsistent_indices) > 0:\\n            print(f\"Inconsistent label rows: {inconsistent_indices}\")\\n'"
      ]
     },
     "execution_count": 28,
     "metadata": {},
     "output_type": "execute_result"
    }
   ],
   "source": [
    "\"\"\"\n",
    "for batch in val_dataloader:\n",
    "    x, y = batch  # x contains the input data, y contains the target (likely a tuple)\n",
    "    \n",
    "    # Extract labels from y\n",
    "    if isinstance(y, tuple):\n",
    "        val_labels = y[0]  # y[0] contains the labels\n",
    "        \n",
    "        # Convert labels to numpy for easier manipulation\n",
    "        val_labels_numpy = val_labels.detach().cpu().numpy()\n",
    "        print(\"Labels shape:\", val_labels_numpy.shape)\n",
    "        \n",
    "        # Check if all values in each row (timesteps) are the same\n",
    "        all_same_in_timesteps = np.all(val_labels_numpy == val_labels_numpy[:, 0].reshape(-1, 1), axis=1)\n",
    "        \n",
    "        # Output the result\n",
    "        if np.all(all_same_in_timesteps):\n",
    "            print(\"All labels are consistent across timesteps for this batch.\")\n",
    "        else:\n",
    "            print(\"Inconsistent labels found across timesteps in this batch.\")\n",
    "        \n",
    "        # Optionally, you can print which rows are inconsistent\n",
    "        inconsistent_indices = np.where(~all_same_in_timesteps)[0]\n",
    "        if len(inconsistent_indices) > 0:\n",
    "            print(f\"Inconsistent label rows: {inconsistent_indices}\")\n",
    "\"\"\""
   ]
  },
  {
   "cell_type": "code",
   "execution_count": 29,
   "metadata": {},
   "outputs": [
    {
     "data": {
      "text/plain": [
       "\"\\n# Extract the median predictions (0.5 quantile which is at index 1 along the last axis)\\nval_median_predictions = val_predictions[:, :, 1]\\n\\n# Assuming the outputs are logits and need to be converted to probabilities\\nval_transformed_median_predictions = 1 / (1 + np.exp(-val_median_predictions))\\n\\n# Define a threshold\\nthreshold = 0.5 # Adjust this based on specific sensitivity or specificity needs\\n\\n# Check if any time step's prediction exceeds the threshold for each instance\\nval_mortality_predictions = (np.any(val_transformed_median_predictions > threshold, axis=1)).astype(int)\\n\""
      ]
     },
     "execution_count": 29,
     "metadata": {},
     "output_type": "execute_result"
    }
   ],
   "source": [
    "\"\"\"\n",
    "# Extract the median predictions (0.5 quantile which is at index 1 along the last axis)\n",
    "val_median_predictions = val_predictions[:, :, 1]\n",
    "\n",
    "# Assuming the outputs are logits and need to be converted to probabilities\n",
    "val_transformed_median_predictions = 1 / (1 + np.exp(-val_median_predictions))\n",
    "\n",
    "# Define a threshold\n",
    "threshold = 0.5 # Adjust this based on specific sensitivity or specificity needs\n",
    "\n",
    "# Check if any time step's prediction exceeds the threshold for each instance\n",
    "val_mortality_predictions = (np.any(val_transformed_median_predictions > threshold, axis=1)).astype(int)\n",
    "\"\"\""
   ]
  },
  {
   "cell_type": "code",
   "execution_count": 30,
   "metadata": {},
   "outputs": [
    {
     "data": {
      "text/plain": [
       "'\\nfrom sklearn.metrics import accuracy_score, precision_score, recall_score, f1_score, roc_auc_score, average_precision_score\\n\\n# Flatten the labels to compare them with the mortality predictions\\n# Since the labels are consistent across timesteps, you can take the first value from each row\\nval_flat_labels = val_labels_numpy[:, 0]  # Extract the first timestep as all labels in a row are the same\\n\\n# Compute Accuracy\\naccuracy = accuracy_score(val_flat_labels, val_mortality_predictions)\\nprint(f\"Accuracy: {accuracy:.4f}\")\\n\\n# Compute Precision\\nprecision = precision_score(val_flat_labels, val_mortality_predictions)\\nprint(f\"Precision: {precision:.4f}\")\\n\\n# Compute Recall\\nrecall = recall_score(val_flat_labels, val_mortality_predictions)\\nprint(f\"Recall: {recall:.4f}\")\\n\\n# Compute F1 Score\\nf1 = f1_score(val_flat_labels, val_mortality_predictions)\\nprint(f\"F1 Score: {f1:.4f}\")\\n\\n# Compute AUROC (Area Under the Receiver Operating Characteristic Curve)\\n# For AUROC, use the raw probabilities (transformed_median_predictions)\\n# Here, take the max predicted probability across timesteps for each sample\\nmax_predictions = np.max(val_transformed_median_predictions, axis=1)\\nroc_auc = roc_auc_score(val_flat_labels, max_predictions)\\nprint(f\"AUROC: {roc_auc:.4f}\")\\n\\n# Compute AUPRC (Area Under the Precision-Recall Curve)\\nauprc = average_precision_score(val_flat_labels, max_predictions)\\nprint(f\"AUPRC: {auprc:.4f}\")\\n'"
      ]
     },
     "execution_count": 30,
     "metadata": {},
     "output_type": "execute_result"
    }
   ],
   "source": [
    "\"\"\"\n",
    "from sklearn.metrics import accuracy_score, precision_score, recall_score, f1_score, roc_auc_score, average_precision_score\n",
    "\n",
    "# Flatten the labels to compare them with the mortality predictions\n",
    "# Since the labels are consistent across timesteps, you can take the first value from each row\n",
    "val_flat_labels = val_labels_numpy[:, 0]  # Extract the first timestep as all labels in a row are the same\n",
    "\n",
    "# Compute Accuracy\n",
    "accuracy = accuracy_score(val_flat_labels, val_mortality_predictions)\n",
    "print(f\"Accuracy: {accuracy:.4f}\")\n",
    "\n",
    "# Compute Precision\n",
    "precision = precision_score(val_flat_labels, val_mortality_predictions)\n",
    "print(f\"Precision: {precision:.4f}\")\n",
    "\n",
    "# Compute Recall\n",
    "recall = recall_score(val_flat_labels, val_mortality_predictions)\n",
    "print(f\"Recall: {recall:.4f}\")\n",
    "\n",
    "# Compute F1 Score\n",
    "f1 = f1_score(val_flat_labels, val_mortality_predictions)\n",
    "print(f\"F1 Score: {f1:.4f}\")\n",
    "\n",
    "# Compute AUROC (Area Under the Receiver Operating Characteristic Curve)\n",
    "# For AUROC, use the raw probabilities (transformed_median_predictions)\n",
    "# Here, take the max predicted probability across timesteps for each sample\n",
    "max_predictions = np.max(val_transformed_median_predictions, axis=1)\n",
    "roc_auc = roc_auc_score(val_flat_labels, max_predictions)\n",
    "print(f\"AUROC: {roc_auc:.4f}\")\n",
    "\n",
    "# Compute AUPRC (Area Under the Precision-Recall Curve)\n",
    "auprc = average_precision_score(val_flat_labels, max_predictions)\n",
    "print(f\"AUPRC: {auprc:.4f}\")\n",
    "\"\"\"\n"
   ]
  },
  {
   "cell_type": "markdown",
   "metadata": {},
   "source": [
    "Testing Set"
   ]
  },
  {
   "cell_type": "code",
   "execution_count": 31,
   "metadata": {},
   "outputs": [],
   "source": [
    "# Set the model to evaluation mode\n",
    "best_tft.eval()\n",
    "\n",
    "# Initialize a list to store predictions\n",
    "predictions = []\n",
    "\n",
    "# Disable gradient computation for prediction\n",
    "with torch.no_grad():\n",
    "    for batch in test_dataloader:\n",
    "        inputs = batch[0]  # Assuming the data is in the first element of the tuple\n",
    "        \n",
    "        # Get model predictions\n",
    "        output = best_tft(inputs)\n",
    "        \n",
    "        # Extract the prediction tensor from the Output object\n",
    "        prediction_tensor = output.prediction.detach().cpu().numpy()  # Detach, move to CPU, and convert to numpy\n",
    "        \n",
    "        # Append the numpy array of predictions\n",
    "        predictions.append(prediction_tensor)\n",
    "\n",
    "# Flatten the list of arrays into a single array if necessary\n",
    "predictions = np.concatenate(predictions, axis=0)"
   ]
  },
  {
   "cell_type": "code",
   "execution_count": 32,
   "metadata": {},
   "outputs": [
    {
     "data": {
      "text/plain": [
       "71"
      ]
     },
     "execution_count": 32,
     "metadata": {},
     "output_type": "execute_result"
    }
   ],
   "source": [
    "len(predictions)"
   ]
  },
  {
   "cell_type": "code",
   "execution_count": 33,
   "metadata": {},
   "outputs": [
    {
     "name": "stdout",
     "output_type": "stream",
     "text": [
      "Labels shape: (71, 4)\n",
      "All labels are consistent across timesteps for this batch.\n"
     ]
    }
   ],
   "source": [
    "for batch in test_dataloader:\n",
    "    x, y = batch  # x contains the input data, y contains the target (likely a tuple)\n",
    "    \n",
    "    # Extract labels from y\n",
    "    if isinstance(y, tuple):\n",
    "        labels = y[0]  # y[0] contains the labels\n",
    "        \n",
    "        # Convert labels to numpy for easier manipulation\n",
    "        labels_numpy = labels.detach().cpu().numpy()\n",
    "        print(\"Labels shape:\", labels_numpy.shape)\n",
    "        \n",
    "        # Check if all values in each row (timesteps) are the same\n",
    "        all_same_in_timesteps = np.all(labels_numpy == labels_numpy[:, 0].reshape(-1, 1), axis=1)\n",
    "        \n",
    "        # Output the result\n",
    "        if np.all(all_same_in_timesteps):\n",
    "            print(\"All labels are consistent across timesteps for this batch.\")\n",
    "        else:\n",
    "            print(\"Inconsistent labels found across timesteps in this batch.\")\n",
    "        \n",
    "        # Optionally, you can print which rows are inconsistent\n",
    "        inconsistent_indices = np.where(~all_same_in_timesteps)[0]\n",
    "        if len(inconsistent_indices) > 0:\n",
    "            print(f\"Inconsistent label rows: {inconsistent_indices}\")"
   ]
  },
  {
   "cell_type": "code",
   "execution_count": 34,
   "metadata": {},
   "outputs": [
    {
     "name": "stdout",
     "output_type": "stream",
     "text": [
      "Batch 1 size: 11\n",
      "Total samples processed: 11\n"
     ]
    }
   ],
   "source": [
    "total_samples_count = 0\n",
    "for i, (x, y) in enumerate(test_dataloader):\n",
    "    print(f\"Batch {i+1} size: {len(x)}\")\n",
    "    total_samples_count += len(x)\n",
    "print(f\"Total samples processed: {total_samples_count}\")\n"
   ]
  },
  {
   "cell_type": "code",
   "execution_count": 35,
   "metadata": {},
   "outputs": [
    {
     "name": "stdout",
     "output_type": "stream",
     "text": [
      "71\n"
     ]
    }
   ],
   "source": [
    "# Flatten Labels\n",
    "flat_labels = labels_numpy[:, 0]\n",
    "print(len(flat_labels))"
   ]
  },
  {
   "cell_type": "code",
   "execution_count": 36,
   "metadata": {},
   "outputs": [
    {
     "data": {
      "text/plain": [
       "(71, 4, 2)"
      ]
     },
     "execution_count": 36,
     "metadata": {},
     "output_type": "execute_result"
    }
   ],
   "source": [
    "predictions.shape"
   ]
  },
  {
   "cell_type": "code",
   "execution_count": 37,
   "metadata": {},
   "outputs": [],
   "source": [
    "Q92_predictions = predictions[:, :, 0]\n",
    "median_predictions = predictions[:, :, 1]"
   ]
  },
  {
   "cell_type": "code",
   "execution_count": 38,
   "metadata": {},
   "outputs": [],
   "source": [
    "transformed_median_predictions = 1 / (1 + np.exp(-median_predictions))\n",
    "transformed_Q92_predictions = 1 / (1 + np.exp(-Q92_predictions))"
   ]
  },
  {
   "cell_type": "code",
   "execution_count": 39,
   "metadata": {},
   "outputs": [
    {
     "data": {
      "text/plain": [
       "array([[0.5042702 , 0.504159  , 0.5042436 , 0.5043236 ],\n",
       "       [0.506895  , 0.50665545, 0.5065921 , 0.5065566 ],\n",
       "       [0.5049384 , 0.50481176, 0.5048321 , 0.50490654],\n",
       "       [0.50604695, 0.50583345, 0.50582165, 0.5058206 ],\n",
       "       [0.5056334 , 0.5055998 , 0.5055433 , 0.50553036],\n",
       "       [0.5059614 , 0.5058249 , 0.5056326 , 0.5056092 ],\n",
       "       [0.5060857 , 0.50603986, 0.5060911 , 0.5061538 ],\n",
       "       [0.50333124, 0.5056315 , 0.5031189 , 0.5056014 ],\n",
       "       [0.50572366, 0.5055547 , 0.50551   , 0.5056479 ],\n",
       "       [0.50572425, 0.5020688 , 0.5052869 , 0.50501424],\n",
       "       [0.50466704, 0.50464785, 0.5045943 , 0.5046442 ],\n",
       "       [0.50617737, 0.5052168 , 0.5049004 , 0.50494534],\n",
       "       [0.5064699 , 0.50617087, 0.5059807 , 0.5059496 ],\n",
       "       [0.5047049 , 0.50465184, 0.5045853 , 0.5047174 ],\n",
       "       [0.5047725 , 0.50487465, 0.50496936, 0.5050425 ],\n",
       "       [0.5039856 , 0.5041614 , 0.5043401 , 0.5045966 ],\n",
       "       [0.50513464, 0.50499564, 0.5049897 , 0.5050359 ],\n",
       "       [0.5052379 , 0.50491834, 0.50490695, 0.50487643],\n",
       "       [0.50476414, 0.5046561 , 0.5047176 , 0.50478244],\n",
       "       [0.5053256 , 0.5051754 , 0.5051936 , 0.50523746],\n",
       "       [0.505546  , 0.505664  , 0.50574523, 0.5058195 ],\n",
       "       [0.5048798 , 0.5047089 , 0.5047145 , 0.5048061 ],\n",
       "       [0.5052209 , 0.50515944, 0.5050938 , 0.50521636],\n",
       "       [0.5064257 , 0.50632995, 0.506301  , 0.50637144],\n",
       "       [0.50573635, 0.5061354 , 0.5060316 , 0.50599855],\n",
       "       [0.4995993 , 0.50517637, 0.5049677 , 0.49941942],\n",
       "       [0.5056833 , 0.5057639 , 0.5058053 , 0.5058752 ],\n",
       "       [0.5052074 , 0.5050874 , 0.5051135 , 0.50515914],\n",
       "       [0.50515777, 0.5049982 , 0.5050747 , 0.50516254],\n",
       "       [0.50580794, 0.5056333 , 0.50562453, 0.5056577 ],\n",
       "       [0.50561833, 0.50507957, 0.5049574 , 0.5050094 ],\n",
       "       [0.5055755 , 0.5054301 , 0.5053792 , 0.5053398 ],\n",
       "       [0.5053525 , 0.5057662 , 0.5059249 , 0.50503546],\n",
       "       [0.5051917 , 0.5050766 , 0.505079  , 0.5051893 ],\n",
       "       [0.5050954 , 0.50487125, 0.5047599 , 0.504704  ],\n",
       "       [0.5070646 , 0.5067014 , 0.505638  , 0.5057467 ],\n",
       "       [0.5048493 , 0.5046702 , 0.5047095 , 0.5047998 ],\n",
       "       [0.5051088 , 0.50498176, 0.50506085, 0.5051369 ],\n",
       "       [0.50507766, 0.505081  , 0.50515896, 0.5052799 ],\n",
       "       [0.5058222 , 0.50557685, 0.5055657 , 0.5055672 ],\n",
       "       [0.5068963 , 0.5066187 , 0.5065555 , 0.50659025],\n",
       "       [0.5046953 , 0.5046745 , 0.5047412 , 0.5048578 ],\n",
       "       [0.50479054, 0.5045916 , 0.504636  , 0.49877006],\n",
       "       [0.50237775, 0.5051612 , 0.5049352 , 0.5022997 ],\n",
       "       [0.5046946 , 0.5045957 , 0.50459915, 0.50474566],\n",
       "       [0.50688845, 0.5065753 , 0.5065254 , 0.50650954],\n",
       "       [0.50553334, 0.5055852 , 0.5057372 , 0.5058748 ],\n",
       "       [0.5060798 , 0.5058528 , 0.50579756, 0.50584286],\n",
       "       [0.5046136 , 0.5038908 , 0.5050661 , 0.50405014],\n",
       "       [0.50514454, 0.5050125 , 0.50507873, 0.5051474 ],\n",
       "       [0.50195056, 0.50544244, 0.50134856, 0.5012367 ],\n",
       "       [0.50496787, 0.50473374, 0.5048023 , 0.50478035],\n",
       "       [0.50547427, 0.5053252 , 0.50528353, 0.5053598 ],\n",
       "       [0.505707  , 0.5054683 , 0.50548476, 0.5054978 ],\n",
       "       [0.5058798 , 0.50580764, 0.5058744 , 0.5058887 ],\n",
       "       [0.5055065 , 0.5049368 , 0.5048983 , 0.50492704],\n",
       "       [0.5048106 , 0.5050759 , 0.5050935 , 0.50528914],\n",
       "       [0.5057402 , 0.50578874, 0.5057359 , 0.50576067],\n",
       "       [0.50552016, 0.5056236 , 0.5056686 , 0.5056928 ],\n",
       "       [0.5032768 , 0.50406975, 0.5044909 , 0.5047207 ],\n",
       "       [0.50561017, 0.5060652 , 0.50537103, 0.5060175 ],\n",
       "       [0.5065219 , 0.50626236, 0.5062595 , 0.50625086],\n",
       "       [0.50521326, 0.5050988 , 0.5050702 , 0.50516504],\n",
       "       [0.50452477, 0.50455385, 0.5045881 , 0.5047371 ],\n",
       "       [0.5062337 , 0.50273156, 0.50597924, 0.50216615],\n",
       "       [0.50498307, 0.5048776 , 0.504892  , 0.5049553 ],\n",
       "       [0.50115657, 0.5018043 , 0.5053565 , 0.50163054],\n",
       "       [0.50532204, 0.505396  , 0.5051118 , 0.5051211 ],\n",
       "       [0.5033636 , 0.50409096, 0.50451195, 0.504691  ],\n",
       "       [0.49963275, 0.5061494 , 0.5056791 , 0.5055676 ],\n",
       "       [0.50452906, 0.5020296 , 0.50479233, 0.50209373]], dtype=float32)"
      ]
     },
     "execution_count": 39,
     "metadata": {},
     "output_type": "execute_result"
    }
   ],
   "source": [
    "transformed_Q92_predictions"
   ]
  },
  {
   "cell_type": "code",
   "execution_count": 40,
   "metadata": {},
   "outputs": [
    {
     "name": "stdout",
     "output_type": "stream",
     "text": [
      "Best Threshold based on F2 score: 0.5761\n",
      "Accuracy: 0.8028\n",
      "Precision: 0.2500\n",
      "Recall: 0.6667\n",
      "F1 Score: 0.3636\n",
      "AUROC: 0.7667\n",
      "AUPRC: 0.2531\n",
      "Performance metrics saved to: ./saved_models/TFT-Model/trained_on_1%/transformed_median_predictions/TFT Model - Trained on 1%_metrics.txt\n"
     ]
    },
    {
     "name": "stderr",
     "output_type": "stream",
     "text": [
      "C:\\Users\\soere\\AppData\\Local\\Temp\\ipykernel_4760\\938378855.py:20: RuntimeWarning: invalid value encountered in divide\n",
      "  f_beta_scores = (1 + beta**2) * (precision_vals * recall_vals) / ((beta**2 * precision_vals) + recall_vals)\n"
     ]
    }
   ],
   "source": [
    "# Call the evaluation function on Q1 Predictions\n",
    "evaluate_tft_predictions(\n",
    "    flat_labels=flat_labels,  # The true labels (first timestep of each sequence)\n",
    "    transformed_predictions=transformed_median_predictions,  # The raw probabilities across timesteps\n",
    "    directory=f\"./saved_models/TFT-Model/trained_on_{percentage}/transformed_median_predictions\",  # Directory to save metrics and plots\n",
    "    model_name=f\"TFT Model - Trained on {percentage}\"  # Name of the model for display and saving\n",
    ")"
   ]
  },
  {
   "cell_type": "code",
   "execution_count": 41,
   "metadata": {},
   "outputs": [
    {
     "name": "stdout",
     "output_type": "stream",
     "text": [
      "Best Threshold based on F2 score: 0.5062\n",
      "Accuracy: 0.8732\n",
      "Precision: 0.2857\n",
      "Recall: 0.3333\n",
      "F1 Score: 0.3077\n",
      "AUROC: 0.5949\n",
      "AUPRC: 0.3321\n",
      "Performance metrics saved to: ./saved_models/TFT-Model/trained_on_1%/transformed_Q92_predictions/TFT Model - Trained on 1%_metrics.txt\n"
     ]
    }
   ],
   "source": [
    "# Call the evaluation function on Q1 Predictions\n",
    "evaluate_tft_predictions(\n",
    "    flat_labels=flat_labels,  # The true labels (first timestep of each sequence)\n",
    "    transformed_predictions=transformed_Q92_predictions,  # The raw probabilities across timesteps\n",
    "    directory=f\"./saved_models/TFT-Model/trained_on_{percentage}/transformed_Q92_predictions\",  # Directory to save metrics and plots\n",
    "    model_name=f\"TFT Model - Trained on {percentage}\"  # Name of the model for display and saving\n",
    ")"
   ]
  },
  {
   "cell_type": "markdown",
   "metadata": {},
   "source": [
    "# Interpret Model"
   ]
  },
  {
   "cell_type": "code",
   "execution_count": 42,
   "metadata": {},
   "outputs": [
    {
     "name": "stderr",
     "output_type": "stream",
     "text": [
      "c:\\master-thesis\\myenv\\lib\\site-packages\\lightning\\pytorch\\trainer\\connectors\\data_connector.py:424: The 'predict_dataloader' does not have many workers which may be a bottleneck. Consider increasing the value of the `num_workers` argument` to `num_workers=19` in the `DataLoader` to improve performance.\n"
     ]
    },
    {
     "name": "stdout",
     "output_type": "stream",
     "text": [
      "Saved attention plot to ./saved_models/TFT-Model/trained_on_1%/attention_interpretation.png\n",
      "Saved static_variables plot to ./saved_models/TFT-Model/trained_on_1%/static_variables_interpretation.png\n",
      "Saved encoder_variables plot to ./saved_models/TFT-Model/trained_on_1%/encoder_variables_interpretation.png\n",
      "Saved decoder_variables plot to ./saved_models/TFT-Model/trained_on_1%/decoder_variables_interpretation.png\n"
     ]
    }
   ],
   "source": [
    "# raw predictions are a dictionary from which all kind of information including quantiles can be extracted\n",
    "raw_predictions = best_tft.predict(val_dataloader, mode=\"raw\", return_x=True)\n",
    "\n",
    "# Extract dict with interpretations\n",
    "interpretation = best_tft.interpret_output(raw_predictions.output, reduction=\"sum\")\n",
    "\n",
    "# Plot the predictions\n",
    "interpretation_figures = best_tft.plot_interpretation(interpretation)\n",
    "\n",
    "for plot_name, fig in interpretation_figures.items():\n",
    "    # Specify the directory path where you want to save the figures\n",
    "    directory_path = f'./saved_models/TFT-Model/trained_on_{percentage}'\n",
    "    # Create the directory if it doesn't exist\n",
    "    os.makedirs(directory_path, exist_ok=True)\n",
    "    \n",
    "    # Construct file path dynamically based on plot name\n",
    "    file_path = f'{directory_path}/{plot_name}_interpretation.png'\n",
    "    # Save the figure\n",
    "    fig.savefig(file_path)\n",
    "    print(f\"Saved {plot_name} plot to {file_path}\")\n",
    "\n",
    "    # Close the figure after saving to free up memory\n",
    "    plt.close(fig)"
   ]
  },
  {
   "cell_type": "markdown",
   "metadata": {},
   "source": [
    "# Partial Dependency"
   ]
  },
  {
   "cell_type": "code",
   "execution_count": 43,
   "metadata": {},
   "outputs": [
    {
     "name": "stderr",
     "output_type": "stream",
     "text": [
      "Predict:   0%|          | 0/30 [00:00<?, ? batches/s]c:\\master-thesis\\myenv\\lib\\site-packages\\sklearn\\base.py:493: UserWarning: X does not have valid feature names, but StandardScaler was fitted with feature names\n",
      "  warnings.warn(\n",
      "c:\\master-thesis\\myenv\\lib\\site-packages\\lightning\\pytorch\\trainer\\connectors\\data_connector.py:424: The 'predict_dataloader' does not have many workers which may be a bottleneck. Consider increasing the value of the `num_workers` argument` to `num_workers=19` in the `DataLoader` to improve performance.\n",
      "Predict:   3%|▎         | 1/30 [00:04<02:13,  4.61s/ batches]c:\\master-thesis\\myenv\\lib\\site-packages\\sklearn\\base.py:493: UserWarning: X does not have valid feature names, but StandardScaler was fitted with feature names\n",
      "  warnings.warn(\n",
      "c:\\master-thesis\\myenv\\lib\\site-packages\\lightning\\pytorch\\trainer\\connectors\\data_connector.py:424: The 'predict_dataloader' does not have many workers which may be a bottleneck. Consider increasing the value of the `num_workers` argument` to `num_workers=19` in the `DataLoader` to improve performance.\n",
      "Predict:   7%|▋         | 2/30 [00:09<02:13,  4.78s/ batches]c:\\master-thesis\\myenv\\lib\\site-packages\\sklearn\\base.py:493: UserWarning: X does not have valid feature names, but StandardScaler was fitted with feature names\n",
      "  warnings.warn(\n",
      "c:\\master-thesis\\myenv\\lib\\site-packages\\lightning\\pytorch\\trainer\\connectors\\data_connector.py:424: The 'predict_dataloader' does not have many workers which may be a bottleneck. Consider increasing the value of the `num_workers` argument` to `num_workers=19` in the `DataLoader` to improve performance.\n",
      "Predict:  10%|█         | 3/30 [00:14<02:09,  4.80s/ batches]c:\\master-thesis\\myenv\\lib\\site-packages\\sklearn\\base.py:493: UserWarning: X does not have valid feature names, but StandardScaler was fitted with feature names\n",
      "  warnings.warn(\n",
      "c:\\master-thesis\\myenv\\lib\\site-packages\\lightning\\pytorch\\trainer\\connectors\\data_connector.py:424: The 'predict_dataloader' does not have many workers which may be a bottleneck. Consider increasing the value of the `num_workers` argument` to `num_workers=19` in the `DataLoader` to improve performance.\n",
      "Predict:  13%|█▎        | 4/30 [00:18<02:02,  4.72s/ batches]c:\\master-thesis\\myenv\\lib\\site-packages\\sklearn\\base.py:493: UserWarning: X does not have valid feature names, but StandardScaler was fitted with feature names\n",
      "  warnings.warn(\n",
      "c:\\master-thesis\\myenv\\lib\\site-packages\\lightning\\pytorch\\trainer\\connectors\\data_connector.py:424: The 'predict_dataloader' does not have many workers which may be a bottleneck. Consider increasing the value of the `num_workers` argument` to `num_workers=19` in the `DataLoader` to improve performance.\n",
      "Predict:  17%|█▋        | 5/30 [00:23<01:58,  4.73s/ batches]c:\\master-thesis\\myenv\\lib\\site-packages\\sklearn\\base.py:493: UserWarning: X does not have valid feature names, but StandardScaler was fitted with feature names\n",
      "  warnings.warn(\n",
      "c:\\master-thesis\\myenv\\lib\\site-packages\\lightning\\pytorch\\trainer\\connectors\\data_connector.py:424: The 'predict_dataloader' does not have many workers which may be a bottleneck. Consider increasing the value of the `num_workers` argument` to `num_workers=19` in the `DataLoader` to improve performance.\n",
      "Predict:  20%|██        | 6/30 [00:28<01:54,  4.76s/ batches]c:\\master-thesis\\myenv\\lib\\site-packages\\sklearn\\base.py:493: UserWarning: X does not have valid feature names, but StandardScaler was fitted with feature names\n",
      "  warnings.warn(\n",
      "c:\\master-thesis\\myenv\\lib\\site-packages\\lightning\\pytorch\\trainer\\connectors\\data_connector.py:424: The 'predict_dataloader' does not have many workers which may be a bottleneck. Consider increasing the value of the `num_workers` argument` to `num_workers=19` in the `DataLoader` to improve performance.\n",
      "Predict:  23%|██▎       | 7/30 [00:32<01:46,  4.64s/ batches]c:\\master-thesis\\myenv\\lib\\site-packages\\sklearn\\base.py:493: UserWarning: X does not have valid feature names, but StandardScaler was fitted with feature names\n",
      "  warnings.warn(\n",
      "c:\\master-thesis\\myenv\\lib\\site-packages\\lightning\\pytorch\\trainer\\connectors\\data_connector.py:424: The 'predict_dataloader' does not have many workers which may be a bottleneck. Consider increasing the value of the `num_workers` argument` to `num_workers=19` in the `DataLoader` to improve performance.\n",
      "Predict:  27%|██▋       | 8/30 [00:37<01:41,  4.60s/ batches]c:\\master-thesis\\myenv\\lib\\site-packages\\sklearn\\base.py:493: UserWarning: X does not have valid feature names, but StandardScaler was fitted with feature names\n",
      "  warnings.warn(\n",
      "c:\\master-thesis\\myenv\\lib\\site-packages\\lightning\\pytorch\\trainer\\connectors\\data_connector.py:424: The 'predict_dataloader' does not have many workers which may be a bottleneck. Consider increasing the value of the `num_workers` argument` to `num_workers=19` in the `DataLoader` to improve performance.\n",
      "Predict:  30%|███       | 9/30 [00:41<01:35,  4.56s/ batches]c:\\master-thesis\\myenv\\lib\\site-packages\\sklearn\\base.py:493: UserWarning: X does not have valid feature names, but StandardScaler was fitted with feature names\n",
      "  warnings.warn(\n",
      "c:\\master-thesis\\myenv\\lib\\site-packages\\lightning\\pytorch\\trainer\\connectors\\data_connector.py:424: The 'predict_dataloader' does not have many workers which may be a bottleneck. Consider increasing the value of the `num_workers` argument` to `num_workers=19` in the `DataLoader` to improve performance.\n",
      "Predict:  33%|███▎      | 10/30 [00:46<01:29,  4.47s/ batches]c:\\master-thesis\\myenv\\lib\\site-packages\\sklearn\\base.py:493: UserWarning: X does not have valid feature names, but StandardScaler was fitted with feature names\n",
      "  warnings.warn(\n",
      "c:\\master-thesis\\myenv\\lib\\site-packages\\lightning\\pytorch\\trainer\\connectors\\data_connector.py:424: The 'predict_dataloader' does not have many workers which may be a bottleneck. Consider increasing the value of the `num_workers` argument` to `num_workers=19` in the `DataLoader` to improve performance.\n",
      "Predict:  37%|███▋      | 11/30 [00:50<01:22,  4.36s/ batches]c:\\master-thesis\\myenv\\lib\\site-packages\\sklearn\\base.py:493: UserWarning: X does not have valid feature names, but StandardScaler was fitted with feature names\n",
      "  warnings.warn(\n",
      "c:\\master-thesis\\myenv\\lib\\site-packages\\lightning\\pytorch\\trainer\\connectors\\data_connector.py:424: The 'predict_dataloader' does not have many workers which may be a bottleneck. Consider increasing the value of the `num_workers` argument` to `num_workers=19` in the `DataLoader` to improve performance.\n",
      "Predict:  40%|████      | 12/30 [00:53<01:13,  4.08s/ batches]c:\\master-thesis\\myenv\\lib\\site-packages\\sklearn\\base.py:493: UserWarning: X does not have valid feature names, but StandardScaler was fitted with feature names\n",
      "  warnings.warn(\n",
      "c:\\master-thesis\\myenv\\lib\\site-packages\\lightning\\pytorch\\trainer\\connectors\\data_connector.py:424: The 'predict_dataloader' does not have many workers which may be a bottleneck. Consider increasing the value of the `num_workers` argument` to `num_workers=19` in the `DataLoader` to improve performance.\n",
      "Predict:  43%|████▎     | 13/30 [00:57<01:06,  3.93s/ batches]c:\\master-thesis\\myenv\\lib\\site-packages\\sklearn\\base.py:493: UserWarning: X does not have valid feature names, but StandardScaler was fitted with feature names\n",
      "  warnings.warn(\n",
      "c:\\master-thesis\\myenv\\lib\\site-packages\\lightning\\pytorch\\trainer\\connectors\\data_connector.py:424: The 'predict_dataloader' does not have many workers which may be a bottleneck. Consider increasing the value of the `num_workers` argument` to `num_workers=19` in the `DataLoader` to improve performance.\n",
      "Predict:  47%|████▋     | 14/30 [01:01<01:04,  4.03s/ batches]c:\\master-thesis\\myenv\\lib\\site-packages\\sklearn\\base.py:493: UserWarning: X does not have valid feature names, but StandardScaler was fitted with feature names\n",
      "  warnings.warn(\n",
      "c:\\master-thesis\\myenv\\lib\\site-packages\\lightning\\pytorch\\trainer\\connectors\\data_connector.py:424: The 'predict_dataloader' does not have many workers which may be a bottleneck. Consider increasing the value of the `num_workers` argument` to `num_workers=19` in the `DataLoader` to improve performance.\n",
      "Predict:  50%|█████     | 15/30 [01:05<00:59,  3.95s/ batches]c:\\master-thesis\\myenv\\lib\\site-packages\\sklearn\\base.py:493: UserWarning: X does not have valid feature names, but StandardScaler was fitted with feature names\n",
      "  warnings.warn(\n",
      "c:\\master-thesis\\myenv\\lib\\site-packages\\lightning\\pytorch\\trainer\\connectors\\data_connector.py:424: The 'predict_dataloader' does not have many workers which may be a bottleneck. Consider increasing the value of the `num_workers` argument` to `num_workers=19` in the `DataLoader` to improve performance.\n",
      "Predict:  53%|█████▎    | 16/30 [01:08<00:52,  3.77s/ batches]c:\\master-thesis\\myenv\\lib\\site-packages\\sklearn\\base.py:493: UserWarning: X does not have valid feature names, but StandardScaler was fitted with feature names\n",
      "  warnings.warn(\n",
      "c:\\master-thesis\\myenv\\lib\\site-packages\\lightning\\pytorch\\trainer\\connectors\\data_connector.py:424: The 'predict_dataloader' does not have many workers which may be a bottleneck. Consider increasing the value of the `num_workers` argument` to `num_workers=19` in the `DataLoader` to improve performance.\n",
      "Predict:  57%|█████▋    | 17/30 [01:12<00:48,  3.75s/ batches]c:\\master-thesis\\myenv\\lib\\site-packages\\sklearn\\base.py:493: UserWarning: X does not have valid feature names, but StandardScaler was fitted with feature names\n",
      "  warnings.warn(\n",
      "c:\\master-thesis\\myenv\\lib\\site-packages\\lightning\\pytorch\\trainer\\connectors\\data_connector.py:424: The 'predict_dataloader' does not have many workers which may be a bottleneck. Consider increasing the value of the `num_workers` argument` to `num_workers=19` in the `DataLoader` to improve performance.\n",
      "Predict:  60%|██████    | 18/30 [01:15<00:43,  3.62s/ batches]c:\\master-thesis\\myenv\\lib\\site-packages\\sklearn\\base.py:493: UserWarning: X does not have valid feature names, but StandardScaler was fitted with feature names\n",
      "  warnings.warn(\n",
      "c:\\master-thesis\\myenv\\lib\\site-packages\\lightning\\pytorch\\trainer\\connectors\\data_connector.py:424: The 'predict_dataloader' does not have many workers which may be a bottleneck. Consider increasing the value of the `num_workers` argument` to `num_workers=19` in the `DataLoader` to improve performance.\n",
      "Predict:  63%|██████▎   | 19/30 [01:18<00:38,  3.49s/ batches]c:\\master-thesis\\myenv\\lib\\site-packages\\sklearn\\base.py:493: UserWarning: X does not have valid feature names, but StandardScaler was fitted with feature names\n",
      "  warnings.warn(\n",
      "c:\\master-thesis\\myenv\\lib\\site-packages\\lightning\\pytorch\\trainer\\connectors\\data_connector.py:424: The 'predict_dataloader' does not have many workers which may be a bottleneck. Consider increasing the value of the `num_workers` argument` to `num_workers=19` in the `DataLoader` to improve performance.\n",
      "Predict:  67%|██████▋   | 20/30 [01:22<00:34,  3.43s/ batches]c:\\master-thesis\\myenv\\lib\\site-packages\\sklearn\\base.py:493: UserWarning: X does not have valid feature names, but StandardScaler was fitted with feature names\n",
      "  warnings.warn(\n",
      "c:\\master-thesis\\myenv\\lib\\site-packages\\lightning\\pytorch\\trainer\\connectors\\data_connector.py:424: The 'predict_dataloader' does not have many workers which may be a bottleneck. Consider increasing the value of the `num_workers` argument` to `num_workers=19` in the `DataLoader` to improve performance.\n",
      "Predict:  70%|███████   | 21/30 [01:25<00:30,  3.39s/ batches]c:\\master-thesis\\myenv\\lib\\site-packages\\sklearn\\base.py:493: UserWarning: X does not have valid feature names, but StandardScaler was fitted with feature names\n",
      "  warnings.warn(\n",
      "c:\\master-thesis\\myenv\\lib\\site-packages\\lightning\\pytorch\\trainer\\connectors\\data_connector.py:424: The 'predict_dataloader' does not have many workers which may be a bottleneck. Consider increasing the value of the `num_workers` argument` to `num_workers=19` in the `DataLoader` to improve performance.\n",
      "Predict:  73%|███████▎  | 22/30 [01:28<00:26,  3.34s/ batches]c:\\master-thesis\\myenv\\lib\\site-packages\\sklearn\\base.py:493: UserWarning: X does not have valid feature names, but StandardScaler was fitted with feature names\n",
      "  warnings.warn(\n",
      "c:\\master-thesis\\myenv\\lib\\site-packages\\lightning\\pytorch\\trainer\\connectors\\data_connector.py:424: The 'predict_dataloader' does not have many workers which may be a bottleneck. Consider increasing the value of the `num_workers` argument` to `num_workers=19` in the `DataLoader` to improve performance.\n",
      "Predict:  77%|███████▋  | 23/30 [01:31<00:23,  3.31s/ batches]c:\\master-thesis\\myenv\\lib\\site-packages\\sklearn\\base.py:493: UserWarning: X does not have valid feature names, but StandardScaler was fitted with feature names\n",
      "  warnings.warn(\n",
      "c:\\master-thesis\\myenv\\lib\\site-packages\\lightning\\pytorch\\trainer\\connectors\\data_connector.py:424: The 'predict_dataloader' does not have many workers which may be a bottleneck. Consider increasing the value of the `num_workers` argument` to `num_workers=19` in the `DataLoader` to improve performance.\n",
      "Predict:  80%|████████  | 24/30 [01:35<00:19,  3.26s/ batches]c:\\master-thesis\\myenv\\lib\\site-packages\\sklearn\\base.py:493: UserWarning: X does not have valid feature names, but StandardScaler was fitted with feature names\n",
      "  warnings.warn(\n",
      "c:\\master-thesis\\myenv\\lib\\site-packages\\lightning\\pytorch\\trainer\\connectors\\data_connector.py:424: The 'predict_dataloader' does not have many workers which may be a bottleneck. Consider increasing the value of the `num_workers` argument` to `num_workers=19` in the `DataLoader` to improve performance.\n",
      "Predict:  83%|████████▎ | 25/30 [01:38<00:16,  3.24s/ batches]c:\\master-thesis\\myenv\\lib\\site-packages\\sklearn\\base.py:493: UserWarning: X does not have valid feature names, but StandardScaler was fitted with feature names\n",
      "  warnings.warn(\n",
      "c:\\master-thesis\\myenv\\lib\\site-packages\\lightning\\pytorch\\trainer\\connectors\\data_connector.py:424: The 'predict_dataloader' does not have many workers which may be a bottleneck. Consider increasing the value of the `num_workers` argument` to `num_workers=19` in the `DataLoader` to improve performance.\n",
      "Predict:  87%|████████▋ | 26/30 [01:41<00:12,  3.21s/ batches]c:\\master-thesis\\myenv\\lib\\site-packages\\sklearn\\base.py:493: UserWarning: X does not have valid feature names, but StandardScaler was fitted with feature names\n",
      "  warnings.warn(\n",
      "c:\\master-thesis\\myenv\\lib\\site-packages\\lightning\\pytorch\\trainer\\connectors\\data_connector.py:424: The 'predict_dataloader' does not have many workers which may be a bottleneck. Consider increasing the value of the `num_workers` argument` to `num_workers=19` in the `DataLoader` to improve performance.\n",
      "Predict:  90%|█████████ | 27/30 [01:44<00:09,  3.22s/ batches]c:\\master-thesis\\myenv\\lib\\site-packages\\sklearn\\base.py:493: UserWarning: X does not have valid feature names, but StandardScaler was fitted with feature names\n",
      "  warnings.warn(\n",
      "c:\\master-thesis\\myenv\\lib\\site-packages\\lightning\\pytorch\\trainer\\connectors\\data_connector.py:424: The 'predict_dataloader' does not have many workers which may be a bottleneck. Consider increasing the value of the `num_workers` argument` to `num_workers=19` in the `DataLoader` to improve performance.\n",
      "Predict:  93%|█████████▎| 28/30 [01:47<00:06,  3.23s/ batches]c:\\master-thesis\\myenv\\lib\\site-packages\\sklearn\\base.py:493: UserWarning: X does not have valid feature names, but StandardScaler was fitted with feature names\n",
      "  warnings.warn(\n",
      "c:\\master-thesis\\myenv\\lib\\site-packages\\lightning\\pytorch\\trainer\\connectors\\data_connector.py:424: The 'predict_dataloader' does not have many workers which may be a bottleneck. Consider increasing the value of the `num_workers` argument` to `num_workers=19` in the `DataLoader` to improve performance.\n",
      "Predict:  97%|█████████▋| 29/30 [01:51<00:03,  3.22s/ batches]c:\\master-thesis\\myenv\\lib\\site-packages\\sklearn\\base.py:493: UserWarning: X does not have valid feature names, but StandardScaler was fitted with feature names\n",
      "  warnings.warn(\n",
      "c:\\master-thesis\\myenv\\lib\\site-packages\\lightning\\pytorch\\trainer\\connectors\\data_connector.py:424: The 'predict_dataloader' does not have many workers which may be a bottleneck. Consider increasing the value of the `num_workers` argument` to `num_workers=19` in the `DataLoader` to improve performance.\n",
      "Predict: 100%|██████████| 30/30 [01:54<00:00,  3.24s/ batches]"
     ]
    }
   ],
   "source": [
    "dependency = best_tft.predict_dependency(\n",
    "    val_dataloader.dataset, \"CHART_227628\", np.linspace(0, 30, 30), show_progress_bar=True, mode=\"dataframe\"\n",
    ")"
   ]
  },
  {
   "cell_type": "code",
   "execution_count": 44,
   "metadata": {},
   "outputs": [
    {
     "name": "stderr",
     "output_type": "stream",
     "text": [
      "Predict: 100%|██████████| 30/30 [01:54<00:00,  3.81s/ batches]\n"
     ]
    },
    {
     "data": {
      "text/plain": [
       "<matplotlib.collections.PolyCollection at 0x280cf73a6e0>"
      ]
     },
     "execution_count": 44,
     "metadata": {},
     "output_type": "execute_result"
    },
    {
     "data": {
      "image/png": "[encoded data removed]",
      "text/plain": [
       "<Figure size 640x480 with 1 Axes>"
      ]
     },
     "metadata": {},
     "output_type": "display_data"
    }
   ],
   "source": [
    "# plotting median and 25% and 75% percentile\n",
    "agg_dependency = dependency.groupby(\"CHART_227628\").normalized_prediction.agg(\n",
    "    median=\"median\", q25=lambda x: x.quantile(0.25), q75=lambda x: x.quantile(0.75)\n",
    ")\n",
    "ax = agg_dependency.plot(y=\"median\")\n",
    "ax.fill_between(agg_dependency.index, agg_dependency.q25, agg_dependency.q75, alpha=0.3)"
   ]
  }
 ],
 "metadata": {
  "kernelspec": {
   "display_name": "Python 3",
   "language": "python",
   "name": "python3"
  },
  "language_info": {
   "codemirror_mode": {
    "name": "ipython",
    "version": 3
   },
   "file_extension": ".py",
   "mimetype": "text/x-python",
   "name": "python",
   "nbconvert_exporter": "python",
   "pygments_lexer": "ipython3",
   "version": "3.10.0"
  }
 },
 "nbformat": 4,
 "nbformat_minor": 2
}
