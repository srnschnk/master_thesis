{
 "cells": [
  {
   "cell_type": "code",
   "execution_count": null,
   "metadata": {},
   "outputs": [],
   "source": [
    "#pip install google-cloud-bigquery\n",
    "#pip install db-dtypes"
   ]
  },
  {
   "cell_type": "code",
   "execution_count": 1,
   "metadata": {},
   "outputs": [],
   "source": [
    "import os\n",
    "import pandas as pd\n",
    "import numpy as np\n",
    "\n",
    "import day_intervals_cohort_v2\n",
    "from day_intervals_cohort_v2 import *\n",
    "\n",
    "import day_intervals_cohort_v2_only_mortality\n",
    "from day_intervals_cohort_v2_only_mortality import *\n",
    "\n",
    "from google.cloud import bigquery"
   ]
  },
  {
   "cell_type": "code",
   "execution_count": 11,
   "metadata": {},
   "outputs": [
    {
     "data": {
      "text/plain": [
       "<module 'day_intervals_cohort_v2_only_mortality' from 'c:\\\\master-thesis\\\\preprocessing\\\\day_intervals_preproc\\\\day_intervals_cohort_v2_only_mortality.py'>"
      ]
     },
     "execution_count": 11,
     "metadata": {},
     "output_type": "execute_result"
    }
   ],
   "source": [
    "# Reload the module\n",
    "importlib.reload(day_intervals_cohort_v2_only_mortality)"
   ]
  },
  {
   "cell_type": "code",
   "execution_count": 44,
   "metadata": {},
   "outputs": [],
   "source": [
    "# Specify your Google Cloud project ID here\n",
    "#project_id = 'research-mimic-iv'\n",
    "\n",
    "# Create a BigQuery client with the specified project\n",
    "#client = bigquery.Client(project=project_id, location='US')"
   ]
  },
  {
   "cell_type": "code",
   "execution_count": 3,
   "metadata": {},
   "outputs": [],
   "source": [
    "# Example parameters\n",
    "use_ICU = \"ICU\"  # or \"Non-ICU\", depending on your data\n",
    "label = \"Mortality\"  # or \"Mortality\" etc.\n",
    "time = 30  # Number of days for the label\n",
    "icd_code = \"No Disease Filter\"  # Example ICD code, change as needed\n",
    "root_dir = 'C:\\\\master-thesis'  # Modify with the path to your data directory\n",
    "disease_label = \"Pneumonia\"  # Focus disease"
   ]
  },
  {
   "cell_type": "code",
   "execution_count": 12,
   "metadata": {},
   "outputs": [
    {
     "name": "stdout",
     "output_type": "stream",
     "text": [
      "===========MIMIC-IV v2.0============\n",
      "EXTRACTING FOR: | ICU | MORTALITY DUE TO PNEUMONIA | 30 | \n",
      "[ MORTALITY LABELS FINISHED ]\n",
      "[ COHORT SUCCESSFULLY SAVED ]\n",
      "[ SUMMARY SUCCESSFULLY SAVED ]\n",
      "MORTALITY FOR ICU DATA\n",
      "# Admission Records: 73181\n",
      "# Patients: 50920\n",
      "# Positive cases: 4889\n",
      "# Negative cases: 68292\n"
     ]
    },
    {
     "data": {
      "text/plain": [
       "'cohort_icu_mortality_30_Pneumonia'"
      ]
     },
     "execution_count": 12,
     "metadata": {},
     "output_type": "execute_result"
    }
   ],
   "source": [
    "# Call the function\n",
    "day_intervals_cohort_v2_only_mortality.extract_data(use_ICU, time, icd_code, root_dir, disease_label)"
   ]
  },
  {
   "cell_type": "code",
   "execution_count": 10,
   "metadata": {},
   "outputs": [
    {
     "name": "stdout",
     "output_type": "stream",
     "text": [
      "===========MIMIC-IV v2.0============\n",
      "EXTRACTING FOR: | ICU | MORTALITY DUE TO PNEUMONIA | 30 | \n",
      "[ MORTALITY LABELS FINISHED ]\n",
      "[ COHORT SUCCESSFULLY SAVED ]\n",
      "[ SUMMARY SUCCESSFULLY SAVED ]\n",
      "Mortality FOR ICU DATA\n",
      "# Admission Records: 73181\n",
      "# Patients: 50920\n",
      "# Positive cases: 4889\n",
      "# Negative cases: 68292\n"
     ]
    },
    {
     "data": {
      "text/plain": [
       "'cohort_icu_mortality_30_Pneumonia'"
      ]
     },
     "execution_count": 10,
     "metadata": {},
     "output_type": "execute_result"
    }
   ],
   "source": [
    "day_intervals_cohort_v2.extract_data(use_ICU, label, time, icd_code, root_dir, disease_label)"
   ]
  }
 ],
 "metadata": {
  "kernelspec": {
   "display_name": "Python 3",
   "language": "python",
   "name": "python3"
  },
  "language_info": {
   "codemirror_mode": {
    "name": "ipython",
    "version": 3
   },
   "file_extension": ".py",
   "mimetype": "text/x-python",
   "name": "python",
   "nbconvert_exporter": "python",
   "pygments_lexer": "ipython3",
   "version": "3.11.3"
  }
 },
 "nbformat": 4,
 "nbformat_minor": 2
}
