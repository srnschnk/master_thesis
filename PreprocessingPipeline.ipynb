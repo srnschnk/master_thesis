{
 "cells": [
  {
   "cell_type": "code",
   "execution_count": 3,
   "id": "available-albany",
   "metadata": {},
   "outputs": [],
   "source": [
    "import sys\n",
    "import os\n",
    "import importlib\n",
    "from pathlib import Path\n",
    "\n",
    "# Add custom module paths\n",
    "module_paths = [\n",
    "    'preprocessing/day_intervals_preproc',\n",
    "    'utils',\n",
    "    'preprocessing/hosp_module_preproc',\n",
    "    'model'\n",
    "]\n",
    "for module_path in module_paths:\n",
    "    if module_path not in sys.path:\n",
    "        sys.path.append(module_path)\n",
    "\n",
    "# Standard library imports\n",
    "import pandas as pd\n",
    "import pickle\n",
    "\n",
    "# External library imports\n",
    "import ipywidgets as widgets\n",
    "from sklearn.metrics import classification_report\n",
    "\n",
    "# Custom module imports\n",
    "import day_intervals_cohort\n",
    "import day_intervals_cohort_v2\n",
    "import data_generation_icu\n",
    "import data_generation\n",
    "import evaluation\n",
    "import feature_selection_hosp\n",
    "import feature_selection_icu\n",
    "import ml_models\n",
    "import dl_train\n",
    "import tokenization\n",
    "import fairness\n",
    "import callibrate_output\n",
    "\n",
    "# Reload custom modules to ensure latest versions\n",
    "custom_modules = [\n",
    "    day_intervals_cohort,\n",
    "    day_intervals_cohort_v2,\n",
    "    data_generation_icu,\n",
    "    data_generation,\n",
    "    feature_selection_hosp,\n",
    "    feature_selection_icu,\n",
    "    ml_models,\n",
    "    dl_train,\n",
    "    tokenization,\n",
    "    fairness,\n",
    "    callibrate_output,\n",
    "    evaluation\n",
    "]\n",
    "\n",
    "for module in custom_modules:\n",
    "    importlib.reload(module)\n",
    "\n",
    "# Optional: import everything from specific modules, if needed\n",
    "from day_intervals_cohort import *\n",
    "from day_intervals_cohort_v2 import *\n",
    "from feature_selection_hosp import *\n",
    "from feature_selection_icu import *\n",
    "from ml_models import *\n",
    "from dl_train import *\n",
    "from tokenization import *"
   ]
  },
  {
   "cell_type": "markdown",
   "id": "eligible-demand",
   "metadata": {},
   "source": [
    "# Welcome to your MIMIC-IV Project"
   ]
  },
  {
   "cell_type": "markdown",
   "id": "jewish-crown",
   "metadata": {},
   "source": [
    "This repository explains the steps to download and clean MIMIC-IV dataset for analysis.\n",
    "The repository is compatible with MIMIC-IV v1.0 and MIMIC-IV v2.0\n",
    "\n",
    "Please go to:\n",
    "- https://physionet.org/content/mimiciv/1.0/ for v1.0\n",
    "- https://physionet.org/content/mimiciv/2.0/ for v2.0\n",
    "\n",
    "Follow instructions to get access to MIMIC-IV dataset.\n",
    "\n",
    "Download the files using your terminal: \n",
    "- wget -r -N -c -np --user mehakg --ask-password https://physionet.org/files/mimiciv/1.0/ or\n",
    "- wget -r -N -c -np --user mehakg --ask-password https://physionet.org/files/mimiciv/2.0/\n",
    "        \n",
    "\n",
    "Save downloaded files in the parent directory of this github repo. \n",
    "\n",
    "The structure should look like below for v1.0-\n",
    "- mimiciv/1.0/core\n",
    "- mimiciv/1.0/hosp\n",
    "- mimiciv/1.0/icu\n",
    "\n",
    "The structure should look like below for v2.0-\n",
    "- mimiciv/2.0/hosp\n",
    "- mimiciv/2.0/icu"
   ]
  },
  {
   "cell_type": "markdown",
   "id": "happy-tissue",
   "metadata": {},
   "source": [
    "## 1. DATA EXTRACTION\n",
    "Please run below cell to select option for cohort selection.\n",
    "The cohort will be svaed in **./data/cohort/**"
   ]
  },
  {
   "cell_type": "code",
   "execution_count": 4,
   "id": "structured-dimension",
   "metadata": {
    "tags": [
     "{",
     "\"tags\":",
     "[",
     "\"hide-input\"",
     "]",
     "}"
    ]
   },
   "outputs": [
    {
     "name": "stdout",
     "output_type": "stream",
     "text": [
      "This Code is tailored for Version 2.2 of the MIMIC Data Set\n"
     ]
    },
    {
     "data": {
      "application/vnd.jupyter.widget-view+json": {
       "model_id": "ad1d7601baac4eea9518043e8e3baf75",
       "version_major": 2,
       "version_minor": 0
      },
      "text/plain": [
       "RadioButtons(options=('Version 2',), value='Version 2')"
      ]
     },
     "metadata": {},
     "output_type": "display_data"
    },
    {
     "name": "stdout",
     "output_type": "stream",
     "text": [
      "This Code is Tailored for Mortality Prediction\n"
     ]
    },
    {
     "data": {
      "application/vnd.jupyter.widget-view+json": {
       "model_id": "ea063d4ac9b54fc9b8d7801fbeb2a45d",
       "version_major": 2,
       "version_minor": 0
      },
      "text/plain": [
       "RadioButtons(options=('Mortality',), value='Mortality')"
      ]
     },
     "metadata": {},
     "output_type": "display_data"
    }
   ],
   "source": [
    "print(\"This Code is tailored for Version 2.2 of the MIMIC Data Set\")\n",
    "version = widgets.RadioButtons(options=['Version 2'],value='Version 2')\n",
    "display(version)\n",
    "\n",
    "print(\"This Code is Tailored for Mortality Prediction\")\n",
    "radio_input4 = widgets.RadioButtons(options=['Mortality'],value='Mortality')\n",
    "display(radio_input4)\n"
   ]
  },
  {
   "cell_type": "markdown",
   "id": "written-syndicate",
   "metadata": {},
   "source": [
    "### Refining Cohort and Prediction Task Definition\n",
    "\n",
    "Based on your current selection following block will provide option to further refine prediction task and cohort associated with it:\n",
    "\n",
    "- First you will refine the prediction task choosing from following options -\n",
    "    - **length of Stay** - You can select from two predefined options or enter custom number of days to predict length os stay greater than number of days.\n",
    "\n",
    "    - **Readmission** - You can select from two predefined options or enter custom number of days to predict readmission after \"number of days\" after previous admission.\n",
    "\n",
    "    - **Phenotype Prediction** - You can select from four major chronic diseases to predict its future outcome\n",
    "\n",
    "        - Heart failure\n",
    "        - CAD (Coronary Artery Disease)\n",
    "        - CKD (Chronic Kidney Disease)\n",
    "        - COPD (Chronic obstructive pulmonary disease)\n",
    "\n",
    "- Second, you will choode whether to perfom above task using ICU or non-ICU admissions data\n",
    "\n",
    "- Third, you can refine the refine the cohort selection for any of the above choosen prediction tasks by including the admission samples admitted with particular chronic disease - \n",
    "    - Heart failure\n",
    "    - CAD (Coronary Artery Disease)\n",
    "    - CKD (Chronic Kidney Disease)\n",
    "    - COPD (Chronic obstructive pulmonary disease)\n",
    "    \n",
    "print(\"**Please run below cell to extract the cohort for selected options**\")"
   ]
  },
  {
   "cell_type": "code",
   "execution_count": 5,
   "id": "broke-spirituality",
   "metadata": {},
   "outputs": [
    {
     "data": {
      "application/vnd.jupyter.widget-view+json": {
       "model_id": "3319595988654189a207dbefa64c2f68",
       "version_major": 2,
       "version_minor": 0
      },
      "text/plain": [
       "RadioButtons(options=('Mortality',), value='Mortality')"
      ]
     },
     "metadata": {},
     "output_type": "display_data"
    },
    {
     "name": "stdout",
     "output_type": "stream",
     "text": [
      "Extract Data\n",
      "Please select below if you want to work with ICU or Non-ICU data ?\n"
     ]
    },
    {
     "data": {
      "application/vnd.jupyter.widget-view+json": {
       "model_id": "c1ed666b2e8a4c2ba16ff6d2847255df",
       "version_major": 2,
       "version_minor": 0
      },
      "text/plain": [
       "RadioButtons(options=('ICU',), value='ICU')"
      ]
     },
     "metadata": {},
     "output_type": "display_data"
    },
    {
     "name": "stdout",
     "output_type": "stream",
     "text": [
      "Please select if you want to perform chosen prediction task for a specific disease.\n"
     ]
    },
    {
     "data": {
      "application/vnd.jupyter.widget-view+json": {
       "model_id": "e5fd6611d9f643f39fdd477177c81e4e",
       "version_major": 2,
       "version_minor": 0
      },
      "text/plain": [
       "RadioButtons(options=('No Disease Filter',), value='No Disease Filter')"
      ]
     },
     "metadata": {},
     "output_type": "display_data"
    }
   ],
   "source": [
    "import ipywidgets as widgets\n",
    "from IPython.display import display\n",
    "\n",
    "# Assuming radio_input4 is set to 'Mortality'\n",
    "radio_input4 = widgets.RadioButtons(options=['Mortality'], value='Mortality')\n",
    "\n",
    "# Display the option for Mortality (could be omitted if you always use 'Mortality')\n",
    "display(radio_input4)\n",
    "\n",
    "print(\"Extract Data\")\n",
    "print(\"Please select below if you want to work with ICU or Non-ICU data ?\")\n",
    "\n",
    "# Radio buttons for choosing ICU or Non-ICU data\n",
    "radio_input1 = widgets.RadioButtons(options=['ICU'], value='ICU')\n",
    "display(radio_input1)\n",
    "\n",
    "print(\"Please select if you want to perform chosen prediction task for a specific disease.\")\n",
    "\n",
    "# Radio buttons for choosing disease filter\n",
    "radio_input3 = widgets.RadioButtons(options=['No Disease Filter'], value='No Disease Filter')\n",
    "display(radio_input3)"
   ]
  },
  {
   "cell_type": "code",
   "execution_count": 6,
   "id": "312214db",
   "metadata": {},
   "outputs": [
    {
     "name": "stdout",
     "output_type": "stream",
     "text": [
      "===========MIMIC-IV v2.0============\n",
      "EXTRACTING FOR: | ICU | MORTALITY | 0 |\n",
      "[ MORTALITY LABELS FINISHED ]\n",
      "[ COHORT SUCCESSFULLY SAVED ]\n",
      "[ SUMMARY SUCCESSFULLY SAVED ]\n",
      "Mortality FOR ICU DATA\n",
      "# Admission Records: 73181\n",
      "# Patients: 50920\n",
      "# Positive cases: 4889\n",
      "# Negative cases: 68292\n"
     ]
    }
   ],
   "source": [
    "# Assuming the relevant variables are already defined:\n",
    "# radio_input1.value = 'ICU'\n",
    "# label = 'Mortality'\n",
    "\n",
    "# Default values set directly as there are no conditions to evaluate\n",
    "time = 0  # Set to a default value that makes sense for your mortality task\n",
    "icd_code = 'No Disease Filter'  # Default ICD code, adjust as necessary\n",
    "disease_label = ''  # Empty or a default value as needed\n",
    "label=radio_input4.value\n",
    "data_mort=label==\"Mortality\"\n",
    "\n",
    "# Directly set the version path for version 2.0\n",
    "version_path = \"mimiciv/2.0\"\n",
    "\n",
    "# Directly use the data extraction method for version 2.0\n",
    "cohort_output = day_intervals_cohort_v2.extract_data(radio_input1.value, label, time, icd_code, root_dir, disease_label)"
   ]
  },
  {
   "cell_type": "markdown",
   "id": "interstate-stadium",
   "metadata": {},
   "source": [
    "## 2. FEATURE SELECTION\n",
    "Features available for ICU data -\n",
    "- Diagnosis (https://mimic.mit.edu/docs/iv/modules/hosp/diagnoses_icd/)\n",
    "- Procedures (https://mimic.mit.edu/docs/iv/modules/icu/procedureevents/)\n",
    "- Medications (https://mimic.mit.edu/docs/iv/modules/icu/inputevents/)\n",
    "- Output Events (https://mimic.mit.edu/docs/iv/modules/icu/outputevents/)\n",
    "- Chart Events (https://mimic.mit.edu/docs/iv/modules/icu/chartevents/)\n",
    "\n",
    "Features available for ICU data -\n",
    "- Diagnosis (https://mimic.mit.edu/docs/iv/modules/hosp/diagnoses_icd/)\n",
    "- Procedures (https://mimic.mit.edu/docs/iv/modules/hosp/procedures_icd/)\n",
    "- Medications (https://mimic.mit.edu/docs/iv/modules/hosp/prescriptions/)\n",
    "- Lab Events (https://mimic.mit.edu/docs/iv/modules/hosp/labevents/)\n",
    "\n",
    "All features will be saved in **./data/features/**\n",
    "\n",
    "**Please run below cell to select features**"
   ]
  },
  {
   "cell_type": "code",
   "execution_count": 7,
   "id": "d1ec03d9",
   "metadata": {},
   "outputs": [],
   "source": [
    "disease_label=\"\"\n",
    "time=0\n",
    "label=radio_input4.value\n",
    "\n",
    "data_icu=radio_input1.value==\"ICU\"\n",
    "data_mort=label==\"Mortality\"\n",
    "data_admn=label=='Readmission'\n",
    "data_los=label=='Length of Stay'"
   ]
  },
  {
   "cell_type": "code",
   "execution_count": 8,
   "id": "9efc502b",
   "metadata": {},
   "outputs": [
    {
     "name": "stdout",
     "output_type": "stream",
     "text": [
      "Feature Selection\n",
      "Which Features you want to include for cohort?\n"
     ]
    },
    {
     "data": {
      "application/vnd.jupyter.widget-view+json": {
       "model_id": "7e16f0ca431246fe8221a264619f9f7f",
       "version_major": 2,
       "version_minor": 0
      },
      "text/plain": [
       "Checkbox(value=True, description='Diagnosis')"
      ]
     },
     "metadata": {},
     "output_type": "display_data"
    },
    {
     "data": {
      "application/vnd.jupyter.widget-view+json": {
       "model_id": "6296c1e39b5a458c99b47025094692a6",
       "version_major": 2,
       "version_minor": 0
      },
      "text/plain": [
       "Checkbox(value=True, description='Output Events')"
      ]
     },
     "metadata": {},
     "output_type": "display_data"
    },
    {
     "data": {
      "application/vnd.jupyter.widget-view+json": {
       "model_id": "e2ebfe8550604bf3aeaac15885d9bcd7",
       "version_major": 2,
       "version_minor": 0
      },
      "text/plain": [
       "Checkbox(value=True, description='Chart Events(Labs and Vitals)')"
      ]
     },
     "metadata": {},
     "output_type": "display_data"
    },
    {
     "data": {
      "application/vnd.jupyter.widget-view+json": {
       "model_id": "26c72657dd3643448aaa8629b5ca949e",
       "version_major": 2,
       "version_minor": 0
      },
      "text/plain": [
       "Checkbox(value=True, description='Procedures')"
      ]
     },
     "metadata": {},
     "output_type": "display_data"
    },
    {
     "data": {
      "application/vnd.jupyter.widget-view+json": {
       "model_id": "eee911ab5e6a469bb21e4bb5e3a0b470",
       "version_major": 2,
       "version_minor": 0
      },
      "text/plain": [
       "Checkbox(value=True, description='Medications')"
      ]
     },
     "metadata": {},
     "output_type": "display_data"
    },
    {
     "name": "stdout",
     "output_type": "stream",
     "text": [
      "**Please run below cell to extract selected features**\n"
     ]
    }
   ],
   "source": [
    "print(\"Feature Selection\")\n",
    "if data_icu:\n",
    "    print(\"Which Features you want to include for cohort?\")\n",
    "    check_input1 = widgets.Checkbox(description='Diagnosis', value=True)\n",
    "    display(check_input1)\n",
    "    check_input2 = widgets.Checkbox(description='Output Events', value=True)\n",
    "    display(check_input2)\n",
    "    check_input3 = widgets.Checkbox(description='Chart Events(Labs and Vitals)', value=True)\n",
    "    display(check_input3)\n",
    "    check_input4 = widgets.Checkbox(description='Procedures', value=True)\n",
    "    display(check_input4)\n",
    "    check_input5 = widgets.Checkbox(description='Medications', value=True)\n",
    "    display(check_input5)\n",
    "else:\n",
    "    print(\"Which Features you want to include for cohort?\")\n",
    "    check_input1 = widgets.Checkbox(description='Diagnosis', value=True)\n",
    "    display(check_input1)\n",
    "    check_input2 = widgets.Checkbox(description='Labs', value=True)\n",
    "    display(check_input2)\n",
    "    check_input3 = widgets.Checkbox(description='Procedures', value=True)\n",
    "    display(check_input3)\n",
    "    check_input4 = widgets.Checkbox(description='Medications', value=True)\n",
    "    display(check_input4)\n",
    "print(\"**Please run below cell to extract selected features**\")\n"
   ]
  },
  {
   "cell_type": "code",
   "execution_count": 10,
   "id": "9a46a67d",
   "metadata": {},
   "outputs": [
    {
     "name": "stdout",
     "output_type": "stream",
     "text": [
      "Attempting to open: data/mimiciv/2.0/hosp/diagnoses_icd.csv.gz\n",
      "[EXTRACTING DIAGNOSIS DATA]\n",
      "# unique ICD-9 codes 6610\n",
      "# unique ICD-10 codes 9978\n",
      "# unique ICD-10 codes (After converting ICD-9 to ICD-10) 10270\n",
      "# unique ICD-10 codes (After clinical gruping ICD-10 codes) 1520\n",
      "# Admissions:   73159\n",
      "Total rows 1297458\n",
      "[SUCCESSFULLY SAVED DIAGNOSIS DATA]\n",
      "[EXTRACTING OUPTPUT EVENTS DATA]\n",
      "# Unique Events:   71\n",
      "# Admissions:   71111\n",
      "Total rows 4234967\n",
      "[SUCCESSFULLY SAVED OUPTPUT EVENTS DATA]\n",
      "[EXTRACTING CHART EVENTS DATA]\n"
     ]
    },
    {
     "name": "stderr",
     "output_type": "stream",
     "text": [
      "32it [07:05, 13.28s/it]\n"
     ]
    },
    {
     "name": "stdout",
     "output_type": "stream",
     "text": [
      "# Unique Events:   454\n",
      "# Admissions:   73173\n",
      "Total rows 76942772\n",
      "[SUCCESSFULLY SAVED CHART EVENTS DATA]\n",
      "[EXTRACTING PROCEDURES DATA]\n",
      "# Unique Events:   157\n",
      "# Admissions:   72711\n",
      "Total rows 678994\n",
      "[SUCCESSFULLY SAVED PROCEDURES DATA]\n",
      "[EXTRACTING MEDICATIONS DATA]\n",
      "# of unique type of drug:  195\n",
      "# Admissions:   68945\n",
      "# Total rows 4820051\n",
      "[SUCCESSFULLY SAVED MEDICATIONS DATA]\n"
     ]
    }
   ],
   "source": [
    "diag_flag=check_input1.value\n",
    "out_flag=check_input2.value\n",
    "chart_flag=check_input3.value\n",
    "proc_flag=check_input4.value\n",
    "med_flag=check_input5.value\n",
    "\n",
    "feature_icu(cohort_output, diag_flag,out_flag,chart_flag,proc_flag,med_flag)"
   ]
  },
  {
   "cell_type": "markdown",
   "id": "aboriginal-upset",
   "metadata": {},
   "source": [
    "## 3. CLINICAL GROUPING\n",
    "Below you will have option to clinically group diagnosis and medications.\n",
    "Grouping medical codes will reduce dimensional space of features.\n",
    "\n",
    "Default options selected below will group medical codes to reduce feature dimension space.\n",
    "\n",
    "**Please run below cell to select preprocessing for diferent features**"
   ]
  },
  {
   "cell_type": "code",
   "execution_count": 21,
   "id": "b0f74cf2",
   "metadata": {},
   "outputs": [
    {
     "name": "stdout",
     "output_type": "stream",
     "text": [
      "Do you want to group ICD 10 DIAG codes?\n"
     ]
    },
    {
     "data": {
      "application/vnd.jupyter.widget-view+json": {
       "model_id": "9906afb857e84137b7cefdcf23833149",
       "version_major": 2,
       "version_minor": 0
      },
      "text/plain": [
       "RadioButtons(index=2, layout=Layout(width='100%'), options=('Keep both ICD-9 and ICD-10 codes', 'Convert ICD-9…"
      ]
     },
     "metadata": {},
     "output_type": "display_data"
    },
    {
     "name": "stdout",
     "output_type": "stream",
     "text": [
      "**Please run below cell to perform feature preprocessing**\n"
     ]
    }
   ],
   "source": [
    "if diag_flag:\n",
    "    print(\"Do you want to group ICD 10 DIAG codes?\")\n",
    "    radio_input4 = widgets.RadioButtons(\n",
    "        options=['Keep both ICD-9 and ICD-10 codes', 'Convert ICD-9 to ICD-10 codes', 'Convert ICD-9 to ICD-10 and group ICD-10 codes'],\n",
    "        value='Convert ICD-9 to ICD-10 and group ICD-10 codes',\n",
    "        layout={'width': '100%'}\n",
    "    )\n",
    "    display(radio_input4)\n",
    "print(\"**Please run below cell to perform feature preprocessing**\")"
   ]
  },
  {
   "cell_type": "code",
   "execution_count": 23,
   "id": "72c075c7",
   "metadata": {},
   "outputs": [
    {
     "name": "stdout",
     "output_type": "stream",
     "text": [
      "[PROCESSING DIAGNOSIS DATA]\n",
      "Total number of rows 1228579\n",
      "[SUCCESSFULLY SAVED DIAGNOSIS DATA]\n"
     ]
    }
   ],
   "source": [
    "group_diag=False\n",
    "\n",
    "if data_icu:\n",
    "    if diag_flag:\n",
    "        group_diag=radio_input4.value\n",
    "    preprocess_features_icu(cohort_output, diag_flag, group_diag,False,False,False,0,0)"
   ]
  },
  {
   "cell_type": "markdown",
   "id": "immediate-captain",
   "metadata": {},
   "source": [
    "### 4. SUMMARY OF FEATURES\n",
    "\n",
    "This step will generate summary of all features extracted so far.<br>\n",
    "It will save summary files in **./data/summary/**<br>\n",
    "- These files provide summary about **mean frequency** of medical codes per admission.<br>\n",
    "- It also provides **total occurrence count** of each medical code.<br>\n",
    "- For labs and chart events it will also provide <br>**missing %** which tells how many rows for a certain medical code has missing value.\n",
    "\n",
    "Please use this information to further refine your cohort by selecting <br>which medical codes in each feature you want to keep and <br>which codes you would like to remove for downstream analysis tasks.\n",
    "\n",
    "**Please run below cell to generate summary files**"
   ]
  },
  {
   "cell_type": "code",
   "execution_count": 25,
   "id": "61d7f233",
   "metadata": {},
   "outputs": [
    {
     "name": "stdout",
     "output_type": "stream",
     "text": [
      "[GENERATING FEATURE SUMMARY]\n",
      "[SUCCESSFULLY SAVED FEATURE SUMMARY]\n"
     ]
    }
   ],
   "source": [
    "generate_summary_icu(diag_flag, proc_flag, med_flag, out_flag, chart_flag)"
   ]
  },
  {
   "cell_type": "markdown",
   "id": "northern-architecture",
   "metadata": {},
   "source": [
    "## 5. Feature Selection\n",
    "\n",
    "based on the files generated in previous step and other infromation gathered by you,<br>\n",
    "Please select which medical codes you want to include in this study.\n",
    "\n",
    "Please run below cell to to select options for which features you want to perform feature selection.\n",
    "\n",
    "- Select **Yes** if you want to select a subset of medical codes for that feature and<br> **edit** the corresponding feature file for it.\n",
    "- Select **No** if you want to keep all the codes in a feature."
   ]
  },
  {
   "cell_type": "code",
   "execution_count": 27,
   "id": "ceafc160",
   "metadata": {},
   "outputs": [
    {
     "name": "stdout",
     "output_type": "stream",
     "text": [
      "Do you want to do Feature Selection for Diagnosis \n",
      " (If yes, please edit list of codes in ./data/summary/diag_features.csv)\n"
     ]
    },
    {
     "data": {
      "application/vnd.jupyter.widget-view+json": {
       "model_id": "ec20392c7df34098964178752abad674",
       "version_major": 2,
       "version_minor": 0
      },
      "text/plain": [
       "RadioButtons(index=1, options=('Yes', 'No'), value='No')"
      ]
     },
     "metadata": {},
     "output_type": "display_data"
    },
    {
     "name": "stdout",
     "output_type": "stream",
     "text": [
      "Do you want to do Feature Selection for Medication \n",
      " (If yes, please edit list of codes in ./data/summary/med_features.csv)\n"
     ]
    },
    {
     "data": {
      "application/vnd.jupyter.widget-view+json": {
       "model_id": "f0f7fc62dec64c27973a8e3782574c81",
       "version_major": 2,
       "version_minor": 0
      },
      "text/plain": [
       "RadioButtons(index=1, options=('Yes', 'No'), value='No')"
      ]
     },
     "metadata": {},
     "output_type": "display_data"
    },
    {
     "name": "stdout",
     "output_type": "stream",
     "text": [
      "Do you want to do Feature Selection for Procedures \n",
      " (If yes, please edit list of codes in ./data/summary/proc_features.csv)\n"
     ]
    },
    {
     "data": {
      "application/vnd.jupyter.widget-view+json": {
       "model_id": "e235cdd977194f5f89fe8d74361b4fae",
       "version_major": 2,
       "version_minor": 0
      },
      "text/plain": [
       "RadioButtons(index=1, options=('Yes', 'No'), value='No')"
      ]
     },
     "metadata": {},
     "output_type": "display_data"
    },
    {
     "name": "stdout",
     "output_type": "stream",
     "text": [
      "Do you want to do Feature Selection for Output event \n",
      " (If yes, please edit list of codes in ./data/summary/out_features.csv)\n"
     ]
    },
    {
     "data": {
      "application/vnd.jupyter.widget-view+json": {
       "model_id": "76cbb2a4f9ab403781bd84caee7a973f",
       "version_major": 2,
       "version_minor": 0
      },
      "text/plain": [
       "RadioButtons(index=1, options=('Yes', 'No'), value='No')"
      ]
     },
     "metadata": {},
     "output_type": "display_data"
    },
    {
     "name": "stdout",
     "output_type": "stream",
     "text": [
      "Do you want to do Feature Selection for Chart events \n",
      " (If yes, please edit list of codes in ./data/summary/chart_features.csv)\n"
     ]
    },
    {
     "data": {
      "application/vnd.jupyter.widget-view+json": {
       "model_id": "bee4f2682306444abc3a92f1f35f468f",
       "version_major": 2,
       "version_minor": 0
      },
      "text/plain": [
       "RadioButtons(index=1, options=('Yes', 'No'), value='No')"
      ]
     },
     "metadata": {},
     "output_type": "display_data"
    },
    {
     "name": "stdout",
     "output_type": "stream",
     "text": [
      "**Please run below cell to perform feature selection**\n"
     ]
    }
   ],
   "source": [
    "if diag_flag:\n",
    "    print(\"Do you want to do Feature Selection for Diagnosis \\n (If yes, please edit list of codes in ./data/summary/diag_features.csv)\")\n",
    "    radio_input4 = widgets.RadioButtons(options=['Yes', 'No'], value='No')\n",
    "    display(radio_input4)       \n",
    "\n",
    "if med_flag:\n",
    "    print(\"Do you want to do Feature Selection for Medication \\n (If yes, please edit list of codes in ./data/summary/med_features.csv)\")\n",
    "    radio_input5 = widgets.RadioButtons(options=['Yes', 'No'], value='No')\n",
    "    display(radio_input5)   \n",
    "\n",
    "if proc_flag:\n",
    "    print(\"Do you want to do Feature Selection for Procedures \\n (If yes, please edit list of codes in ./data/summary/proc_features.csv)\")\n",
    "    radio_input6 = widgets.RadioButtons(options=['Yes', 'No'], value='No')\n",
    "    display(radio_input6)   \n",
    "\n",
    "if out_flag:\n",
    "    print(\"Do you want to do Feature Selection for Output event \\n (If yes, please edit list of codes in ./data/summary/out_features.csv)\")\n",
    "    radio_input7 = widgets.RadioButtons(options=['Yes', 'No'], value='No')\n",
    "    display(radio_input7)  \n",
    "\n",
    "if chart_flag:\n",
    "    print(\"Do you want to do Feature Selection for Chart events \\n (If yes, please edit list of codes in ./data/summary/chart_features.csv)\")\n",
    "    radio_input8 = widgets.RadioButtons(options=['Yes', 'No'], value='No')\n",
    "    display(radio_input8)  \n",
    "\n",
    "print(\"**Please run below cell to perform feature selection**\")\n"
   ]
  },
  {
   "cell_type": "code",
   "execution_count": 29,
   "id": "ceee2f15",
   "metadata": {},
   "outputs": [
    {
     "name": "stdout",
     "output_type": "stream",
     "text": [
      "[FEATURE SELECTION DIAGNOSIS DATA]\n",
      "Total number of rows 1228579\n",
      "[SUCCESSFULLY SAVED DIAGNOSIS DATA]\n",
      "[FEATURE SELECTION MEDICATIONS DATA]\n",
      "Total number of rows 4820051\n",
      "[SUCCESSFULLY SAVED MEDICATIONS DATA]\n",
      "[FEATURE SELECTION PROCEDURES DATA]\n",
      "Total number of rows 678994\n",
      "[SUCCESSFULLY SAVED PROCEDURES DATA]\n",
      "[FEATURE SELECTION OUTPUT EVENTS DATA]\n",
      "Total number of rows 4234967\n",
      "[SUCCESSFULLY SAVED OUTPUT EVENTS DATA]\n",
      "[FEATURE SELECTION CHART EVENTS DATA]\n",
      "Total number of rows 76942666\n",
      "[SUCCESSFULLY SAVED CHART EVENTS DATA]\n"
     ]
    }
   ],
   "source": [
    "select_diag = True\n",
    "select_med = True\n",
    "select_proc = True\n",
    "select_out = True\n",
    "select_chart = True\n",
    "\n",
    "features_selection_icu(cohort_output, diag_flag, proc_flag, med_flag, out_flag, chart_flag, select_diag, select_med, select_proc, select_out, select_chart)"
   ]
  },
  {
   "cell_type": "markdown",
   "id": "comfortable-director",
   "metadata": {},
   "source": [
    "## 6. CLEANING OF FEATURES\n",
    "Below you will have option to to clean lab and chart events by performing outlier removal and unit conversion.\n",
    "\n",
    "Outlier removal is performed to remove values higher than selected **right threshold** percentile and lower than selected **left threshold** percentile among all values for each itemid. \n",
    "\n",
    "**Please run below cell to select preprocessing for diferent features**"
   ]
  },
  {
   "cell_type": "code",
   "execution_count": 31,
   "id": "8f729913",
   "metadata": {},
   "outputs": [
    {
     "name": "stdout",
     "output_type": "stream",
     "text": [
      "Outlier removal in values of chart events ?\n"
     ]
    },
    {
     "data": {
      "application/vnd.jupyter.widget-view+json": {
       "model_id": "ea6e172aa9f84dabb35d42fa41818830",
       "version_major": 2,
       "version_minor": 0
      },
      "text/plain": [
       "RadioButtons(layout=Layout(height='40px', width='100%'), options=('No outlier detection', 'Impute Outlier (def…"
      ]
     },
     "metadata": {},
     "output_type": "display_data"
    },
    {
     "data": {
      "application/vnd.jupyter.widget-view+json": {
       "model_id": "d5e303ea8282483685cfbaa5f1ae2625",
       "version_major": 2,
       "version_minor": 0
      },
      "text/plain": [
       "HBox(children=(Label(value='Right Outlier Threshold', layout=Layout(width='150px')), IntSlider(value=98, layou…"
      ]
     },
     "metadata": {},
     "output_type": "display_data"
    },
    {
     "data": {
      "application/vnd.jupyter.widget-view+json": {
       "model_id": "9172e6fce050426daa1928f2c31fe58d",
       "version_major": 2,
       "version_minor": 0
      },
      "text/plain": [
       "HBox(children=(Label(value='Left Outlier Threshold', layout=Layout(width='150px')), IntSlider(value=0, layout=…"
      ]
     },
     "metadata": {},
     "output_type": "display_data"
    },
    {
     "name": "stdout",
     "output_type": "stream",
     "text": [
      "**Please run below cell to perform feature preprocessing**\n"
     ]
    }
   ],
   "source": [
    "if chart_flag:\n",
    "    print(\"Outlier removal in values of chart events ?\")\n",
    "    layout = widgets.Layout(width='100%', height='40px')  # set width and height\n",
    "\n",
    "    radio_input5 = widgets.RadioButtons(\n",
    "        options=['No outlier detection', 'Impute Outlier (default:98)', 'Remove outliers (default:98)'],\n",
    "        value='No outlier detection', layout=layout)\n",
    "    display(radio_input5)\n",
    "    outlier = widgets.IntSlider(\n",
    "        value=98,\n",
    "        min=90,\n",
    "        max=99,\n",
    "        step=1,\n",
    "        disabled=False, layout={'width': '100%'}\n",
    "    )\n",
    "    left_outlier = widgets.IntSlider(\n",
    "        value=0,\n",
    "        min=0,\n",
    "        max=10,\n",
    "        step=1,\n",
    "        disabled=False, layout={'width': '100%'}\n",
    "    )\n",
    "    display(widgets.HBox([widgets.Label('Right Outlier Threshold', layout={'width': '150px'}), outlier]))\n",
    "    display(widgets.HBox([widgets.Label('Left Outlier Threshold', layout={'width': '150px'}), left_outlier]))\n",
    "\n",
    "print(\"**Please run below cell to perform feature preprocessing**\")"
   ]
  },
  {
   "cell_type": "code",
   "execution_count": 32,
   "id": "6e38e25d",
   "metadata": {},
   "outputs": [],
   "source": [
    "if chart_flag:\n",
    "    clean_chart = radio_input5.value != 'No outlier detection'\n",
    "    impute_outlier_chart = radio_input5.value == 'Impute Outlier (default:98)'\n",
    "    thresh = outlier.value\n",
    "    left_thresh = left_outlier.value\n",
    "\n",
    "    preprocess_features_icu(cohort_output, False, False, chart_flag, clean_chart, impute_outlier_chart, thresh, left_thresh)"
   ]
  },
  {
   "cell_type": "markdown",
   "id": "independent-academy",
   "metadata": {},
   "source": [
    "## 7. Time-Series Representation\n",
    "In this section, please choose how you want to process and represent time-series data.\n",
    "\n",
    "- First option is to select the length of time-series data you want to include for this study. (Default is 72 hours)\n",
    "\n",
    "- Second option is to select bucket size which tells in what size time windows you want to divide your time-series.<br>\n",
    "For example, if you select **2** bucket size, it wil aggregate data for every 2 hours and <br>a time-series of length 24 hours will be represented as time-series with 12 time-windows <br>where data for every 2 hours is agggregated from original raw time-series.\n",
    "\n",
    "During this step, we will also save the time-series data in data dictionaries in the format that can be directly used for following deep learning analysis.\n",
    "\n",
    "### Imputation\n",
    "You can also choose if you want to impute lab/chart values. The imputation will be done by froward fill and mean or median imputation.<br>\n",
    "Values will be forward fill first and if no value exists for that admission we will use mean or median value for the patient.\n",
    "\n",
    "The data dictionaries will be saved in **./data/dict/**\n",
    "\n",
    "Please refer the readme to know the structure of data dictionaries.\n",
    "\n",
    "**Please run below cell to select time-series representation**"
   ]
  },
  {
   "cell_type": "code",
   "execution_count": 36,
   "id": "ea8bea62",
   "metadata": {},
   "outputs": [],
   "source": [
    "data_mort = True"
   ]
  },
  {
   "cell_type": "code",
   "execution_count": 37,
   "id": "63d7c08b",
   "metadata": {},
   "outputs": [
    {
     "name": "stdout",
     "output_type": "stream",
     "text": [
      "=======Time-series Data Representation=======\n",
      "Length of data to be included for time-series prediction ?\n"
     ]
    },
    {
     "data": {
      "application/vnd.jupyter.widget-view+json": {
       "model_id": "ce5d3cf104fb47f494bb1717c9c24129",
       "version_major": 2,
       "version_minor": 0
      },
      "text/plain": [
       "RadioButtons(index=2, options=('First 72 hours', 'First 48 hours', 'First 24 hours', 'Custom'), value='First 2…"
      ]
     },
     "metadata": {},
     "output_type": "display_data"
    },
    {
     "data": {
      "application/vnd.jupyter.widget-view+json": {
       "model_id": "b511d7d268e84c33b9bea75387fd4c32",
       "version_major": 2,
       "version_minor": 0
      },
      "text/plain": [
       "HBox(children=(Label(value='First (in hours):', layout=Layout(width='150px')), IntSlider(value=72, description…"
      ]
     },
     "metadata": {},
     "output_type": "display_data"
    },
    {
     "name": "stdout",
     "output_type": "stream",
     "text": [
      "What time bucket size you want to choose ?\n"
     ]
    },
    {
     "data": {
      "application/vnd.jupyter.widget-view+json": {
       "model_id": "3169b88f4f894e3e9c847bdb0b2dc681",
       "version_major": 2,
       "version_minor": 0
      },
      "text/plain": [
       "RadioButtons(index=1, options=('1 hour', '2 hour', '3 hour', '4 hour', '5 hour', 'Custom'), value='2 hour')"
      ]
     },
     "metadata": {},
     "output_type": "display_data"
    },
    {
     "data": {
      "application/vnd.jupyter.widget-view+json": {
       "model_id": "5f8d7d40ca354e9388eb36378124fc5d",
       "version_major": 2,
       "version_minor": 0
      },
      "text/plain": [
       "HBox(children=(Label(value='Bucket Size (in hours):', layout=Layout(width='150px')), IntSlider(value=1, max=6,…"
      ]
     },
     "metadata": {},
     "output_type": "display_data"
    },
    {
     "name": "stdout",
     "output_type": "stream",
     "text": [
      "Do you want to forward fill and mean or median impute lab/chart values to form continuous data signal?\n"
     ]
    },
    {
     "data": {
      "application/vnd.jupyter.widget-view+json": {
       "model_id": "36d078919d6f48c3adaa006c0f2f3a49",
       "version_major": 2,
       "version_minor": 0
      },
      "text/plain": [
       "RadioButtons(options=('No Imputation', 'forward fill and mean', 'forward fill and median'), value='No Imputati…"
      ]
     },
     "metadata": {},
     "output_type": "display_data"
    },
    {
     "name": "stdout",
     "output_type": "stream",
     "text": [
      "If you have chosen mortality prediction task, then what prediction window length do you want to keep?\n"
     ]
    },
    {
     "data": {
      "application/vnd.jupyter.widget-view+json": {
       "model_id": "461697d69af44c57a0350a81205ce523",
       "version_major": 2,
       "version_minor": 0
      },
      "text/plain": [
       "RadioButtons(index=3, options=('2 hours', '4 hours', '6 hours', '8 hours', 'Custom'), value='8 hours')"
      ]
     },
     "metadata": {},
     "output_type": "display_data"
    },
    {
     "data": {
      "application/vnd.jupyter.widget-view+json": {
       "model_id": "3a8fbf4685be4953b29f60eb9556a66f",
       "version_major": 2,
       "version_minor": 0
      },
      "text/plain": [
       "HBox(children=(Label(value='Prediction window (in hours)', layout=Layout(width='180px')), IntSlider(value=2, m…"
      ]
     },
     "metadata": {},
     "output_type": "display_data"
    },
    {
     "name": "stdout",
     "output_type": "stream",
     "text": [
      "**Please run below cell to perform time-series representation and save in data dictionaries**\n"
     ]
    }
   ],
   "source": [
    "print(\"=======Time-series Data Representation=======\")\n",
    "\n",
    "print(\"Length of data to be included for time-series prediction ?\")\n",
    "radio_input8 = widgets.RadioButtons(options=['First 72 hours', 'First 48 hours', 'First 24 hours', 'Custom'], value='First 24 hours')\n",
    "display(radio_input8)\n",
    "text2 = widgets.IntSlider(\n",
    "    value=72,\n",
    "    min=24,\n",
    "    max=72,\n",
    "    step=1,\n",
    "    description='First',\n",
    "    disabled=False\n",
    ")\n",
    "display(widgets.HBox([widgets.Label('First (in hours):', layout={'width': '150px'}), text2]))\n",
    "\n",
    "print(\"What time bucket size you want to choose ?\")\n",
    "radio_input7 = widgets.RadioButtons(options=['1 hour', '2 hour', '3 hour', '4 hour', '5 hour', 'Custom'], value='2 hour')\n",
    "display(radio_input7)\n",
    "text1 = widgets.IntSlider(\n",
    "    value=1,\n",
    "    min=1,\n",
    "    max=6,\n",
    "    step=1,\n",
    "    disabled=False\n",
    ")\n",
    "display(widgets.HBox([widgets.Label('Bucket Size (in hours):', layout={'width': '150px'}), text1]))\n",
    "\n",
    "print(\"Do you want to forward fill and mean or median impute lab/chart values to form continuous data signal?\")\n",
    "radio_impute = widgets.RadioButtons(options=['No Imputation', 'forward fill and mean', 'forward fill and median'], value='No Imputation')\n",
    "display(radio_impute)\n",
    "\n",
    "if data_mort:\n",
    "    print(\"If you have chosen mortality prediction task, then what prediction window length do you want to keep?\")\n",
    "    radio_input6 = widgets.RadioButtons(options=['2 hours', '4 hours', '6 hours', '8 hours', 'Custom'], value='8 hours')\n",
    "    display(radio_input6)\n",
    "    text3 = widgets.IntSlider(\n",
    "        value=2,\n",
    "        min=2,\n",
    "        max=8,\n",
    "        step=1,\n",
    "        disabled=False\n",
    "    )\n",
    "    display(widgets.HBox([widgets.Label('Prediction window (in hours)', layout={'width': '180px'}), text3]))\n",
    "\n",
    "print(\"**Please run below cell to perform time-series representation and save in data dictionaries**\")\n"
   ]
  },
  {
   "cell_type": "code",
   "execution_count": 41,
   "id": "7ea403da",
   "metadata": {},
   "outputs": [
    {
     "name": "stdout",
     "output_type": "stream",
     "text": [
      "First 24 hours\n",
      "2 hour\n",
      "8 hours\n",
      "No Imputation\n"
     ]
    }
   ],
   "source": [
    "# Print selected parameters\n",
    "print(radio_input8.value)\n",
    "print(radio_input7.value)\n",
    "print(radio_input6.value)\n",
    "print(radio_impute.value)"
   ]
  },
  {
   "cell_type": "code",
   "execution_count": 42,
   "id": "8341debb",
   "metadata": {},
   "outputs": [],
   "source": [
    "# Define objects based on widget selection\n",
    "if (radio_input6.value=='Custom'):\n",
    "    predW=int(text3.value)\n",
    "else:\n",
    "    predW=int(radio_input6.value[0].strip())\n",
    "if (radio_input7.value=='Custom'):\n",
    "    bucket=int(text1.value)\n",
    "else:\n",
    "    bucket=int(radio_input7.value[0].strip())\n",
    "if (radio_input8.value=='Custom'):\n",
    "    include=int(text2.value)\n",
    "else:\n",
    "    include=int(radio_input8.value.split()[1])\n",
    "if (radio_impute.value=='forward fill and mean'):\n",
    "    impute='Mean'\n",
    "elif (radio_impute.value=='forward fill and median'):\n",
    "    impute='Median'\n",
    "else:\n",
    "    impute=False"
   ]
  },
  {
   "cell_type": "code",
   "execution_count": 44,
   "id": "7579e633",
   "metadata": {},
   "outputs": [
    {
     "name": "stdout",
     "output_type": "stream",
     "text": [
      "[ READ COHORT ]\n",
      "[ ======READING DIAGNOSIS ]\n",
      "[ ======READING PROCEDURES ]\n",
      "[ ======READING OUT EVENTS ]\n",
      "[ ======READING CHART EVENTS ]\n"
     ]
    },
    {
     "name": "stderr",
     "output_type": "stream",
     "text": [
      "16it [10:41, 40.09s/it]\n"
     ]
    },
    {
     "name": "stdout",
     "output_type": "stream",
     "text": [
      "[ ======READING MEDICATIONS ]\n",
      "[ READ ALL FEATURES ]\n",
      "include_time 24\n",
      "[ PROCESSED TIME SERIES TO EQUAL LENGTH  ]\n"
     ]
    },
    {
     "name": "stderr",
     "output_type": "stream",
     "text": [
      "100%|██████████| 12/12 [00:13<00:00,  1.11s/it]\n"
     ]
    },
    {
     "name": "stdout",
     "output_type": "stream",
     "text": [
      "bucket 2\n",
      "[ PROCESSED TIME SERIES TO EQUAL TIME INTERVAL ]\n",
      "12\n"
     ]
    },
    {
     "name": "stderr",
     "output_type": "stream",
     "text": [
      "100%|██████████| 47581/47581 [6:26:56<00:00,  2.05it/s]   \n"
     ]
    },
    {
     "name": "stdout",
     "output_type": "stream",
     "text": [
      "[ SUCCESSFULLY SAVED DATA DICTIONARIES ]\n"
     ]
    }
   ],
   "source": [
    "if data_icu:\n",
    "    gen=data_generation_icu.Generator(cohort_output,data_mort,data_admn,data_los,diag_flag,proc_flag,out_flag,chart_flag,med_flag,impute,include,bucket,predW)"
   ]
  },
  {
   "cell_type": "code",
   "execution_count": 45,
   "id": "3a632b41",
   "metadata": {},
   "outputs": [
    {
     "name": "stdout",
     "output_type": "stream",
     "text": [
      "[ READ COHORT ]\n",
      "[ ======READING DIAGNOSIS ]\n",
      "[ ======READING PROCEDURES ]\n",
      "[ ======READING OUT EVENTS ]\n",
      "[ ======READING CHART EVENTS ]\n"
     ]
    },
    {
     "name": "stderr",
     "output_type": "stream",
     "text": [
      "16it [05:16, 19.77s/it]\n"
     ]
    },
    {
     "name": "stdout",
     "output_type": "stream",
     "text": [
      "[ ======READING MEDICATIONS ]\n",
      "[ READ ALL FEATURES ]\n",
      "include_time 24\n",
      "[ PROCESSED TIME SERIES TO EQUAL LENGTH  ]\n"
     ]
    },
    {
     "name": "stderr",
     "output_type": "stream",
     "text": [
      "100%|██████████| 12/12 [00:04<00:00,  2.49it/s]\n"
     ]
    },
    {
     "name": "stdout",
     "output_type": "stream",
     "text": [
      "bucket 2\n",
      "[ PROCESSED TIME SERIES TO EQUAL TIME INTERVAL ]\n",
      "12\n"
     ]
    },
    {
     "name": "stderr",
     "output_type": "stream",
     "text": [
      "100%|██████████| 47581/47581 [5:26:46<00:00,  2.43it/s]   \n"
     ]
    },
    {
     "name": "stdout",
     "output_type": "stream",
     "text": [
      "[ SUCCESSFULLY SAVED DATA DICTIONARIES ]\n"
     ]
    }
   ],
   "source": [
    "if data_icu:\n",
    "    gen=data_generation_icu.Generator(cohort_output,data_mort,data_admn,data_los,diag_flag,proc_flag,out_flag,chart_flag,med_flag,impute,include,bucket,predW)\n",
    "    #gen=data_generation_icu.Generator(cohort_output,data_mort,diag_flag,False,False,chart_flag,False,impute,include,bucket,predW)\n",
    "    #if chart_flag\n",
    "    #    gen=data_generation_icu.Generator(cohort_output,data_mort,False,False,False,chart_flag,False,impute,include,bucket,predW)\n",
    "else:\n",
    "    gen=data_generation.Generator(cohort_output,data_mort,data_admn,data_los,diag_flag,lab_flag,proc_flag,med_flag,impute,include,bucket,predW)"
   ]
  },
  {
   "cell_type": "code",
   "execution_count": 46,
   "id": "fbf0c4ec",
   "metadata": {},
   "outputs": [
    {
     "name": "stdout",
     "output_type": "stream",
     "text": [
      "Value of radio_input8: First 24 hours\n",
      "[ READ COHORT ]\n",
      "[ ======READING DIAGNOSIS ]\n",
      "[ ======READING PROCEDURES ]\n",
      "[ ======READING OUT EVENTS ]\n",
      "[ ======READING CHART EVENTS ]\n"
     ]
    },
    {
     "name": "stderr",
     "output_type": "stream",
     "text": [
      "16it [09:05, 34.08s/it]\n"
     ]
    },
    {
     "name": "stdout",
     "output_type": "stream",
     "text": [
      "[ ======READING MEDICATIONS ]\n",
      "[ READ ALL FEATURES ]\n",
      "include_time 24\n",
      "[ PROCESSED TIME SERIES TO EQUAL LENGTH  ]\n"
     ]
    },
    {
     "name": "stderr",
     "output_type": "stream",
     "text": [
      "100%|██████████| 12/12 [00:07<00:00,  1.55it/s]\n"
     ]
    },
    {
     "name": "stdout",
     "output_type": "stream",
     "text": [
      "bucket 2\n",
      "[ PROCESSED TIME SERIES TO EQUAL TIME INTERVAL ]\n",
      "12\n"
     ]
    },
    {
     "name": "stderr",
     "output_type": "stream",
     "text": [
      "100%|██████████| 47581/47581 [6:00:54<00:00,  2.20it/s]  \n"
     ]
    },
    {
     "name": "stdout",
     "output_type": "stream",
     "text": [
      "[ SUCCESSFULLY SAVED DATA DICTIONARIES ]\n"
     ]
    }
   ],
   "source": [
    "if (radio_input6.value=='Custom'):\n",
    "    predW=int(text3.value)\n",
    "else:\n",
    "    predW=int(radio_input6.value[0].strip())\n",
    "if (radio_input7.value=='Custom'):\n",
    "    bucket=int(text1.value)\n",
    "else:\n",
    "    bucket=int(radio_input7.value[0].strip())\n",
    "if (radio_input8.value=='Custom'):\n",
    "    include=int(text2.value)\n",
    "else:\n",
    "    print(\"Value of radio_input8:\", radio_input8.value)\n",
    "    include=int(radio_input8.value.split()[1])\n",
    "if (radio_impute.value=='forward fill and mean'):\n",
    "    impute='Mean'\n",
    "elif (radio_impute.value=='forward fill and median'):\n",
    "    impute='Median'\n",
    "else:\n",
    "    impute=False\n",
    "\n",
    "if data_icu:\n",
    "    gen=data_generation_icu.Generator(cohort_output,data_mort,data_admn,data_los,diag_flag,proc_flag,out_flag,chart_flag,med_flag,impute,include,bucket,predW)"
   ]
  },
  {
   "cell_type": "markdown",
   "id": "7e99b36a",
   "metadata": {},
   "source": [
    "# END OF ORIGINAL PIPELINE"
   ]
  },
  {
   "cell_type": "markdown",
   "id": "a87d1284",
   "metadata": {},
   "source": [
    "# Group Minority Ethinicites into \"OTHER\""
   ]
  },
  {
   "cell_type": "code",
   "execution_count": 54,
   "id": "72fcfcd4",
   "metadata": {},
   "outputs": [],
   "source": [
    "def load_demo_data(stay_ids, base_path='./data/csv/'):\n",
    "    all_demos = pd.DataFrame()\n",
    "    for stay_id in stay_ids:\n",
    "        # Construct the file path\n",
    "        file_path = f'{base_path}{stay_id}/demo.csv'\n",
    "        # Load the demographic data\n",
    "        demo_data = pd.read_csv(file_path)\n",
    "        # Add a 'stay_id' column to keep track of the data\n",
    "        demo_data['stay_id'] = stay_id\n",
    "        # Append to the full DataFrame\n",
    "        all_demos = pd.concat([all_demos, demo_data], ignore_index=True)\n",
    "    return all_demos\n",
    "\n",
    "# Load labels.csv to get stay IDs\n",
    "labels = pd.read_csv('./data/csv/labels.csv')\n",
    "\n",
    "# Load demographic data for the sampled stays\n",
    "demo_data = load_demo_data(labels['stay_id'])"
   ]
  },
  {
   "cell_type": "code",
   "execution_count": 55,
   "id": "a9021549",
   "metadata": {},
   "outputs": [
    {
     "name": "stdout",
     "output_type": "stream",
     "text": [
      "ethnicity\n",
      "WHITE              19777\n",
      "UNKNOWN             3490\n",
      "BLACK               3025\n",
      "OTHER               1525\n",
      "HISPANIC/LATINO     1077\n",
      "ASIAN                755\n",
      "Name: count, dtype: int64\n",
      "gender\n",
      "M    16743\n",
      "F    12906\n",
      "Name: count, dtype: int64\n"
     ]
    }
   ],
   "source": [
    "# Get distribution of a categorical variable such as ethnicity\n",
    "ethnicity_counts = demo_data['ethnicity'].value_counts()\n",
    "print(ethnicity_counts)\n",
    "\n",
    "# If gender is also a column of interest\n",
    "gender_counts = demo_data['gender'].value_counts()\n",
    "print(gender_counts)"
   ]
  },
  {
   "cell_type": "code",
   "execution_count": 45,
   "id": "87975e15",
   "metadata": {},
   "outputs": [
    {
     "name": "stdout",
     "output_type": "stream",
     "text": [
      "ethnicity\n",
      "WHITE                                        19777\n",
      "BLACK                                         3025\n",
      "UNKNOWN                                       3022\n",
      "OTHER                                         1377\n",
      "HISPANIC/LATINO                                948\n",
      "ASIAN                                          755\n",
      "UNABLE TO OBTAIN                               343\n",
      "PORTUGUESE                                     129\n",
      "PATIENT DECLINED TO ANSWER                     125\n",
      "AMERICAN INDIAN/ALASKA NATIVE                   58\n",
      "NATIVE HAWAIIAN OR OTHER PACIFIC ISLANDER       40\n",
      "SOUTH AMERICAN                                  29\n",
      "MULTIPLE RACE/ETHNICITY                         21\n",
      "Name: count, dtype: int64\n"
     ]
    }
   ],
   "source": [
    "# Update all entries that contain \"WHITE\" to simply \"WHITE\"\n",
    "demo_data['ethnicity'] = demo_data['ethnicity'].apply(lambda x: 'WHITE' if 'WHITE' in x else x)\n",
    "\n",
    "# Update all entries that contain \"BLACK\" to simply \"BLACK\"\n",
    "demo_data['ethnicity'] = demo_data['ethnicity'].apply(lambda x: 'BLACK' if 'BLACK' in x else x)\n",
    "\n",
    "# Update all entries that contain \"BLACK\" to simply \"BLACK\"\n",
    "demo_data['ethnicity'] = demo_data['ethnicity'].apply(lambda x: 'ASIAN' if 'ASIAN' in x else x)\n",
    "\n",
    "# Update all entries that contain \"BLACK\" to simply \"BLACK\"\n",
    "demo_data['ethnicity'] = demo_data['ethnicity'].apply(lambda x: 'HISPANIC/LATINO' if 'HISPANIC' in x else x)\n",
    "\n",
    "# Update all entries that contain \"BLACK\" to simply \"BLACK\"\n",
    "demo_data['ethnicity'] = demo_data['ethnicity'].apply(lambda x: 'HISPANIC/LATINO' if 'LATINO' in x else x)\n",
    "\n",
    "# Verify the change by getting the distribution of the 'ethnicity' variable again\n",
    "ethnicity_counts_updated = demo_data['ethnicity'].value_counts()\n",
    "print(ethnicity_counts_updated)"
   ]
  },
  {
   "cell_type": "code",
   "execution_count": 48,
   "id": "bec99df2",
   "metadata": {},
   "outputs": [
    {
     "name": "stdout",
     "output_type": "stream",
     "text": [
      "ethnicity\n",
      "WHITE              19777\n",
      "UNKNOWN             3490\n",
      "BLACK               3025\n",
      "OTHER               1525\n",
      "HISPANIC/LATINO     1077\n",
      "ASIAN                755\n",
      "Name: count, dtype: int64\n"
     ]
    }
   ],
   "source": [
    "# Replace \"WHITE - OTHER EUROPEAN\" with \"WHITE\" in the ethnicity column\n",
    "demo_data['ethnicity'] = demo_data['ethnicity'].replace('PORTUGUESE', 'HISPANIC/LATINO')\n",
    "\n",
    "# Group inte UNKOWN\n",
    "demo_data['ethnicity'] = demo_data['ethnicity'].replace('PATIENT DECLINED TO ANSWER', 'UNKNOWN')\n",
    "demo_data['ethnicity'] = demo_data['ethnicity'].replace('UNABLE TO OBTAIN', 'UNKNOWN')\n",
    "\n",
    "# Group others into OTHER\n",
    "demo_data['ethnicity'] = demo_data['ethnicity'].replace('AMERICAN INDIAN/ALASKA NATIVE', 'OTHER')\n",
    "demo_data['ethnicity'] = demo_data['ethnicity'].replace('NATIVE HAWAIIAN OR OTHER PACIFIC ISLANDER', 'OTHER')\n",
    "demo_data['ethnicity'] = demo_data['ethnicity'].replace('SOUTH AMERICAN', 'OTHER')\n",
    "demo_data['ethnicity'] = demo_data['ethnicity'].replace('MULTIPLE RACE/ETHNICITY', 'OTHER')\n",
    "\n",
    "# Verify the change by getting the distribution of the 'ethnicity' variable again\n",
    "ethnicity_counts_updated = demo_data['ethnicity'].value_counts()\n",
    "print(ethnicity_counts_updated)"
   ]
  },
  {
   "cell_type": "code",
   "execution_count": 49,
   "id": "a851a3ea",
   "metadata": {},
   "outputs": [],
   "source": [
    "# Base path where csv files are stored\n",
    "base_path = './data/csv/'\n",
    "\n",
    "# Function to save the updated data back to CSV files\n",
    "def save_updated_data(demo_data):\n",
    "    for index, row in demo_data.iterrows():\n",
    "        stay_id = row['stay_id']\n",
    "        file_path = f'{base_path}{stay_id}/demo.csv'\n",
    "        # Convert the row to DataFrame and drop the 'stay_id' column before saving\n",
    "        row_df = pd.DataFrame([row]).drop(columns=['stay_id'])\n",
    "        row_df.to_csv(file_path, index=False)\n",
    "\n",
    "# Assuming demo_data is your DataFrame after applying all the modifications\n",
    "save_updated_data(demo_data)"
   ]
  }
 ],
 "metadata": {
  "hide_input": false,
  "kernelspec": {
   "display_name": "Python 3 (ipykernel)",
   "language": "python",
   "name": "python3"
  },
  "language_info": {
   "codemirror_mode": {
    "name": "ipython",
    "version": 3
   },
   "file_extension": ".py",
   "mimetype": "text/x-python",
   "name": "python",
   "nbconvert_exporter": "python",
   "pygments_lexer": "ipython3",
   "version": "3.11.3"
  }
 },
 "nbformat": 4,
 "nbformat_minor": 5
}
