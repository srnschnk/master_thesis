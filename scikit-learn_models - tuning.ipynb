{
 "cells": [
  {
   "cell_type": "code",
   "execution_count": 1,
   "metadata": {},
   "outputs": [],
   "source": [
    "import os\n",
    "import sys\n",
    "import json\n",
    "import random\n",
    "\n",
    "import numpy as np\n",
    "import pandas as pd\n",
    "import matplotlib.pyplot as plt\n",
    "import seaborn as sns\n",
    "import torch\n",
    "import ipywidgets as widgets\n",
    "\n",
    "from joblib import dump, load\n",
    "\n",
    "from imblearn.over_sampling import RandomOverSampler\n",
    "from imblearn.pipeline import make_pipeline as make_pipeline_imb\n",
    "\n",
    "from sklearn.base import clone\n",
    "from sklearn.compose import ColumnTransformer\n",
    "from sklearn.ensemble import RandomForestClassifier, GradientBoostingClassifier\n",
    "from sklearn.linear_model import LogisticRegression\n",
    "from sklearn.metrics import (accuracy_score, average_precision_score, classification_report,\n",
    "                             confusion_matrix, make_scorer, precision_recall_curve, roc_auc_score)\n",
    "from sklearn.model_selection import (StratifiedKFold, cross_val_predict, cross_val_score, \n",
    "                                     GridSearchCV, train_test_split)\n",
    "from sklearn.neural_network import MLPClassifier\n",
    "from sklearn.pipeline import Pipeline\n",
    "from sklearn.preprocessing import LabelEncoder, OneHotEncoder, StandardScaler\n"
   ]
  },
  {
   "cell_type": "code",
   "execution_count": 2,
   "metadata": {},
   "outputs": [],
   "source": [
    "# Set Seed for all packages\n",
    "def set_seed(seed=42):\n",
    "    \"\"\"Set seeds to make the experiment more reproducible.\"\"\"\n",
    "    random.seed(seed)\n",
    "    np.random.seed(seed)\n",
    "    torch.manual_seed(seed)\n",
    "    torch.cuda.manual_seed(seed)\n",
    "    torch.cuda.manual_seed_all(seed)  # if you are using multi-GPU\n",
    "    torch.backends.cudnn.deterministic = True\n",
    "    torch.backends.cudnn.benchmark = False\n",
    "\n",
    "set_seed(42)"
   ]
  },
  {
   "cell_type": "markdown",
   "metadata": {},
   "source": [
    "# Load Data"
   ]
  },
  {
   "cell_type": "code",
   "execution_count": 3,
   "metadata": {},
   "outputs": [
    {
     "name": "stdout",
     "output_type": "stream",
     "text": [
      "Files for 5% subset loaded successfully.\n",
      "Number of stays: 2379\n",
      "ICD Features shape: (2379, 1458)\n",
      "Summarized Dynamic Features shape: (2379, 16)\n",
      "Demographic Features shape: (2379, 4)\n"
     ]
    }
   ],
   "source": [
    "# Define the percentage to load\n",
    "percentage = '1%'  # Change this to '5%', '10%', etc., as needed\n",
    "\n",
    "# Base directory for the data subsets\n",
    "base_dir = f'./data/subsets/{percentage}_subsets/'\n",
    "\n",
    "# Load Labels\n",
    "labels = pd.read_csv(f'{base_dir}labels.csv')\n",
    "stay_ids = labels['stay_id'].unique()\n",
    "\n",
    "# Load static features\n",
    "icd_features = pd.read_pickle(f'{base_dir}icd_code_features.pkl')\n",
    "\n",
    "# Load summarized dynamic features\n",
    "sum_dynamic_features = pd.read_pickle(f'{base_dir}sum_dynamic_features.pkl')\n",
    "\n",
    "# Load demographic features\n",
    "demographic_features = pd.read_pickle(f'{base_dir}demographic_features.pkl')\n",
    "\n",
    "# Print information to confirm the files are loaded\n",
    "print(f\"Files for {percentage} subset loaded successfully.\")\n",
    "print(f\"Number of stays: {len(stay_ids)}\")\n",
    "print(f\"ICD Features shape: {icd_features.shape}\")\n",
    "print(f\"Summarized Dynamic Features shape: {sum_dynamic_features.shape}\")\n",
    "print(f\"Demographic Features shape: {demographic_features.shape}\")"
   ]
  },
  {
   "cell_type": "code",
   "execution_count": 4,
   "metadata": {},
   "outputs": [],
   "source": [
    "all_static_features = pd.concat([demographic_features, icd_features], axis=1)"
   ]
  },
  {
   "cell_type": "code",
   "execution_count": 5,
   "metadata": {},
   "outputs": [],
   "source": [
    "sum_dynamic_and_static_features = pd.concat([sum_dynamic_features, all_static_features], axis=1)"
   ]
  },
  {
   "cell_type": "markdown",
   "metadata": {},
   "source": [
    "# Define Setup for the Models"
   ]
  },
  {
   "cell_type": "code",
   "execution_count": 6,
   "metadata": {},
   "outputs": [
    {
     "data": {
      "application/vnd.jupyter.widget-view+json": {
       "model_id": "a0b42423203446dca0df8c8790f37c03",
       "version_major": 2,
       "version_minor": 0
      },
      "text/plain": [
       "Dropdown(description='Select DataFrame:', index=3, options=('Demographic', 'ICD Codes', 'Summarized Dynamic', …"
      ]
     },
     "metadata": {},
     "output_type": "display_data"
    }
   ],
   "source": [
    "# Dictionary of DataFrames for selection\n",
    "dataframes = {\n",
    "    'Demographic': demographic_features,\n",
    "    'ICD Codes': icd_features,\n",
    "    'Summarized Dynamic': sum_dynamic_features,\n",
    "    'Summarized Dynamic and all Static Features': sum_dynamic_and_static_features,\n",
    "}\n",
    "\n",
    "# Create a Dropdown widget for DataFrame selection\n",
    "df_selector = widgets.Dropdown(\n",
    "    options=list(dataframes.keys()),\n",
    "    value='Summarized Dynamic and all Static Features',\n",
    "    description='Select DataFrame:',\n",
    "    style={'description_width': 'initial'}\n",
    ")\n",
    "\n",
    "# Function to update the DataFrame based on selection\n",
    "def update_dataframe(change):\n",
    "    global X  # Define X as a global variable to use it outside this function\n",
    "    X = dataframes[change.new]  # Update X based on the selection\n",
    "    print(\"DataFrame selected:\", change.new)  # Optional: Print the selected DataFrame name\n",
    "\n",
    "# Link the widget to the function\n",
    "df_selector.observe(update_dataframe, names='value')\n",
    "\n",
    "# Initialize `X` with the default selection\n",
    "X = dataframes[df_selector.value]\n",
    "\n",
    "# Display the widget\n",
    "display(df_selector)"
   ]
  },
  {
   "cell_type": "markdown",
   "metadata": {},
   "source": [
    "Define Columns based on Selected Feature Data Frame"
   ]
  },
  {
   "cell_type": "markdown",
   "metadata": {},
   "source": [
    "Preprocessing and Cross-Validation Components"
   ]
  },
  {
   "cell_type": "code",
   "execution_count": 7,
   "metadata": {},
   "outputs": [],
   "source": [
    "# Split data into training and testing sets\n",
    "X_train, X_test, y_train, y_test = train_test_split(X, labels[\"label\"], stratify=labels[\"label\"], test_size=0.3, random_state=42)\n",
    "\n",
    "# Define categorical columns based on selection of Features\n",
    "if df_selector.value in ['Demographic', 'Summarized Dynamic and all Static Features']:\n",
    "    categorical_cols = [\"ethnicity\", \"insurance\", \"gender\"]\n",
    "else:\n",
    "    categorical_cols = []\n",
    "\n",
    "numerical_cols = [col for col in X.columns if col not in categorical_cols]\n",
    "\n",
    "# Then define your preprocessor with these dynamically set columns\n",
    "preprocessor = ColumnTransformer(\n",
    "    transformers=[\n",
    "        ('cat', OneHotEncoder(handle_unknown='ignore'), categorical_cols),\n",
    "        ('num', StandardScaler(), numerical_cols)\n",
    "    ])\n",
    "\n",
    "# Set up the cross-validation framework\n",
    "cv = StratifiedKFold(n_splits=5, shuffle=True, random_state=42)\n",
    "\n",
    "# Scoring metrics\n",
    "scoring = ['accuracy', 'precision', 'recall', 'f1']"
   ]
  },
  {
   "cell_type": "markdown",
   "metadata": {},
   "source": [
    "Define Function to Create Pipelines"
   ]
  },
  {
   "cell_type": "code",
   "execution_count": 8,
   "metadata": {},
   "outputs": [],
   "source": [
    "def create_model_pipeline(classifier, use_oversampling=False):\n",
    "    if use_oversampling:\n",
    "        pipeline = make_pipeline_imb(preprocessor, RandomOverSampler(random_state=42), classifier)\n",
    "    else:\n",
    "        pipeline = Pipeline(steps=[\n",
    "            ('preprocessor', preprocessor),\n",
    "            ('classifier', classifier)\n",
    "        ])\n",
    "    # Set an attribute to mark the use of oversampling\n",
    "    pipeline.use_oversampling = use_oversampling\n",
    "    return pipeline"
   ]
  },
  {
   "cell_type": "markdown",
   "metadata": {},
   "source": [
    "Define Function to Evaluate Models"
   ]
  },
  {
   "cell_type": "code",
   "execution_count": 9,
   "metadata": {},
   "outputs": [],
   "source": [
    "def generate_model_name(model):\n",
    "    base_model = model.steps[-1][1] if hasattr(model, 'steps') else model.__class__.__name__\n",
    "    oversampling_status = \"with_oversampling\" if hasattr(model, 'use_oversampling') and model.use_oversampling else \"without_oversampling\"\n",
    "    #encoding_status = \"with_mean_encoding\" if hasattr(model, 'use_mean_encoding') and model.use_mean_encoding else \"with_one_hot_encoding\"\n",
    "    \n",
    "    name = f\"{base_model.__class__.__name__}_{oversampling_status}\"\n",
    "    return name"
   ]
  },
  {
   "cell_type": "code",
   "execution_count": 10,
   "metadata": {},
   "outputs": [],
   "source": [
    "def evaluate_model(model, X, y, scoring, beta=2, cv=5, save_path=None):\n",
    "    model_name = generate_model_name(model)\n",
    "    \n",
    "    # Perform cross-validation scoring\n",
    "    cv_results = {score: cross_val_score(model, X, y, cv=cv, scoring=score).mean() for score in scoring}\n",
    "    y_probs = cross_val_predict(model, X, y, cv=cv, method='predict_proba')[:, 1]\n",
    "    auc_roc_cv = roc_auc_score(y, y_probs)\n",
    "    auprc_cv = average_precision_score(y, y_probs)\n",
    "\n",
    "    # Calculate the optimal threshold using F-beta score\n",
    "    precision, recall, thresholds = precision_recall_curve(y, y_probs)\n",
    "    f_beta_scores = (1 + beta**2) * (precision * recall) / ((beta**2 * precision) + recall)\n",
    "    optimal_idx = np.argmax(f_beta_scores)\n",
    "    optimal_threshold = thresholds[optimal_idx]\n",
    "\n",
    "    # Cross-validated predictions using the optimal threshold\n",
    "    y_pred = (y_probs > optimal_threshold).astype(int)\n",
    "\n",
    "    # Print the cross-validated results\n",
    "    print(f\"Cross-validated Results for {model_name}:\")\n",
    "    print(f\"Optimal Threshold: {optimal_threshold:.2f}\")\n",
    "    print(f\"Accuracy: {cv_results['accuracy']:.2f}\")\n",
    "    print(f\"Precision: {cv_results['precision']:.2f}\")\n",
    "    print(f\"Recall: {cv_results['recall']:.2f}\")\n",
    "    print(f\"F1-score: {cv_results['f1']:.2f}\")\n",
    "    print(f\"Cross-validated AUC-ROC: {auc_roc_cv:.2f}\")\n",
    "    print(f\"Cross-validated AUPRC: {auprc_cv:.2f}\")\n",
    "\n",
    "    if save_path:\n",
    "        # Ensure the directory exists\n",
    "        os.makedirs(os.path.dirname(save_path), exist_ok=True)\n",
    "        \n",
    "        # Plot and save the confusion matrix\n",
    "        cm = confusion_matrix(y, y_pred)\n",
    "        plt.figure(figsize=(8, 6))\n",
    "        sns.heatmap(cm, annot=True, fmt=\"d\", cmap='Blues', cbar=False)\n",
    "        plt.title(f'Confusion Matrix {model_name}')\n",
    "        plt.xlabel('Predicted Label')\n",
    "        plt.ylabel('True Label')\n",
    "        plt.savefig(f'{save_path}confusion_matrix_cv.png')\n",
    "        plt.close()  # Close the plot to free memory\n",
    "        print(f\"Saved confusion matrix plot to {save_path}confusion_matrix_cv.png\")\n",
    "        \n",
    "        # Save the cross-validation results\n",
    "        results_to_save = {\n",
    "            'cv_results': cv_results,\n",
    "            'auc_roc_cv': auc_roc_cv,\n",
    "            'auprc_cv': auprc_cv,\n",
    "            'optimal_threshold': optimal_threshold,\n",
    "            'confusion_matrix': cm.tolist()  # Saving matrix as list for JSON compatibility\n",
    "        }\n",
    "        with open(f'{save_path}cross_validated_performance_metrics.json', 'w') as f:\n",
    "            json.dump(results_to_save, f, indent=4)\n",
    "        print(f\"Saved cross-validated performance metrics to {save_path}cross_validated_performance_metrics.json\")\n",
    "\n",
    "    return cv_results, auc_roc_cv, auprc_cv"
   ]
  },
  {
   "cell_type": "code",
   "execution_count": 11,
   "metadata": {},
   "outputs": [],
   "source": [
    "def evaluate_full_model(model, X_test, y_test, beta=2, save_path=None):\n",
    "    y_probs = model.predict_proba(X_test)[:, 1]\n",
    "    \n",
    "    # Calculate the optimal threshold using F-beta score\n",
    "    precision, recall, thresholds = precision_recall_curve(y_test, y_probs)\n",
    "    f_beta_scores = (1 + beta**2) * (precision * recall) / ((beta**2 * precision) + recall)\n",
    "    optimal_idx = np.argmax(f_beta_scores)\n",
    "    optimal_threshold = thresholds[optimal_idx]\n",
    "    \n",
    "    y_pred = (y_probs > optimal_threshold).astype(int)\n",
    "    \n",
    "    # Calculate AUC-ROC and AUPRC\n",
    "    auc_roc = roc_auc_score(y_test, y_probs)\n",
    "    auprc = average_precision_score(y_test, y_probs)\n",
    "    \n",
    "    # Generate confusion matrix\n",
    "    conf_matrix = confusion_matrix(y_test, y_pred)\n",
    "    \n",
    "    # Generate classification report\n",
    "    class_report = classification_report(y_test, y_pred, output_dict=True)\n",
    "    class_report['AUC-ROC'] = auc_roc\n",
    "    class_report['AUPRC'] = auprc\n",
    "    class_report['Optimal Threshold'] = optimal_threshold  # Adding the optimal threshold\n",
    "    \n",
    "    # Print classification report\n",
    "    print(\"\\nClassification Report for Model Trained on Full Dataset:\")\n",
    "    print(classification_report(y_test, y_pred))\n",
    "    print(f\"Optimal Threshold: {optimal_threshold:.2f}\")\n",
    "    print(f\"AUC-ROC (Full Model): {auc_roc:.2f}\")\n",
    "    print(f\"AUPRC (Full Model): {auprc:.2f}\")\n",
    "    \n",
    "    if save_path:\n",
    "        # Ensure the directory exists\n",
    "        os.makedirs(os.path.dirname(save_path), exist_ok=True)\n",
    "        \n",
    "        # Plot confusion matrix using Matplotlib\n",
    "        plt.figure(figsize=(8, 6))\n",
    "        sns.heatmap(conf_matrix, annot=True, fmt='d', cmap='Blues', cbar=False)\n",
    "        plt.title('Confusion Matrix')\n",
    "        plt.xlabel('Predicted Label')\n",
    "        plt.ylabel('True Label')\n",
    "        \n",
    "        # Save the confusion matrix plot\n",
    "        plt.savefig(f'{save_path}conf_matrix_no_cross_validation.png')\n",
    "        plt.close()  # Close the plot to free memory\n",
    "        \n",
    "        # Save the classification report\n",
    "        with open(f'{save_path}performance_metrics_no_cv.json', 'w') as f:\n",
    "            json.dump(class_report, f, indent=4)\n",
    "        \n",
    "        print(f\"Saved confusion matrix plot to {save_path}conf_matrix_no_cross_validation.png\")\n",
    "        print(f\"Saved classification report to {save_path}performance_metrics_no_cv.json\")\n",
    "\n",
    "    return auc_roc, auprc"
   ]
  },
  {
   "cell_type": "code",
   "execution_count": 12,
   "metadata": {},
   "outputs": [],
   "source": [
    "def plot_feature_importance_from_log_model(model, X_train, categorical_cols, numerical_cols, save_path=None):\n",
    "    # Extract the classifier part of the pipeline (always last)\n",
    "    classifier = model.steps[-1][1]\n",
    "\n",
    "    if not hasattr(classifier, 'coef_'):\n",
    "        raise AttributeError(f\"The {classifier.__class__.__name__} does not have 'coef_' attribute. Check if the model was trained.\")\n",
    "\n",
    "    # Extract coefficients\n",
    "    coefficients = classifier.coef_[0]\n",
    "\n",
    "    # Handle different pipeline configurations\n",
    "    if 'preprocessor' in model.named_steps:\n",
    "        preprocessor = model.named_steps['preprocessor']\n",
    "    else:\n",
    "        # Assume the preprocessor is the first step in an unnamed pipeline\n",
    "        preprocessor = model.steps[0][1]\n",
    "\n",
    "    # Initialize feature names list\n",
    "    feature_names = []\n",
    "\n",
    "    # Extract feature names correctly handling both named and unnamed preprocessors\n",
    "    for transformer_name, transformer, columns_used in preprocessor.transformers_:\n",
    "        if hasattr(transformer, 'get_feature_names_out') and hasattr(transformer, 'categories_'):\n",
    "            # Retrieve feature names from the fitted OneHotEncoder\n",
    "            transformed_names = transformer.get_feature_names_out()\n",
    "            feature_names.extend(transformed_names)\n",
    "        elif isinstance(transformer, StandardScaler):\n",
    "            # Directly appending numerical columns since they are just scaled\n",
    "            feature_names.extend(columns_used)\n",
    "\n",
    "    # Combine into a DataFrame for easy handling\n",
    "    feature_importance = pd.DataFrame({\n",
    "        'Feature': feature_names,\n",
    "        'Importance': coefficients\n",
    "    })\n",
    "\n",
    "    # Sorting by absolute value of coefficients to get top features\n",
    "    feature_importance['Importance_abs'] = feature_importance['Importance'].abs()\n",
    "    feature_importance_sorted = feature_importance.sort_values(by='Importance_abs', ascending=False).head(20)\n",
    "\n",
    "    # Plot\n",
    "    plt.figure(figsize=(10, 8))\n",
    "    plt.barh(feature_importance_sorted['Feature'], feature_importance_sorted['Importance'])\n",
    "    plt.xlabel('Coefficient Value')\n",
    "    plt.ylabel('Feature')\n",
    "    plt.title('Top 20 Important Features in Logistic Regression Model')\n",
    "    plt.gca().invert_yaxis()  # Invert y-axis to have the most important at the top\n",
    "    \n",
    "    # Save the plot and the data table if save_path is provided\n",
    "    if save_path:\n",
    "        # Create directories if they don't exist\n",
    "        plot_path = os.path.join(os.path.dirname(save_path), os.path.basename(save_path) + 'top_20_feature_importances.png')\n",
    "        table_path = os.path.join(os.path.dirname(save_path), 'feature_importances' + os.path.basename(save_path) + '.csv')\n",
    "        os.makedirs(os.path.dirname(save_path), exist_ok=True)\n",
    "        plt.savefig(plot_path, bbox_inches='tight')  # Save the plot\n",
    "        feature_importance.to_csv(table_path, index=False)  # Save the full feature importance table\n",
    "        print(f\"Feature importance plot saved to {plot_path}\")\n",
    "        print(f\"Feature importance table saved to {table_path}\")\n",
    "    \n",
    "    plt.show()"
   ]
  },
  {
   "cell_type": "code",
   "execution_count": 13,
   "metadata": {},
   "outputs": [],
   "source": [
    "def plot_feature_importance_from_tree_model(model, X_train, categorical_cols, numerical_cols, save_path=None):\n",
    "    # Extract the classifier from the pipeline\n",
    "    classifier = model.steps[-1][1]  # Access the last step, which should be the classifier\n",
    "\n",
    "    # Check for attribute existence for tree-based models\n",
    "    if not hasattr(classifier, 'feature_importances_'):\n",
    "        raise AttributeError(f\"{classifier.__class__.__name__} does not have 'feature_importances_' attribute. Check if the model was trained.\")\n",
    "\n",
    "    # Get the feature importances\n",
    "    importances = classifier.feature_importances_\n",
    "\n",
    "    # Handle different pipeline configurations\n",
    "    if 'preprocessor' in model.named_steps:\n",
    "        preprocessor = model.named_steps['preprocessor']\n",
    "    else:\n",
    "        # Assume the preprocessor is the first step in an unnamed pipeline\n",
    "        preprocessor = model.steps[0][1]\n",
    "\n",
    "    # Initialize feature names list\n",
    "    feature_names = []\n",
    "\n",
    "    # Extract feature names correctly handling both named and unnamed preprocessors\n",
    "    for transformer_name, transformer, columns_used in preprocessor.transformers_:\n",
    "        if hasattr(transformer, 'get_feature_names_out') and hasattr(transformer, 'categories_'):\n",
    "            # Retrieve feature names from the fitted OneHotEncoder\n",
    "            transformed_names = transformer.get_feature_names_out()\n",
    "            feature_names.extend(transformed_names)\n",
    "        elif isinstance(transformer, StandardScaler):\n",
    "            # Directly appending numerical columns since they are just scaled\n",
    "            feature_names.extend(columns_used)\n",
    "\n",
    "    # Combine into a DataFrame for easy handling\n",
    "    feature_importance = pd.DataFrame({\n",
    "        'Feature': feature_names,\n",
    "        'Importance': importances\n",
    "    })\n",
    "\n",
    "    # Sorting by importance\n",
    "    feature_importance_sorted = feature_importance.sort_values(by='Importance', ascending=False).head(20)\n",
    "\n",
    "    # Construct the title with the model's class name\n",
    "    model_name = classifier.__class__.__name__\n",
    "    title = f\"Top 20 Important Features in {model_name}\"\n",
    "\n",
    "    # Plot\n",
    "    plt.figure(figsize=(10, 8))\n",
    "    plt.barh(feature_importance_sorted['Feature'], feature_importance_sorted['Importance'])\n",
    "    plt.xlabel('Importance')\n",
    "    plt.ylabel('Feature')\n",
    "    plt.title(title)\n",
    "    plt.gca().invert_yaxis()  # Invert y-axis to have the most important at the top\n",
    "\n",
    "    # Save the plot and the data table if save_path is provided\n",
    "    if save_path:\n",
    "        # Create directories if they don't exist\n",
    "        plot_path = os.path.join(os.path.dirname(save_path), os.path.basename(save_path) + 'top_20_feature_importances.png' )\n",
    "        table_path = os.path.join(os.path.dirname(save_path), 'feature_importances_' + os.path.basename(save_path) + '.csv')\n",
    "        os.makedirs(os.path.dirname(save_path), exist_ok=True)\n",
    "        plt.savefig(plot_path, bbox_inches='tight')  # Save the plot\n",
    "        feature_importance.to_csv(table_path, index=False)  # Save the sorted feature importance table\n",
    "        print(f\"Feature importance plot saved to {plot_path}\")\n",
    "        print(f\"Feature importance table saved to {table_path}\")\n",
    "    \n",
    "    plt.show()"
   ]
  },
  {
   "cell_type": "code",
   "execution_count": 14,
   "metadata": {},
   "outputs": [],
   "source": [
    "def perturbation_feature_importance(model, X, y, metric=accuracy_score):\n",
    "    # Ensure the model is fitted\n",
    "    # Get baseline performance using the original untransformed dataset\n",
    "    baseline_preds = model.predict(X)\n",
    "    baseline_accuracy = metric(y, baseline_preds)\n",
    "    \n",
    "    # Initialize array to store importance\n",
    "    importances = np.zeros(X.shape[1])\n",
    "    \n",
    "    # Iterate over each feature\n",
    "    for i in range(X.shape[1]):\n",
    "        # Copy the dataset to not alter the original X\n",
    "        X_perturbed = X.copy()\n",
    "        \n",
    "        # Perturb feature by shuffling the column values\n",
    "        # Ensuring to shuffle the data directly\n",
    "        np.random.shuffle(X_perturbed.iloc[:, i].values)  # Use .values to access the numpy array\n",
    "        \n",
    "        # Calculate performance with the perturbed data\n",
    "        perturbed_preds = model.predict(X_perturbed)\n",
    "        perturbed_accuracy = metric(y, perturbed_preds)\n",
    "        \n",
    "        # Calculate importance as the change in performance\n",
    "        importances[i] = baseline_accuracy - perturbed_accuracy\n",
    "    \n",
    "    return importances"
   ]
  },
  {
   "cell_type": "code",
   "execution_count": 15,
   "metadata": {},
   "outputs": [],
   "source": [
    "# Assuming feature_importance_sorted is sorted and ready for plotting\n",
    "def plot_perturbation_importances(feature_importance_sorted, top_n=20, title='Top 20 Perturbation Importance', xlabel='Importance', save_path=None):\n",
    "    # Filter the top_n features for plotting\n",
    "    feature_importance_top_n = feature_importance_sorted.head(top_n)\n",
    "    \n",
    "    # Set the figure size\n",
    "    plt.figure(figsize=(10, 8))\n",
    "    \n",
    "    # Create a horizontal bar plot\n",
    "    plt.barh(feature_importance_top_n['Feature'], feature_importance_top_n['Importance'], color='skyblue')\n",
    "    \n",
    "    # Set the plot title and labels\n",
    "    plt.title(title)\n",
    "    plt.xlabel(xlabel)\n",
    "    plt.ylabel('Features')\n",
    "    \n",
    "    # Invert the y-axis to have the most important feature at the top\n",
    "    plt.gca().invert_yaxis()\n",
    "    \n",
    "    # Save the plot if a save path is provided\n",
    "    if save_path:\n",
    "        # Create directories if they don't exist\n",
    "        os.makedirs(os.path.dirname(save_path), exist_ok=True)\n",
    "        plt.savefig(save_path, bbox_inches='tight')  # Save the plot\n",
    "        print(f\"Feature importance plot saved to {save_path}\")\n",
    "    \n",
    "    # Show the plot\n",
    "    plt.show()"
   ]
  },
  {
   "cell_type": "markdown",
   "metadata": {},
   "source": [
    "# Logistic Regression"
   ]
  },
  {
   "cell_type": "markdown",
   "metadata": {},
   "source": [
    "Cross Validation"
   ]
  },
  {
   "cell_type": "code",
   "execution_count": 16,
   "metadata": {},
   "outputs": [
    {
     "data": {
      "text/plain": [
       "\"\\n# Logistic Regression\\nlog_reg_model = create_model_pipeline(LogisticRegression(max_iter=10000, random_state=42), use_oversampling=False)\\n\\n# Save the fully trained model (not the one used in cross-validation)\\nmodel_name_full = generate_model_name(log_reg_model)\\n\\n# Define save_path\\nsave_path = f'./saved_models/traditional_models/{model_name_full}/{df_selector.value}/trained_on_{percentage}_subset/'\\n\\n# Ensure the directory exists\\nos.makedirs(save_path, exist_ok=True)\\n\""
      ]
     },
     "execution_count": 16,
     "metadata": {},
     "output_type": "execute_result"
    }
   ],
   "source": [
    "\"\"\"\n",
    "# Logistic Regression\n",
    "log_reg_model = create_model_pipeline(LogisticRegression(max_iter=10000, random_state=42), use_oversampling=False)\n",
    "\n",
    "# Save the fully trained model (not the one used in cross-validation)\n",
    "model_name_full = generate_model_name(log_reg_model)\n",
    "\n",
    "# Define save_path\n",
    "save_path = f'./saved_models/traditional_models/{model_name_full}/{df_selector.value}/trained_on_{percentage}_subset/'\n",
    "\n",
    "# Ensure the directory exists\n",
    "os.makedirs(save_path, exist_ok=True)\n",
    "\"\"\""
   ]
  },
  {
   "cell_type": "code",
   "execution_count": 17,
   "metadata": {},
   "outputs": [
    {
     "data": {
      "text/plain": [
       "'\\ncv_results_lr, auc_roc_lr, auprc_lr = evaluate_model(log_reg_model, X_train, y_train, scoring, beta=2, save_path=save_path)\\nprint(\"Logistic Regression:\", cv_results_lr)\\nprint(f\"Cross-validated AUC-ROC: {auc_roc_lr:.2f}\")\\nprint(f\"Cross-validated AUPRC: {auprc_lr:.2f}\")\\n'"
      ]
     },
     "execution_count": 17,
     "metadata": {},
     "output_type": "execute_result"
    }
   ],
   "source": [
    "\"\"\"\n",
    "cv_results_lr, auc_roc_lr, auprc_lr = evaluate_model(log_reg_model, X_train, y_train, scoring, beta=2, save_path=save_path)\n",
    "print(\"Logistic Regression:\", cv_results_lr)\n",
    "print(f\"Cross-validated AUC-ROC: {auc_roc_lr:.2f}\")\n",
    "print(f\"Cross-validated AUPRC: {auprc_lr:.2f}\")\n",
    "\"\"\""
   ]
  },
  {
   "cell_type": "markdown",
   "metadata": {},
   "source": [
    "Train on Whole Data and Save Model"
   ]
  },
  {
   "cell_type": "code",
   "execution_count": 18,
   "metadata": {},
   "outputs": [
    {
     "data": {
      "text/plain": [
       "'\\n# Fit the model on the entire training set after cross-validation\\nlog_reg_model.fit(X_train, y_train)\\n\\n# Evaluate the fully trained model on the test set and print metrics\\nauc_roc_full, auprc_full = evaluate_full_model(log_reg_model, X_test, y_test, beta=2, save_path=save_path)\\nprint(f\"Full Model AUC-ROC: {auc_roc_full:.2f}\")\\nprint(f\"Full Model AUPRC: {auprc_full:.2f}\")\\n\\ndump(log_reg_model, save_path + f\"{model_name_full}.joblib\")\\n'"
      ]
     },
     "execution_count": 18,
     "metadata": {},
     "output_type": "execute_result"
    }
   ],
   "source": [
    "\"\"\"\n",
    "# Fit the model on the entire training set after cross-validation\n",
    "log_reg_model.fit(X_train, y_train)\n",
    "\n",
    "# Evaluate the fully trained model on the test set and print metrics\n",
    "auc_roc_full, auprc_full = evaluate_full_model(log_reg_model, X_test, y_test, beta=2, save_path=save_path)\n",
    "print(f\"Full Model AUC-ROC: {auc_roc_full:.2f}\")\n",
    "print(f\"Full Model AUPRC: {auprc_full:.2f}\")\n",
    "\n",
    "dump(log_reg_model, save_path + f\"{model_name_full}.joblib\")\n",
    "\"\"\""
   ]
  },
  {
   "cell_type": "markdown",
   "metadata": {},
   "source": [
    "Feature Importance"
   ]
  },
  {
   "cell_type": "code",
   "execution_count": 19,
   "metadata": {},
   "outputs": [],
   "source": [
    "# Now you can plot the feature importance\n",
    "#plot_feature_importance_from_log_model(log_reg_model, X_train, categorical_cols, numerical_cols, save_path)"
   ]
  },
  {
   "cell_type": "markdown",
   "metadata": {},
   "source": [
    "# Oversampling"
   ]
  },
  {
   "cell_type": "code",
   "execution_count": 20,
   "metadata": {},
   "outputs": [],
   "source": [
    "# Logistic Regression\n",
    "log_reg_model = create_model_pipeline(LogisticRegression(max_iter=10000, random_state=42), use_oversampling=True)\n",
    "\n",
    "# Save the fully trained model (not the one used in cross-validation)\n",
    "model_name_full = generate_model_name(log_reg_model)\n",
    "\n",
    "# Define save_path\n",
    "save_path = f'./saved_models/traditional_models/{model_name_full}/{df_selector.value}/trained_on_{percentage}_subset/'\n",
    "\n",
    "# Ensure the directory exists\n",
    "os.makedirs(save_path, exist_ok=True)"
   ]
  },
  {
   "cell_type": "code",
   "execution_count": 21,
   "metadata": {},
   "outputs": [
    {
     "name": "stdout",
     "output_type": "stream",
     "text": [
      "Cross-validated Results for LogisticRegression_with_oversampling:\n",
      "Optimal Threshold: 0.01\n",
      "Accuracy: 0.86\n",
      "Precision: 0.27\n",
      "Recall: 0.38\n",
      "F1-score: 0.31\n",
      "Cross-validated AUC-ROC: 0.77\n",
      "Cross-validated AUPRC: 0.25\n",
      "Saved confusion matrix plot to ./saved_models/traditional_models/LogisticRegression_with_oversampling/Summarized Dynamic and all Static Features/trained_on_5%_subset/confusion_matrix_cv.png\n",
      "Saved cross-validated performance metrics to ./saved_models/traditional_models/LogisticRegression_with_oversampling/Summarized Dynamic and all Static Features/trained_on_5%_subset/cross_validated_performance_metrics.json\n",
      "Logistic Regression: {'accuracy': 0.8648648648648647, 'precision': 0.2719991944412271, 'recall': 0.3767195767195767, 'f1': 0.313918847415697}\n",
      "Cross-validated AUC-ROC: 0.77\n",
      "Cross-validated AUPRC: 0.25\n"
     ]
    }
   ],
   "source": [
    "cv_results_lr, auc_roc_lr, auprc_lr = evaluate_model(log_reg_model, X_train, y_train, scoring, beta=2, save_path=save_path)\n",
    "print(\"Logistic Regression:\", cv_results_lr)\n",
    "print(f\"Cross-validated AUC-ROC: {auc_roc_lr:.2f}\")\n",
    "print(f\"Cross-validated AUPRC: {auprc_lr:.2f}\")"
   ]
  },
  {
   "cell_type": "markdown",
   "metadata": {},
   "source": [
    "Train on Whole Data and Save Model"
   ]
  },
  {
   "cell_type": "code",
   "execution_count": 22,
   "metadata": {},
   "outputs": [
    {
     "name": "stdout",
     "output_type": "stream",
     "text": [
      "\n",
      "Classification Report for Model Trained on Full Dataset:\n",
      "              precision    recall  f1-score   support\n",
      "\n",
      "           0       0.92      1.00      0.96       655\n",
      "           1       0.00      0.00      0.00        59\n",
      "\n",
      "    accuracy                           0.91       714\n",
      "   macro avg       0.46      0.50      0.48       714\n",
      "weighted avg       0.84      0.91      0.88       714\n",
      "\n",
      "Optimal Threshold: 1.00\n",
      "AUC-ROC (Full Model): 0.74\n",
      "AUPRC (Full Model): 0.24\n",
      "Saved confusion matrix plot to ./saved_models/traditional_models/LogisticRegression_with_oversampling/Summarized Dynamic and all Static Features/trained_on_5%_subset/conf_matrix_no_cross_validation.png\n",
      "Saved classification report to ./saved_models/traditional_models/LogisticRegression_with_oversampling/Summarized Dynamic and all Static Features/trained_on_5%_subset/performance_metrics_no_cv.json\n"
     ]
    },
    {
     "name": "stderr",
     "output_type": "stream",
     "text": [
      "C:\\Users\\soere\\AppData\\Local\\Temp\\ipykernel_23312\\3375389213.py:6: RuntimeWarning: invalid value encountered in divide\n",
      "  f_beta_scores = (1 + beta**2) * (precision * recall) / ((beta**2 * precision) + recall)\n"
     ]
    },
    {
     "data": {
      "text/plain": [
       "['./saved_models/traditional_models/LogisticRegression_with_oversampling/Summarized Dynamic and all Static Features/trained_on_5%_subset/LogisticRegression_with_oversampling.joblib']"
      ]
     },
     "execution_count": 22,
     "metadata": {},
     "output_type": "execute_result"
    }
   ],
   "source": [
    "# Fit the model on the entire training set after cross-validation\n",
    "log_reg_model.fit(X_train, y_train)\n",
    "\n",
    "# Evaluate the fully trained model on the test set and print metrics\n",
    "auc_roc_full, auprc_full = evaluate_full_model(log_reg_model, X_test, y_test, beta=2, save_path=save_path)\n",
    "\n",
    "dump(log_reg_model, save_path + f\"{model_name_full}.joblib\")"
   ]
  },
  {
   "cell_type": "markdown",
   "metadata": {},
   "source": [
    "Feature Importance"
   ]
  },
  {
   "cell_type": "code",
   "execution_count": 23,
   "metadata": {},
   "outputs": [
    {
     "name": "stdout",
     "output_type": "stream",
     "text": [
      "Feature importance plot saved to ./saved_models/traditional_models/LogisticRegression_with_oversampling/Summarized Dynamic and all Static Features/trained_on_5%_subset\\top_20_feature_importances.png\n",
      "Feature importance table saved to ./saved_models/traditional_models/LogisticRegression_with_oversampling/Summarized Dynamic and all Static Features/trained_on_5%_subset\\feature_importances.csv\n"
     ]
    },
    {
     "data": {
      "image/png": "[encoded data removed]",
      "text/plain": [
       "<Figure size 1000x800 with 1 Axes>"
      ]
     },
     "metadata": {},
     "output_type": "display_data"
    }
   ],
   "source": [
    "# Now you can plot the feature importance\n",
    "plot_feature_importance_from_log_model(log_reg_model, X_train, categorical_cols, numerical_cols, save_path)"
   ]
  },
  {
   "cell_type": "markdown",
   "metadata": {},
   "source": [
    "# Random Forest"
   ]
  },
  {
   "cell_type": "markdown",
   "metadata": {},
   "source": [
    "No oversampling"
   ]
  },
  {
   "cell_type": "code",
   "execution_count": 24,
   "metadata": {},
   "outputs": [
    {
     "data": {
      "text/plain": [
       "\"\\n# Random Forest\\nrf_model = create_model_pipeline(RandomForestClassifier(random_state=42), use_oversampling=False)\\n\\n# Save the fully trained model (not the one used in cross-validation)\\nmodel_name_full = generate_model_name(rf_model)\\n\\n# Define save_path\\nsave_path = f'./saved_models/traditional_models/{model_name_full}/{df_selector.value}/trained_on_{percentage}_subset/'\\n\\n# Ensure the directory exists\\nos.makedirs(save_path, exist_ok=True)\\n\""
      ]
     },
     "execution_count": 24,
     "metadata": {},
     "output_type": "execute_result"
    }
   ],
   "source": [
    "\"\"\"\n",
    "# Random Forest\n",
    "rf_model = create_model_pipeline(RandomForestClassifier(random_state=42), use_oversampling=False)\n",
    "\n",
    "# Save the fully trained model (not the one used in cross-validation)\n",
    "model_name_full = generate_model_name(rf_model)\n",
    "\n",
    "# Define save_path\n",
    "save_path = f'./saved_models/traditional_models/{model_name_full}/{df_selector.value}/trained_on_{percentage}_subset/'\n",
    "\n",
    "# Ensure the directory exists\n",
    "os.makedirs(save_path, exist_ok=True)\n",
    "\"\"\""
   ]
  },
  {
   "cell_type": "code",
   "execution_count": 25,
   "metadata": {},
   "outputs": [
    {
     "data": {
      "text/plain": [
       "'\\ncv_results_rf, auc_roc_rf, auprc_rf = evaluate_model(rf_model, X_train, y_train, scoring, beta=2, save_path=save_path)\\nprint(\"Random Forest with Oversampling:\", cv_results_rf)\\nprint(f\"Cross-validated AUC-ROC: {auc_roc_rf:.2f}\")\\nprint(f\"Cross-validated AUPRC: {auprc_rf:.2f}\")\\n'"
      ]
     },
     "execution_count": 25,
     "metadata": {},
     "output_type": "execute_result"
    }
   ],
   "source": [
    "\"\"\"\n",
    "cv_results_rf, auc_roc_rf, auprc_rf = evaluate_model(rf_model, X_train, y_train, scoring, beta=2, save_path=save_path)\n",
    "print(\"Random Forest with Oversampling:\", cv_results_rf)\n",
    "print(f\"Cross-validated AUC-ROC: {auc_roc_rf:.2f}\")\n",
    "print(f\"Cross-validated AUPRC: {auprc_rf:.2f}\")\n",
    "\"\"\""
   ]
  },
  {
   "cell_type": "markdown",
   "metadata": {},
   "source": [
    "Train on Whole Data and Save Model"
   ]
  },
  {
   "cell_type": "code",
   "execution_count": 26,
   "metadata": {},
   "outputs": [
    {
     "data": {
      "text/plain": [
       "'\\n# Fit the model on the entire training set after cross-validation\\nrf_model.fit(X_train, y_train)\\n\\n# Evaluate the fully trained model on the test set and print metrics\\nauc_roc_full, auprc_full = evaluate_full_model(rf_model, X_test, y_test, beta=2, save_path=save_path)\\n\\ndump(rf_model, save_path + f\"{model_name_full}.joblib\")\\n'"
      ]
     },
     "execution_count": 26,
     "metadata": {},
     "output_type": "execute_result"
    }
   ],
   "source": [
    "\"\"\"\n",
    "# Fit the model on the entire training set after cross-validation\n",
    "rf_model.fit(X_train, y_train)\n",
    "\n",
    "# Evaluate the fully trained model on the test set and print metrics\n",
    "auc_roc_full, auprc_full = evaluate_full_model(rf_model, X_test, y_test, beta=2, save_path=save_path)\n",
    "\n",
    "dump(rf_model, save_path + f\"{model_name_full}.joblib\")\n",
    "\"\"\""
   ]
  },
  {
   "cell_type": "markdown",
   "metadata": {},
   "source": [
    "Feature Importance"
   ]
  },
  {
   "cell_type": "code",
   "execution_count": 27,
   "metadata": {},
   "outputs": [],
   "source": [
    "#plot_feature_importance_from_tree_model(rf_model, X_train, categorical_cols, numerical_cols, save_path)"
   ]
  },
  {
   "cell_type": "markdown",
   "metadata": {},
   "source": [
    "# Oversampling"
   ]
  },
  {
   "cell_type": "code",
   "execution_count": 28,
   "metadata": {},
   "outputs": [],
   "source": [
    "# Random Forest\n",
    "rf_model = create_model_pipeline(RandomForestClassifier(random_state=42), use_oversampling=True)\n",
    "\n",
    "# Save the fully trained model (not the one used in cross-validation)\n",
    "model_name_full = generate_model_name(rf_model)\n",
    "\n",
    "# Define save_path\n",
    "save_path = f'./saved_models/traditional_models/{model_name_full}/{df_selector.value}/trained_on_{percentage}_subset/'\n",
    "\n",
    "# Ensure the directory exists\n",
    "os.makedirs(save_path, exist_ok=True)"
   ]
  },
  {
   "cell_type": "code",
   "execution_count": 29,
   "metadata": {},
   "outputs": [
    {
     "name": "stdout",
     "output_type": "stream",
     "text": [
      "Fitting 5 folds for each of 108 candidates, totalling 540 fits\n"
     ]
    }
   ],
   "source": [
    "# Define the parameter grid\n",
    "param_grid = {\n",
    "    'randomforestclassifier__n_estimators': [100, 200, 300],\n",
    "    'randomforestclassifier__max_depth': [None, 10, 20, 30],\n",
    "    'randomforestclassifier__min_samples_split': [2, 5, 10],\n",
    "    'randomforestclassifier__min_samples_leaf': [1, 2, 4]\n",
    "}\n",
    "\n",
    "# Set up GridSearchCV\n",
    "rf_grid_search = GridSearchCV(rf_model, param_grid, cv=5, scoring='roc_auc', verbose=1, n_jobs=-1)\n",
    "\n",
    "# Fit GridSearchCV\n",
    "rf_grid_search.fit(X_train, y_train)\n",
    "\n",
    "# Best model after hyperparameter tuning\n",
    "best_rf_model = rf_grid_search.best_estimator_\n",
    "\n",
    "# Save the best parameters\n",
    "best_rf_params = rf_grid_search.best_params_\n",
    "\n",
    "# Save the best hyperparameters to a JSON file\n",
    "params_file_path = os.path.join(save_path, 'best_rf_hyperparameters.json')\n",
    "with open(params_file_path, 'w') as f:\n",
    "    json.dump(best_rf_params, f, indent=4)"
   ]
  },
  {
   "cell_type": "code",
   "execution_count": 30,
   "metadata": {},
   "outputs": [],
   "source": [
    "# Save the best hyperparameters to a JSON file\n",
    "params_file_path = os.path.join(save_path, 'best_hyperparameters.json')\n",
    "with open(params_file_path, 'w') as f:\n",
    "    json.dump(best_rf_params, f, indent=4)"
   ]
  },
  {
   "cell_type": "code",
   "execution_count": 31,
   "metadata": {},
   "outputs": [
    {
     "name": "stdout",
     "output_type": "stream",
     "text": [
      "Cross-validated Results for RandomForestClassifier_with_oversampling:\n",
      "Optimal Threshold: 0.19\n",
      "Accuracy: 0.92\n",
      "Precision: 0.83\n",
      "Recall: 0.10\n",
      "F1-score: 0.17\n",
      "Cross-validated AUC-ROC: 0.88\n",
      "Cross-validated AUPRC: 0.48\n",
      "Saved confusion matrix plot to ./saved_models/traditional_models/RandomForestClassifier_with_oversampling/Summarized Dynamic and all Static Features/trained_on_5%_subset/confusion_matrix_cv.png\n",
      "Saved cross-validated performance metrics to ./saved_models/traditional_models/RandomForestClassifier_with_oversampling/Summarized Dynamic and all Static Features/trained_on_5%_subset/cross_validated_performance_metrics.json\n",
      "Random Forest with Oversampling: {'accuracy': 0.9231231231231231, 'precision': 0.8333333333333333, 'recall': 0.10158730158730159, 'f1': 0.17442371670075654}\n",
      "Cross-validated AUC-ROC: 0.88\n",
      "Cross-validated AUPRC: 0.48\n"
     ]
    }
   ],
   "source": [
    "# Evaluate model without tuning \n",
    "cv_results_rf, auc_roc_rf, auprc_rf = evaluate_model(rf_model, X_train, y_train, scoring, beta=2, save_path=save_path)\n",
    "print(\"Random Forest with Oversampling:\", cv_results_rf)\n",
    "print(f\"Cross-validated AUC-ROC: {auc_roc_rf:.2f}\")\n",
    "print(f\"Cross-validated AUPRC: {auprc_rf:.2f}\")"
   ]
  },
  {
   "cell_type": "code",
   "execution_count": 32,
   "metadata": {},
   "outputs": [
    {
     "name": "stdout",
     "output_type": "stream",
     "text": [
      "Cross-validated Results for RandomForestClassifier_without_oversampling:\n",
      "Optimal Threshold: 0.26\n",
      "Accuracy: 0.93\n",
      "Precision: 0.80\n",
      "Recall: 0.23\n",
      "F1-score: 0.34\n",
      "Cross-validated AUC-ROC: 0.89\n",
      "Cross-validated AUPRC: 0.53\n",
      "Saved confusion matrix plot to ./saved_models/traditional_models/RandomForestClassifier_with_oversampling/Summarized Dynamic and all Static Features/trained_on_5%_subset/confusion_matrix_cv.png\n",
      "Saved cross-validated performance metrics to ./saved_models/traditional_models/RandomForestClassifier_with_oversampling/Summarized Dynamic and all Static Features/trained_on_5%_subset/cross_validated_performance_metrics.json\n",
      "Random Forest with Oversampling: {'accuracy': 0.9309309309309309, 'precision': 0.8, 'recall': 0.22566137566137562, 'f1': 0.34215780465780465}\n",
      "Cross-validated AUC-ROC: 0.89\n",
      "Cross-validated AUPRC: 0.53\n"
     ]
    }
   ],
   "source": [
    "# Evaluate model with tuning\n",
    "cv_results_rf, auc_roc_rf, auprc_rf = evaluate_model(best_rf_model, X_train, y_train, scoring, beta=2, save_path=save_path)\n",
    "print(\"Random Forest with Oversampling:\", cv_results_rf)\n",
    "print(f\"Cross-validated AUC-ROC: {auc_roc_rf:.2f}\")\n",
    "print(f\"Cross-validated AUPRC: {auprc_rf:.2f}\")"
   ]
  },
  {
   "cell_type": "markdown",
   "metadata": {},
   "source": [
    "Train on Whole Data and Save Model"
   ]
  },
  {
   "cell_type": "code",
   "execution_count": 33,
   "metadata": {},
   "outputs": [
    {
     "name": "stdout",
     "output_type": "stream",
     "text": [
      "\n",
      "Classification Report for Model Trained on Full Dataset:\n",
      "              precision    recall  f1-score   support\n",
      "\n",
      "           0       0.98      0.79      0.87       655\n",
      "           1       0.26      0.81      0.39        59\n",
      "\n",
      "    accuracy                           0.79       714\n",
      "   macro avg       0.62      0.80      0.63       714\n",
      "weighted avg       0.92      0.79      0.83       714\n",
      "\n",
      "Optimal Threshold: 0.24\n",
      "AUC-ROC (Full Model): 0.86\n",
      "AUPRC (Full Model): 0.37\n",
      "Saved confusion matrix plot to ./saved_models/traditional_models/RandomForestClassifier_with_oversampling/Summarized Dynamic and all Static Features/trained_on_5%_subset/conf_matrix_no_cross_validation.png\n",
      "Saved classification report to ./saved_models/traditional_models/RandomForestClassifier_with_oversampling/Summarized Dynamic and all Static Features/trained_on_5%_subset/performance_metrics_no_cv.json\n"
     ]
    },
    {
     "data": {
      "text/plain": [
       "['./saved_models/traditional_models/RandomForestClassifier_with_oversampling/Summarized Dynamic and all Static Features/trained_on_5%_subset/RandomForestClassifier_with_oversampling.joblib']"
      ]
     },
     "execution_count": 33,
     "metadata": {},
     "output_type": "execute_result"
    }
   ],
   "source": [
    "# Fit the model on the entire training set after cross-validation\n",
    "best_rf_model.fit(X_train, y_train)\n",
    "\n",
    "# Evaluate the fully trained model on the test set and print metrics\n",
    "auc_roc_full, auprc_full = evaluate_full_model(best_rf_model, X_test, y_test, beta=2, save_path=save_path)\n",
    "\n",
    "dump(best_rf_model, save_path + f\"{model_name_full}.joblib\")"
   ]
  },
  {
   "cell_type": "markdown",
   "metadata": {},
   "source": [
    "Feature Importance"
   ]
  },
  {
   "cell_type": "code",
   "execution_count": 34,
   "metadata": {},
   "outputs": [
    {
     "name": "stdout",
     "output_type": "stream",
     "text": [
      "Feature importance plot saved to ./saved_models/traditional_models/RandomForestClassifier_with_oversampling/Summarized Dynamic and all Static Features/trained_on_5%_subset\\top_20_feature_importances.png\n",
      "Feature importance table saved to ./saved_models/traditional_models/RandomForestClassifier_with_oversampling/Summarized Dynamic and all Static Features/trained_on_5%_subset\\feature_importances_.csv\n"
     ]
    },
    {
     "data": {
      "image/png": "[encoded data removed]",
      "text/plain": [
       "<Figure size 1000x800 with 1 Axes>"
      ]
     },
     "metadata": {},
     "output_type": "display_data"
    }
   ],
   "source": [
    "plot_feature_importance_from_tree_model(best_rf_model, X_train, categorical_cols, numerical_cols, save_path)"
   ]
  },
  {
   "cell_type": "markdown",
   "metadata": {},
   "source": [
    "# Gradient Boosting"
   ]
  },
  {
   "cell_type": "markdown",
   "metadata": {},
   "source": [
    "No Oversampling"
   ]
  },
  {
   "cell_type": "code",
   "execution_count": 35,
   "metadata": {},
   "outputs": [
    {
     "data": {
      "text/plain": [
       "\"\\n# Gradient Boosting\\ngb_model = create_model_pipeline(GradientBoostingClassifier(random_state=42), use_oversampling=False)\\n\\n# Save the fully trained model (not the one used in cross-validation)\\nmodel_name_full = generate_model_name(gb_model)\\n\\n# Define save_path\\nsave_path = f'./saved_models/traditional_models/{model_name_full}/{df_selector.value}/trained_on_{percentage}_subset/'\\n\\n# Ensure the directory exists\\nos.makedirs(save_path, exist_ok=True)\\n\""
      ]
     },
     "execution_count": 35,
     "metadata": {},
     "output_type": "execute_result"
    }
   ],
   "source": [
    "\"\"\"\n",
    "# Gradient Boosting\n",
    "gb_model = create_model_pipeline(GradientBoostingClassifier(random_state=42), use_oversampling=False)\n",
    "\n",
    "# Save the fully trained model (not the one used in cross-validation)\n",
    "model_name_full = generate_model_name(gb_model)\n",
    "\n",
    "# Define save_path\n",
    "save_path = f'./saved_models/traditional_models/{model_name_full}/{df_selector.value}/trained_on_{percentage}_subset/'\n",
    "\n",
    "# Ensure the directory exists\n",
    "os.makedirs(save_path, exist_ok=True)\n",
    "\"\"\""
   ]
  },
  {
   "cell_type": "code",
   "execution_count": 36,
   "metadata": {},
   "outputs": [
    {
     "data": {
      "text/plain": [
       "'\\ncv_results_gb, auc_roc_gb, auprc_gb = evaluate_model(gb_model, X_train, y_train, scoring, beta=2, save_path=save_path)\\nprint(\"Gradient Boosting:\", cv_results_gb)\\nprint(f\"Cross-validated AUC-ROC: {auc_roc_gb:.2f}\")\\nprint(f\"Cross-validated AUPRC: {auprc_gb:.2f}\")\\n'"
      ]
     },
     "execution_count": 36,
     "metadata": {},
     "output_type": "execute_result"
    }
   ],
   "source": [
    "\"\"\"\n",
    "cv_results_gb, auc_roc_gb, auprc_gb = evaluate_model(gb_model, X_train, y_train, scoring, beta=2, save_path=save_path)\n",
    "print(\"Gradient Boosting:\", cv_results_gb)\n",
    "print(f\"Cross-validated AUC-ROC: {auc_roc_gb:.2f}\")\n",
    "print(f\"Cross-validated AUPRC: {auprc_gb:.2f}\")\n",
    "\"\"\""
   ]
  },
  {
   "cell_type": "markdown",
   "metadata": {},
   "source": [
    "Train on Whole Data and Save Model"
   ]
  },
  {
   "cell_type": "code",
   "execution_count": 37,
   "metadata": {},
   "outputs": [
    {
     "data": {
      "text/plain": [
       "'\\n# Fit the model on the entire training set after cross-validation\\ngb_model.fit(X_train, y_train)\\n\\n# Evaluate the fully trained model on the test set and print metrics\\nauc_roc_full, auprc_full = evaluate_full_model(gb_model, X_test, y_test, beta=2, save_path=save_path)\\n\\n# Save the fully trained model (not the one used in cross-validation)\\ndump(gb_model, save_path + f\"{model_name_full}.joblib\")\\n'"
      ]
     },
     "execution_count": 37,
     "metadata": {},
     "output_type": "execute_result"
    }
   ],
   "source": [
    "\"\"\"\n",
    "# Fit the model on the entire training set after cross-validation\n",
    "gb_model.fit(X_train, y_train)\n",
    "\n",
    "# Evaluate the fully trained model on the test set and print metrics\n",
    "auc_roc_full, auprc_full = evaluate_full_model(gb_model, X_test, y_test, beta=2, save_path=save_path)\n",
    "\n",
    "# Save the fully trained model (not the one used in cross-validation)\n",
    "dump(gb_model, save_path + f\"{model_name_full}.joblib\")\n",
    "\"\"\""
   ]
  },
  {
   "cell_type": "markdown",
   "metadata": {},
   "source": [
    "Feature Importance"
   ]
  },
  {
   "cell_type": "code",
   "execution_count": 38,
   "metadata": {},
   "outputs": [],
   "source": [
    "#plot_feature_importance_from_tree_model(gb_model, X_train, categorical_cols, numerical_cols, save_path)"
   ]
  },
  {
   "cell_type": "markdown",
   "metadata": {},
   "source": [
    "Oversampling"
   ]
  },
  {
   "cell_type": "code",
   "execution_count": 39,
   "metadata": {},
   "outputs": [],
   "source": [
    "# Gradient Boosting\n",
    "gb_model = create_model_pipeline(GradientBoostingClassifier(random_state=42), use_oversampling=True)\n",
    "\n",
    "# Save the fully trained model (not the one used in cross-validation)\n",
    "model_name_full = generate_model_name(gb_model)\n",
    "\n",
    "# Define save_path\n",
    "save_path = f'./saved_models/traditional_models/{model_name_full}/{df_selector.value}/trained_on_{percentage}_subset/'\n",
    "\n",
    "# Ensure the directory exists\n",
    "os.makedirs(save_path, exist_ok=True)"
   ]
  },
  {
   "cell_type": "code",
   "execution_count": 40,
   "metadata": {},
   "outputs": [
    {
     "name": "stdout",
     "output_type": "stream",
     "text": [
      "Fitting 5 folds for each of 108 candidates, totalling 540 fits\n"
     ]
    }
   ],
   "source": [
    "# Define the parameter grid\n",
    "param_grid_gb = {\n",
    "    'gradientboostingclassifier__n_estimators': [100, 200, 300],\n",
    "    'gradientboostingclassifier__learning_rate': [0.01, 0.1, 0.2],\n",
    "    'gradientboostingclassifier__max_depth': [3, 5, 7],\n",
    "    'gradientboostingclassifier__min_samples_split': [2, 4],\n",
    "    'gradientboostingclassifier__min_samples_leaf': [1, 2]\n",
    "}\n",
    "\n",
    "# Set up GridSearchCV\n",
    "gb_grid_search = GridSearchCV(gb_model, param_grid_gb, cv=5, scoring='roc_auc', verbose=1, n_jobs=-1)\n",
    "\n",
    "# Fit GridSearchCV\n",
    "gb_grid_search.fit(X_train, y_train)\n",
    "\n",
    "# Best model after hyperparameter tuning\n",
    "best_gb_model = gb_grid_search.best_estimator_\n",
    "\n",
    "# Print best parameters and score\n",
    "print(\"Best Parameters:\")\n",
    "print(gb_grid_search.best_params_)\n",
    "print(f\"Best ROC-AUC: {gb_grid_search.best_score_:.2f}\")"
   ]
  },
  {
   "cell_type": "code",
   "execution_count": 41,
   "metadata": {},
   "outputs": [],
   "source": [
    "# Save the best parameters\n",
    "best_gb_params = gb_grid_search.best_params_\n",
    "\n",
    "# Save the best hyperparameters to a JSON file\n",
    "params_file_path = os.path.join(save_path, 'best_gb_hyperparameters.json')\n",
    "with open(params_file_path, 'w') as f:\n",
    "    json.dump(best_gb_params, f, indent=4)"
   ]
  },
  {
   "cell_type": "code",
   "execution_count": 42,
   "metadata": {},
   "outputs": [
    {
     "name": "stdout",
     "output_type": "stream",
     "text": [
      "Cross-validated Results for GradientBoostingClassifier_with_oversampling:\n",
      "Optimal Threshold: 1.00\n",
      "Accuracy: 0.90\n",
      "Precision: 0.30\n",
      "Recall: 0.21\n",
      "F1-score: 0.24\n",
      "Cross-validated AUC-ROC: 0.79\n",
      "Cross-validated AUPRC: 0.26\n",
      "Saved confusion matrix plot to ./saved_models/traditional_models/GradientBoostingClassifier_with_oversampling/Summarized Dynamic and all Static Features/trained_on_1%_subset/confusion_matrix_cv.png\n",
      "Saved cross-validated performance metrics to ./saved_models/traditional_models/GradientBoostingClassifier_with_oversampling/Summarized Dynamic and all Static Features/trained_on_1%_subset/cross_validated_performance_metrics.json\n",
      "Gradient Boosting: {'accuracy': 0.8975124378109453, 'precision': 0.2966666666666667, 'recall': 0.21333333333333332, 'f1': 0.24242424242424238}\n",
      "Cross-validated AUC-ROC: 0.79\n",
      "Cross-validated AUPRC: 0.26\n"
     ]
    },
    {
     "name": "stderr",
     "output_type": "stream",
     "text": [
      "C:\\Users\\soere\\AppData\\Local\\Temp\\ipykernel_31364\\3811502246.py:12: RuntimeWarning: invalid value encountered in divide\n",
      "  f_beta_scores = (1 + beta**2) * (precision * recall) / ((beta**2 * precision) + recall)\n"
     ]
    }
   ],
   "source": [
    "cv_results_gb, auc_roc_gb, auprc_gb = evaluate_model(gb_model, X_train, y_train, scoring, beta=2, save_path=save_path)\n",
    "print(\"Gradient Boosting:\", cv_results_gb)\n",
    "print(f\"Cross-validated AUC-ROC: {auc_roc_gb:.2f}\")\n",
    "print(f\"Cross-validated AUPRC: {auprc_gb:.2f}\")"
   ]
  },
  {
   "cell_type": "code",
   "execution_count": 43,
   "metadata": {},
   "outputs": [
    {
     "name": "stdout",
     "output_type": "stream",
     "text": [
      "Cross-validated Results for GradientBoostingClassifier_without_oversampling:\n",
      "Optimal Threshold: 1.00\n",
      "Accuracy: 0.91\n",
      "Precision: 0.52\n",
      "Recall: 0.29\n",
      "F1-score: 0.34\n",
      "Cross-validated AUC-ROC: 0.80\n",
      "Cross-validated AUPRC: 0.28\n",
      "Saved confusion matrix plot to ./saved_models/traditional_models/GradientBoostingClassifier_with_oversampling/Summarized Dynamic and all Static Features/trained_on_1%_subset/confusion_matrix_cv.png\n",
      "Saved cross-validated performance metrics to ./saved_models/traditional_models/GradientBoostingClassifier_with_oversampling/Summarized Dynamic and all Static Features/trained_on_1%_subset/cross_validated_performance_metrics.json\n",
      "Gradient Boosting: {'accuracy': 0.9066033469018544, 'precision': 0.5204761904761905, 'recall': 0.29333333333333333, 'f1': 0.33939393939393936}\n",
      "Cross-validated AUC-ROC: 0.80\n",
      "Cross-validated AUPRC: 0.28\n"
     ]
    },
    {
     "name": "stderr",
     "output_type": "stream",
     "text": [
      "C:\\Users\\soere\\AppData\\Local\\Temp\\ipykernel_31364\\3811502246.py:12: RuntimeWarning: invalid value encountered in divide\n",
      "  f_beta_scores = (1 + beta**2) * (precision * recall) / ((beta**2 * precision) + recall)\n"
     ]
    }
   ],
   "source": [
    "cv_results_gb, auc_roc_gb, auprc_gb = evaluate_model(best_gb_model, X_train, y_train, scoring, beta=2, save_path=save_path)\n",
    "print(\"Gradient Boosting:\", cv_results_gb)\n",
    "print(f\"Cross-validated AUC-ROC: {auc_roc_gb:.2f}\")\n",
    "print(f\"Cross-validated AUPRC: {auprc_gb:.2f}\")"
   ]
  },
  {
   "cell_type": "markdown",
   "metadata": {},
   "source": [
    "Train on whole Data and Save Model"
   ]
  },
  {
   "cell_type": "code",
   "execution_count": 44,
   "metadata": {},
   "outputs": [
    {
     "name": "stdout",
     "output_type": "stream",
     "text": [
      "\n",
      "Classification Report for Model Trained on Full Dataset:\n",
      "              precision    recall  f1-score   support\n",
      "\n",
      "           0       0.92      0.99      0.95       131\n",
      "           1       0.00      0.00      0.00        12\n",
      "\n",
      "    accuracy                           0.91       143\n",
      "   macro avg       0.46      0.50      0.48       143\n",
      "weighted avg       0.84      0.91      0.87       143\n",
      "\n",
      "Optimal Threshold: 0.96\n",
      "AUC-ROC (Full Model): 0.86\n",
      "AUPRC (Full Model): 0.37\n",
      "Saved confusion matrix plot to ./saved_models/traditional_models/GradientBoostingClassifier_with_oversampling/Summarized Dynamic and all Static Features/trained_on_1%_subset/conf_matrix_no_cross_validation.png\n",
      "Saved classification report to ./saved_models/traditional_models/GradientBoostingClassifier_with_oversampling/Summarized Dynamic and all Static Features/trained_on_1%_subset/performance_metrics_no_cv.json\n"
     ]
    },
    {
     "name": "stderr",
     "output_type": "stream",
     "text": [
      "C:\\Users\\soere\\AppData\\Local\\Temp\\ipykernel_31364\\3375389213.py:6: RuntimeWarning: invalid value encountered in divide\n",
      "  f_beta_scores = (1 + beta**2) * (precision * recall) / ((beta**2 * precision) + recall)\n"
     ]
    },
    {
     "data": {
      "text/plain": [
       "['./saved_models/traditional_models/GradientBoostingClassifier_with_oversampling/Summarized Dynamic and all Static Features/trained_on_1%_subset/GradientBoostingClassifier_with_oversampling.joblib']"
      ]
     },
     "execution_count": 44,
     "metadata": {},
     "output_type": "execute_result"
    }
   ],
   "source": [
    "# Fit the model on the entire training set after cross-validation\n",
    "best_gb_model.fit(X_train, y_train)\n",
    "\n",
    "# Evaluate the fully trained model on the test set and print metrics\n",
    "auc_roc_full, auprc_full = evaluate_full_model(best_gb_model, X_test, y_test, beta=2, save_path=save_path)\n",
    "\n",
    "# Save the fully trained model (not the one used in cross-validation)\n",
    "dump(best_gb_model, save_path + f\"{model_name_full}.joblib\")"
   ]
  },
  {
   "cell_type": "markdown",
   "metadata": {},
   "source": [
    "Feature Importance"
   ]
  },
  {
   "cell_type": "code",
   "execution_count": 45,
   "metadata": {},
   "outputs": [
    {
     "name": "stdout",
     "output_type": "stream",
     "text": [
      "Feature importance plot saved to ./saved_models/traditional_models/GradientBoostingClassifier_with_oversampling/Summarized Dynamic and all Static Features/trained_on_1%_subset\\top_20_feature_importances.png\n",
      "Feature importance table saved to ./saved_models/traditional_models/GradientBoostingClassifier_with_oversampling/Summarized Dynamic and all Static Features/trained_on_1%_subset\\feature_importances_.csv\n"
     ]
    },
    {
     "data": {
      "image/png": "[encoded data removed]",
      "text/plain": [
       "<Figure size 1000x800 with 1 Axes>"
      ]
     },
     "metadata": {},
     "output_type": "display_data"
    }
   ],
   "source": [
    "plot_feature_importance_from_tree_model(best_gb_model, X_train, categorical_cols, numerical_cols, save_path)"
   ]
  },
  {
   "cell_type": "markdown",
   "metadata": {},
   "source": [
    "# MLP Classifier"
   ]
  },
  {
   "cell_type": "markdown",
   "metadata": {},
   "source": [
    "No Oversampling"
   ]
  },
  {
   "cell_type": "code",
   "execution_count": 46,
   "metadata": {},
   "outputs": [
    {
     "data": {
      "text/plain": [
       "\"\\n# The parameters can be adjusted based on your dataset size and feature complexity\\nmlp_model = create_model_pipeline(MLPClassifier(hidden_layer_sizes=(100,), max_iter=1000, solver='adam', random_state=42), use_oversampling=False)\\n\\n# Generate model name\\nmodel_name_full = generate_model_name(mlp_model)\\n\\n# Define save_path\\nsave_path = f'./saved_models/traditional_models/{model_name_full}/{df_selector.value}/trained_on_{percentage}_subset/'\\n\\n# Ensure the directory exists\\nos.makedirs(save_path, exist_ok=True)\\n\""
      ]
     },
     "execution_count": 46,
     "metadata": {},
     "output_type": "execute_result"
    }
   ],
   "source": [
    "\"\"\"\n",
    "# The parameters can be adjusted based on your dataset size and feature complexity\n",
    "mlp_model = create_model_pipeline(MLPClassifier(hidden_layer_sizes=(100,), max_iter=1000, solver='adam', random_state=42), use_oversampling=False)\n",
    "\n",
    "# Generate model name\n",
    "model_name_full = generate_model_name(mlp_model)\n",
    "\n",
    "# Define save_path\n",
    "save_path = f'./saved_models/traditional_models/{model_name_full}/{df_selector.value}/trained_on_{percentage}_subset/'\n",
    "\n",
    "# Ensure the directory exists\n",
    "os.makedirs(save_path, exist_ok=True)\n",
    "\"\"\""
   ]
  },
  {
   "cell_type": "code",
   "execution_count": 47,
   "metadata": {},
   "outputs": [
    {
     "data": {
      "text/plain": [
       "'\\n# Print the results for the MLP model\\nprint(\"MLP Classifier:\")\\nprint(\"Cross-validation scores:\", cv_results_mlp)\\nprint(f\"Cross-validated AUC-ROC: {auc_roc_mlp:.2f}\")\\nprint(f\"Cross-validated AUPRC: {auprc_mlp:.2f}\")\\n'"
      ]
     },
     "execution_count": 47,
     "metadata": {},
     "output_type": "execute_result"
    }
   ],
   "source": [
    "# Evaluate the MLP model using the defined cross-validation framework and scoring metrics\n",
    "#cv_results_mlp, auc_roc_mlp, auprc_mlp = evaluate_model(mlp_model, X_train, y_train, scoring, beta=2, save_path=save_path)\n",
    "\"\"\"\n",
    "# Print the results for the MLP model\n",
    "print(\"MLP Classifier:\")\n",
    "print(\"Cross-validation scores:\", cv_results_mlp)\n",
    "print(f\"Cross-validated AUC-ROC: {auc_roc_mlp:.2f}\")\n",
    "print(f\"Cross-validated AUPRC: {auprc_mlp:.2f}\")\n",
    "\"\"\""
   ]
  },
  {
   "cell_type": "markdown",
   "metadata": {},
   "source": [
    "Train on Whole Data and Save Model"
   ]
  },
  {
   "cell_type": "code",
   "execution_count": 48,
   "metadata": {},
   "outputs": [
    {
     "data": {
      "text/plain": [
       "'\\n# Fit the model on the entire training set after cross-validation\\nmlp_model.fit(X_train, y_train)\\n\\n# Evaluate the fully trained model on the test set and print metrics\\nauc_roc_full, auprc_full = evaluate_full_model(mlp_model, X_test, y_test, beta=2, save_path=save_path)\\n\\n# Save the fully trained model (not the one used in cross-validation)\\ndump(mlp_model, save_path + f\"{model_name_full}.joblib\")\\n'"
      ]
     },
     "execution_count": 48,
     "metadata": {},
     "output_type": "execute_result"
    }
   ],
   "source": [
    "\"\"\"\n",
    "# Fit the model on the entire training set after cross-validation\n",
    "mlp_model.fit(X_train, y_train)\n",
    "\n",
    "# Evaluate the fully trained model on the test set and print metrics\n",
    "auc_roc_full, auprc_full = evaluate_full_model(mlp_model, X_test, y_test, beta=2, save_path=save_path)\n",
    "\n",
    "# Save the fully trained model (not the one used in cross-validation)\n",
    "dump(mlp_model, save_path + f\"{model_name_full}.joblib\")\n",
    "\"\"\""
   ]
  },
  {
   "cell_type": "code",
   "execution_count": 49,
   "metadata": {},
   "outputs": [
    {
     "data": {
      "text/plain": [
       "\"\\n# Call the function\\nimportances = perturbation_feature_importance(mlp_model, X_train, y_train)\\nfeature_names = X_train.columns  # Assuming X_train is a DataFrame\\nfeature_importance_df = pd.DataFrame({\\n    'Feature': feature_names,\\n    'Importance': importances\\n})\\n\""
      ]
     },
     "execution_count": 49,
     "metadata": {},
     "output_type": "execute_result"
    }
   ],
   "source": [
    "\"\"\"\n",
    "# Call the function\n",
    "importances = perturbation_feature_importance(mlp_model, X_train, y_train)\n",
    "feature_names = X_train.columns  # Assuming X_train is a DataFrame\n",
    "feature_importance_df = pd.DataFrame({\n",
    "    'Feature': feature_names,\n",
    "    'Importance': importances\n",
    "})\n",
    "\"\"\""
   ]
  },
  {
   "cell_type": "code",
   "execution_count": 50,
   "metadata": {},
   "outputs": [
    {
     "data": {
      "text/plain": [
       "\"\\nfeature_importance_sorted = feature_importance_df.sort_values(by='Importance', ascending=False)\\nfeature_importance_sorted.to_csv(f'./saved_models/traditional_models/trained_on_{percentage}_subset/{df_selector.value}/{model_name_full}/pertubation_importances.csv')\\n\""
      ]
     },
     "execution_count": 50,
     "metadata": {},
     "output_type": "execute_result"
    }
   ],
   "source": [
    "\"\"\"\n",
    "feature_importance_sorted = feature_importance_df.sort_values(by='Importance', ascending=False)\n",
    "feature_importance_sorted.to_csv(f'./saved_models/traditional_models/trained_on_{percentage}_subset/{df_selector.value}/{model_name_full}/pertubation_importances.csv')\n",
    "\"\"\""
   ]
  },
  {
   "cell_type": "code",
   "execution_count": 51,
   "metadata": {},
   "outputs": [],
   "source": [
    "# Call the function with your sorted DataFrame\n",
    "#plot_perturbation_importances(feature_importance_sorted, save_path=f'./saved_models/traditional_models/trained_on_{percentage}_subset/{df_selector.value}/{model_name_full}/top_20_pertubation_importances.png')"
   ]
  },
  {
   "cell_type": "markdown",
   "metadata": {},
   "source": [
    "Oversampling"
   ]
  },
  {
   "cell_type": "code",
   "execution_count": 52,
   "metadata": {},
   "outputs": [],
   "source": [
    "# The parameters can be adjusted based on your dataset size and feature complexity\n",
    "mlp_model = create_model_pipeline(MLPClassifier(hidden_layer_sizes=(100,), max_iter=1000, solver='adam', random_state=42), use_oversampling=True)\n",
    "\n",
    "# Generate model name\n",
    "model_name_full = generate_model_name(mlp_model)\n",
    "\n",
    "# Define save_path\n",
    "save_path = f'./saved_models/traditional_models/{model_name_full}/{df_selector.value}/trained_on_{percentage}_subset/'\n",
    "\n",
    "# Ensure the directory exists\n",
    "os.makedirs(save_path, exist_ok=True)"
   ]
  },
  {
   "cell_type": "code",
   "execution_count": 53,
   "metadata": {},
   "outputs": [
    {
     "name": "stdout",
     "output_type": "stream",
     "text": [
      "Fitting 5 folds for each of 36 candidates, totalling 180 fits\n",
      "Best Parameters:\n",
      "{'mlpclassifier__activation': 'tanh', 'mlpclassifier__alpha': 0.01, 'mlpclassifier__hidden_layer_sizes': (50,), 'mlpclassifier__learning_rate_init': 0.01}\n",
      "Best ROC-AUC: 0.70\n"
     ]
    }
   ],
   "source": [
    "# Define the parameter grid\n",
    "param_grid_mlp = {\n",
    "    'mlpclassifier__hidden_layer_sizes': [(50,), (100,), (100, 50)],\n",
    "    'mlpclassifier__alpha': [0.0001, 0.001, 0.01],\n",
    "    'mlpclassifier__activation': ['tanh', 'relu'],\n",
    "    'mlpclassifier__learning_rate_init': [0.001, 0.01]\n",
    "}\n",
    "\n",
    "# Set up GridSearchCV\n",
    "mlp_grid_search = GridSearchCV(mlp_model, param_grid_mlp, cv=5, scoring='roc_auc', verbose=1, n_jobs=-1)\n",
    "\n",
    "# Fit GridSearchCV\n",
    "mlp_grid_search.fit(X_train, y_train)\n",
    "\n",
    "# Best model after hyperparameter tuning\n",
    "best_mlp_model = mlp_grid_search.best_estimator_\n",
    "\n",
    "# Print best parameters and score\n",
    "print(\"Best Parameters:\")\n",
    "print(mlp_grid_search.best_params_)\n",
    "print(f\"Best ROC-AUC: {mlp_grid_search.best_score_:.2f}\")"
   ]
  },
  {
   "cell_type": "code",
   "execution_count": 54,
   "metadata": {},
   "outputs": [],
   "source": [
    "# Save the best parameters\n",
    "best_mlp_params = mlp_grid_search.best_params_\n",
    "\n",
    "# Save the best hyperparameters to a JSON file\n",
    "params_file_path = os.path.join(save_path, 'best_mlp_hyperparameters.json')\n",
    "with open(params_file_path, 'w') as f:\n",
    "    json.dump(best_mlp_params, f, indent=4)"
   ]
  },
  {
   "cell_type": "code",
   "execution_count": 55,
   "metadata": {},
   "outputs": [
    {
     "name": "stdout",
     "output_type": "stream",
     "text": [
      "Cross-validated Results for MLPClassifier_with_oversampling:\n",
      "Optimal Threshold: 0.87\n",
      "Accuracy: 0.86\n",
      "Precision: 0.19\n",
      "Recall: 0.18\n",
      "F1-score: 0.17\n",
      "Cross-validated AUC-ROC: 0.69\n",
      "Cross-validated AUPRC: 0.15\n",
      "Saved confusion matrix plot to ./saved_models/traditional_models/MLPClassifier_with_oversampling/Summarized Dynamic and all Static Features/trained_on_1%_subset/confusion_matrix_cv.png\n",
      "Saved cross-validated performance metrics to ./saved_models/traditional_models/MLPClassifier_with_oversampling/Summarized Dynamic and all Static Features/trained_on_1%_subset/cross_validated_performance_metrics.json\n",
      "MLP Classifier:\n",
      "Cross-validation scores: {'accuracy': 0.858254183627318, 'precision': 0.1887179487179487, 'recall': 0.18, 'f1': 0.17494949494949494}\n",
      "Cross-validated AUC-ROC: 0.69\n",
      "Cross-validated AUPRC: 0.15\n"
     ]
    },
    {
     "name": "stderr",
     "output_type": "stream",
     "text": [
      "C:\\Users\\soere\\AppData\\Local\\Temp\\ipykernel_31364\\3811502246.py:12: RuntimeWarning: invalid value encountered in divide\n",
      "  f_beta_scores = (1 + beta**2) * (precision * recall) / ((beta**2 * precision) + recall)\n"
     ]
    }
   ],
   "source": [
    "# Evaluate the MLP model using the defined cross-validation framework and scoring metrics\n",
    "cv_results_mlp, auc_roc_mlp, auprc_mlp = evaluate_model(mlp_model, X_train, y_train, scoring, beta=2, save_path=save_path)\n",
    "\n",
    "# Print the results for the MLP model\n",
    "print(\"MLP Classifier:\")\n",
    "print(\"Cross-validation scores:\", cv_results_mlp)\n",
    "print(f\"Cross-validated AUC-ROC: {auc_roc_mlp:.2f}\")\n",
    "print(f\"Cross-validated AUPRC: {auprc_mlp:.2f}\")"
   ]
  },
  {
   "cell_type": "code",
   "execution_count": 56,
   "metadata": {},
   "outputs": [
    {
     "name": "stdout",
     "output_type": "stream",
     "text": [
      "Cross-validated Results for MLPClassifier_without_oversampling:\n",
      "Optimal Threshold: 1.00\n",
      "Accuracy: 0.78\n",
      "Precision: 0.16\n",
      "Recall: 0.37\n",
      "F1-score: 0.22\n",
      "Cross-validated AUC-ROC: 0.69\n",
      "Cross-validated AUPRC: 0.18\n",
      "Saved confusion matrix plot to ./saved_models/traditional_models/MLPClassifier_with_oversampling/Summarized Dynamic and all Static Features/trained_on_1%_subset/confusion_matrix_cv.png\n",
      "Saved cross-validated performance metrics to ./saved_models/traditional_models/MLPClassifier_with_oversampling/Summarized Dynamic and all Static Features/trained_on_1%_subset/cross_validated_performance_metrics.json\n",
      "MLP Classifier with Hyperparameter Tuning:\n",
      "Cross-validation scores: {'accuracy': 0.7831298055178652, 'precision': 0.16473748473748473, 'recall': 0.36666666666666664, 'f1': 0.21949656750572083}\n",
      "Cross-validated AUC-ROC: 0.69\n",
      "Cross-validated AUPRC: 0.18\n"
     ]
    },
    {
     "name": "stderr",
     "output_type": "stream",
     "text": [
      "C:\\Users\\soere\\AppData\\Local\\Temp\\ipykernel_31364\\3811502246.py:12: RuntimeWarning: invalid value encountered in divide\n",
      "  f_beta_scores = (1 + beta**2) * (precision * recall) / ((beta**2 * precision) + recall)\n"
     ]
    }
   ],
   "source": [
    "# Evaluate model with tuning\n",
    "cv_results_mlp, auc_roc_mlp, auprc_mlp = evaluate_model(best_mlp_model, X_train, y_train, scoring, beta=2, save_path=save_path)\n",
    "print(\"MLP Classifier with Hyperparameter Tuning:\")\n",
    "print(\"Cross-validation scores:\", cv_results_mlp)\n",
    "print(f\"Cross-validated AUC-ROC: {auc_roc_mlp:.2f}\")\n",
    "print(f\"Cross-validated AUPRC: {auprc_mlp:.2f}\")"
   ]
  },
  {
   "cell_type": "markdown",
   "metadata": {},
   "source": [
    "Train on whole Data"
   ]
  },
  {
   "cell_type": "code",
   "execution_count": 57,
   "metadata": {},
   "outputs": [
    {
     "name": "stdout",
     "output_type": "stream",
     "text": [
      "\n",
      "Classification Report for Model Trained on Full Dataset:\n",
      "              precision    recall  f1-score   support\n",
      "\n",
      "           0       0.92      0.99      0.95       131\n",
      "           1       0.00      0.00      0.00        12\n",
      "\n",
      "    accuracy                           0.91       143\n",
      "   macro avg       0.46      0.50      0.48       143\n",
      "weighted avg       0.84      0.91      0.87       143\n",
      "\n",
      "Optimal Threshold: 1.00\n",
      "AUC-ROC (Full Model): 0.56\n",
      "AUPRC (Full Model): 0.12\n",
      "Saved confusion matrix plot to ./saved_models/traditional_models/MLPClassifier_with_oversampling/Summarized Dynamic and all Static Features/trained_on_1%_subset/conf_matrix_no_cross_validation.png\n",
      "Saved classification report to ./saved_models/traditional_models/MLPClassifier_with_oversampling/Summarized Dynamic and all Static Features/trained_on_1%_subset/performance_metrics_no_cv.json\n"
     ]
    },
    {
     "name": "stderr",
     "output_type": "stream",
     "text": [
      "C:\\Users\\soere\\AppData\\Local\\Temp\\ipykernel_31364\\3375389213.py:6: RuntimeWarning: invalid value encountered in divide\n",
      "  f_beta_scores = (1 + beta**2) * (precision * recall) / ((beta**2 * precision) + recall)\n"
     ]
    },
    {
     "data": {
      "text/plain": [
       "['./saved_models/traditional_models/MLPClassifier_with_oversampling/Summarized Dynamic and all Static Features/trained_on_1%_subset/MLPClassifier_with_oversampling.joblib']"
      ]
     },
     "execution_count": 57,
     "metadata": {},
     "output_type": "execute_result"
    }
   ],
   "source": [
    "# Fit the model on the entire training set after cross-validation\n",
    "best_mlp_model.fit(X_train, y_train)\n",
    "\n",
    "# Evaluate the fully trained model on the test set and print metrics\n",
    "auc_roc_full, auprc_full = evaluate_full_model(best_mlp_model, X_test, y_test, beta=2, save_path=save_path)\n",
    "\n",
    "# Save the fully trained model (not the one used in cross-validation)\n",
    "dump(best_mlp_model, save_path + f\"{model_name_full}.joblib\")"
   ]
  },
  {
   "cell_type": "code",
   "execution_count": 58,
   "metadata": {},
   "outputs": [],
   "source": [
    "# Apply the function to the model\n",
    "importances = perturbation_feature_importance(best_mlp_model, X_train, y_train)\n",
    "feature_names = X_train.columns  \n",
    "feature_importance_df = pd.DataFrame({\n",
    "    'Feature': feature_names,\n",
    "    'Importance': importances\n",
    "})\n",
    "\n",
    "feature_importance_sorted = feature_importance_df.sort_values(by='Importance', ascending=False)\n",
    "feature_importance_sorted.to_csv(f'./saved_models/traditional_models//{model_name_full}/{df_selector.value}/trained_on_{percentage}_subset/pertubation_importances.csv')"
   ]
  },
  {
   "cell_type": "code",
   "execution_count": 59,
   "metadata": {},
   "outputs": [
    {
     "name": "stdout",
     "output_type": "stream",
     "text": [
      "Feature importance plot saved to ./saved_models/traditional_models/MLPClassifier_with_oversampling/Summarized Dynamic and all Static Features/trained_on_1%_subset/top_20_pertubation_importances.png\n"
     ]
    },
    {
     "data": {
      "image/png": "[encoded data removed]",
      "text/plain": [
       "<Figure size 1000x800 with 1 Axes>"
      ]
     },
     "metadata": {},
     "output_type": "display_data"
    }
   ],
   "source": [
    "# Call the function with the sorted DataFrame\n",
    "plot_perturbation_importances(feature_importance_sorted, save_path=f'./saved_models/traditional_models/{model_name_full}/{df_selector.value}/trained_on_{percentage}_subset/top_20_pertubation_importances.png')"
   ]
  }
 ],
 "metadata": {
  "kernelspec": {
   "display_name": "Python 3",
   "language": "python",
   "name": "python3"
  },
  "language_info": {
   "codemirror_mode": {
    "name": "ipython",
    "version": 3
   },
   "file_extension": ".py",
   "mimetype": "text/x-python",
   "name": "python",
   "nbconvert_exporter": "python",
   "pygments_lexer": "ipython3",
   "version": "3.11.3"
  }
 },
 "nbformat": 4,
 "nbformat_minor": 2
}
